{
 "cells": [
  {
   "cell_type": "code",
   "execution_count": 17,
   "metadata": {},
   "outputs": [],
   "source": [
    "import pandas as pd"
   ]
  },
  {
   "cell_type": "code",
   "execution_count": 25,
   "metadata": {},
   "outputs": [
    {
     "name": "stdout",
     "output_type": "stream",
     "text": [
      "sub name of  Anxiety and Dislike in Los Angeles (1998)\n",
      "Anxiety and Dislike in Los Angeles (1998)\n",
      "sub name of  Rival Gangs of New York\n",
      "Rival Gangs of New York\n",
      "sub name of  Switched\n",
      "Switched\n",
      "sub name of  Undercover Soft (1996)\n",
      "Undercover Soft (1996)\n",
      "sub name of  Flutter Effect, The (2004)\n",
      "Flutter Effect, The (2004)\n"
     ]
    },
    {
     "ename": "JSONDecodeError",
     "evalue": "Expecting property name enclosed in double quotes: line 4 column 1 (char 311)",
     "output_type": "error",
     "traceback": [
      "\u001b[1;31m---------------------------------------------------------------------------\u001b[0m",
      "\u001b[1;31mJSONDecodeError\u001b[0m                           Traceback (most recent call last)",
      "Cell \u001b[1;32mIn[25], line 62\u001b[0m\n\u001b[0;32m     60\u001b[0m     \u001b[39mprint\u001b[39m(\u001b[39m'\u001b[39m\u001b[39m1 choice was not returned\u001b[39m\u001b[39m'\u001b[39m)\n\u001b[0;32m     61\u001b[0m \u001b[39mfor\u001b[39;00m choice \u001b[39min\u001b[39;00m choices:\n\u001b[1;32m---> 62\u001b[0m     desc \u001b[39m=\u001b[39m json\u001b[39m.\u001b[39;49mloads(\u001b[39mstr\u001b[39;49m(choice[\u001b[39m'\u001b[39;49m\u001b[39mmessage\u001b[39;49m\u001b[39m'\u001b[39;49m][\u001b[39m'\u001b[39;49m\u001b[39mcontent\u001b[39;49m\u001b[39m'\u001b[39;49m]))\n\u001b[0;32m     63\u001b[0m     \u001b[39mif\u001b[39;00m \u001b[39mtype\u001b[39m(desc) \u001b[39m==\u001b[39m \u001b[39mtype\u001b[39m(\u001b[39mlist\u001b[39m()):\n\u001b[0;32m     64\u001b[0m         desc \u001b[39m=\u001b[39m desc[\u001b[39m0\u001b[39m]\n",
      "File \u001b[1;32mc:\\Program Files\\Python310\\lib\\json\\__init__.py:346\u001b[0m, in \u001b[0;36mloads\u001b[1;34m(s, cls, object_hook, parse_float, parse_int, parse_constant, object_pairs_hook, **kw)\u001b[0m\n\u001b[0;32m    341\u001b[0m     s \u001b[39m=\u001b[39m s\u001b[39m.\u001b[39mdecode(detect_encoding(s), \u001b[39m'\u001b[39m\u001b[39msurrogatepass\u001b[39m\u001b[39m'\u001b[39m)\n\u001b[0;32m    343\u001b[0m \u001b[39mif\u001b[39;00m (\u001b[39mcls\u001b[39m \u001b[39mis\u001b[39;00m \u001b[39mNone\u001b[39;00m \u001b[39mand\u001b[39;00m object_hook \u001b[39mis\u001b[39;00m \u001b[39mNone\u001b[39;00m \u001b[39mand\u001b[39;00m\n\u001b[0;32m    344\u001b[0m         parse_int \u001b[39mis\u001b[39;00m \u001b[39mNone\u001b[39;00m \u001b[39mand\u001b[39;00m parse_float \u001b[39mis\u001b[39;00m \u001b[39mNone\u001b[39;00m \u001b[39mand\u001b[39;00m\n\u001b[0;32m    345\u001b[0m         parse_constant \u001b[39mis\u001b[39;00m \u001b[39mNone\u001b[39;00m \u001b[39mand\u001b[39;00m object_pairs_hook \u001b[39mis\u001b[39;00m \u001b[39mNone\u001b[39;00m \u001b[39mand\u001b[39;00m \u001b[39mnot\u001b[39;00m kw):\n\u001b[1;32m--> 346\u001b[0m     \u001b[39mreturn\u001b[39;00m _default_decoder\u001b[39m.\u001b[39;49mdecode(s)\n\u001b[0;32m    347\u001b[0m \u001b[39mif\u001b[39;00m \u001b[39mcls\u001b[39m \u001b[39mis\u001b[39;00m \u001b[39mNone\u001b[39;00m:\n\u001b[0;32m    348\u001b[0m     \u001b[39mcls\u001b[39m \u001b[39m=\u001b[39m JSONDecoder\n",
      "File \u001b[1;32mc:\\Program Files\\Python310\\lib\\json\\decoder.py:337\u001b[0m, in \u001b[0;36mJSONDecoder.decode\u001b[1;34m(self, s, _w)\u001b[0m\n\u001b[0;32m    332\u001b[0m \u001b[39mdef\u001b[39;00m \u001b[39mdecode\u001b[39m(\u001b[39mself\u001b[39m, s, _w\u001b[39m=\u001b[39mWHITESPACE\u001b[39m.\u001b[39mmatch):\n\u001b[0;32m    333\u001b[0m     \u001b[39m\"\"\"Return the Python representation of ``s`` (a ``str`` instance\u001b[39;00m\n\u001b[0;32m    334\u001b[0m \u001b[39m    containing a JSON document).\u001b[39;00m\n\u001b[0;32m    335\u001b[0m \n\u001b[0;32m    336\u001b[0m \u001b[39m    \"\"\"\u001b[39;00m\n\u001b[1;32m--> 337\u001b[0m     obj, end \u001b[39m=\u001b[39m \u001b[39mself\u001b[39;49m\u001b[39m.\u001b[39;49mraw_decode(s, idx\u001b[39m=\u001b[39;49m_w(s, \u001b[39m0\u001b[39;49m)\u001b[39m.\u001b[39;49mend())\n\u001b[0;32m    338\u001b[0m     end \u001b[39m=\u001b[39m _w(s, end)\u001b[39m.\u001b[39mend()\n\u001b[0;32m    339\u001b[0m     \u001b[39mif\u001b[39;00m end \u001b[39m!=\u001b[39m \u001b[39mlen\u001b[39m(s):\n",
      "File \u001b[1;32mc:\\Program Files\\Python310\\lib\\json\\decoder.py:353\u001b[0m, in \u001b[0;36mJSONDecoder.raw_decode\u001b[1;34m(self, s, idx)\u001b[0m\n\u001b[0;32m    344\u001b[0m \u001b[39m\"\"\"Decode a JSON document from ``s`` (a ``str`` beginning with\u001b[39;00m\n\u001b[0;32m    345\u001b[0m \u001b[39ma JSON document) and return a 2-tuple of the Python\u001b[39;00m\n\u001b[0;32m    346\u001b[0m \u001b[39mrepresentation and the index in ``s`` where the document ended.\u001b[39;00m\n\u001b[1;32m   (...)\u001b[0m\n\u001b[0;32m    350\u001b[0m \n\u001b[0;32m    351\u001b[0m \u001b[39m\"\"\"\u001b[39;00m\n\u001b[0;32m    352\u001b[0m \u001b[39mtry\u001b[39;00m:\n\u001b[1;32m--> 353\u001b[0m     obj, end \u001b[39m=\u001b[39m \u001b[39mself\u001b[39;49m\u001b[39m.\u001b[39;49mscan_once(s, idx)\n\u001b[0;32m    354\u001b[0m \u001b[39mexcept\u001b[39;00m \u001b[39mStopIteration\u001b[39;00m \u001b[39mas\u001b[39;00m err:\n\u001b[0;32m    355\u001b[0m     \u001b[39mraise\u001b[39;00m JSONDecodeError(\u001b[39m\"\u001b[39m\u001b[39mExpecting value\u001b[39m\u001b[39m\"\u001b[39m, s, err\u001b[39m.\u001b[39mvalue) \u001b[39mfrom\u001b[39;00m \u001b[39mNone\u001b[39m\n",
      "\u001b[1;31mJSONDecodeError\u001b[0m: Expecting property name enclosed in double quotes: line 4 column 1 (char 311)"
     ]
    }
   ],
   "source": [
    "import os\n",
    "import openai\n",
    "import json\n",
    "\n",
    "df = pd.read_json('data/metadata/top_rated_1000.json')\n",
    "\n",
    "# try to load the api key from file\n",
    "secrets_filename = os.path.join(os.path.abspath(\n",
    "    os.path.dirname('eda.ipynb')), 'ai_posters/secret2.txt')\n",
    "try:\n",
    "    with open(secrets_filename, 'r') as f:\n",
    "        api_key = f.read().strip()\n",
    "        openai.api_key = api_key\n",
    "except Exception as e:\n",
    "    print(e)\n",
    "\n",
    "\n",
    "offset = 0\n",
    "ctr = 0\n",
    "limit = 20\n",
    "\n",
    "missing_desc = df[df['description'].isnull()]\n",
    "for idx, row in missing_desc.iterrows():\n",
    "    if ctr + offset >= limit:\n",
    "        break\n",
    "    ctr += 1\n",
    "    movie_json_str = row.to_json(orient='records')\n",
    "    # print(movie_json_str)\n",
    "    prompt = \"\"\"\n",
    "    for the movie and movie_id, describe the plot in 50 words or less without spoilers. \n",
    "    Swap all names used for similar ones including the title of the movie, any character names,\n",
    "    and any location names. do not mention the rating metadata, only focus on the movie's \n",
    "    plot and characters. Make sure your ouput is valid json with opening and closing brackets\n",
    "    ###json begins\n",
    "    \"\"\"\n",
    "    prompt += movie_json_str\n",
    "    prompt += '\\n###json ends'\n",
    "\n",
    "    # print(prompt)\n",
    "\n",
    "    res = openai.ChatCompletion.create(\n",
    "        model=\"gpt-3.5-turbo\",\n",
    "        messages=[{\"role\": \"system\", \"content\": \"\"\"You are a helpful assistant that\n",
    "                transforms movie titles and descriptions. Output is json with \n",
    "                two fields: substituted_name, and description. Ensure that \n",
    "                the fields are correctly formatted as .json. Only return one object.\"\"\"},\n",
    "                  {\"role\": \"user\", \"content\": prompt}\n",
    "                  ],\n",
    "        temperature=0.5,\n",
    "        max_tokens=1024,\n",
    "        n=1,\n",
    "        stop=None,\n",
    "        timeout=30,\n",
    "        presence_penalty=0.5,\n",
    "        frequency_penalty=0.5\n",
    "    )\n",
    "    # print(res)\n",
    "    choices = res['choices']\n",
    "    if len(choices) != 1:\n",
    "        print('1 choice was not returned')\n",
    "    for choice in choices:\n",
    "        desc = json.loads(str(choice['message']['content']))\n",
    "        if type(desc) == type(list()):\n",
    "            desc = desc[0]\n",
    "        # print(desc)\n",
    "        sub_name = desc['substituted_name']\n",
    "        description = desc['description']\n",
    "        print('sub name of ', sub_name)\n",
    "        df.loc[df.name == row['name'], 'substituted_name'] = sub_name\n",
    "        df.loc[df.name == row['name'], 'description'] = description\n",
    "        print(df.loc[idx]['substituted_name'])\n",
    "\n",
    "df.to_json('data/metadata/top_rated_1000.json', orient='records')\n"
   ]
  },
  {
   "cell_type": "code",
   "execution_count": null,
   "metadata": {},
   "outputs": [],
   "source": []
  }
 ],
 "metadata": {
  "kernelspec": {
   "display_name": "Python 3",
   "language": "python",
   "name": "python3"
  },
  "language_info": {
   "codemirror_mode": {
    "name": "ipython",
    "version": 3
   },
   "file_extension": ".py",
   "mimetype": "text/x-python",
   "name": "python",
   "nbconvert_exporter": "python",
   "pygments_lexer": "ipython3",
   "version": "3.10.5"
  },
  "orig_nbformat": 4
 },
 "nbformat": 4,
 "nbformat_minor": 2
}
