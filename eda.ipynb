{
 "cells": [
  {
   "cell_type": "code",
   "execution_count": null,
   "metadata": {},
   "outputs": [],
   "source": [
    "import pandas as pd\n",
    "import numpy as np"
   ]
  },
  {
   "cell_type": "code",
   "execution_count": null,
   "metadata": {},
   "outputs": [],
   "source": [
    "# returns an array of the movie_id for all movies user has rated\n",
    "def get_user_movies(user_id: int):\n",
    "    return set([int(x) for x in ratings_df[ratings_df['user_id'] == user_id].index])\n",
    "print(get_user_movies(4))"
   ]
  },
  {
   "cell_type": "code",
   "execution_count": null,
   "metadata": {},
   "outputs": [],
   "source": [
    "def get_common_movies(user_id1: int, user_id2: int):\n",
    "    user1_movies = set(get_user_movies(user_id1))\n",
    "    user2_movies = set(get_user_movies(user_id2))\n",
    "    return user1_movies.intersection(user2_movies)\n",
    "\n",
    "# get_common_movies(1, 5)"
   ]
  },
  {
   "cell_type": "code",
   "execution_count": null,
   "metadata": {},
   "outputs": [],
   "source": [
    "def get_next_avail_user_id(df:pd.DataFrame):\n",
    "    return df['user_id'].max()\n",
    "\n",
    "# get_next_avail_user_id(ratings_df)"
   ]
  },
  {
   "cell_type": "code",
   "execution_count": null,
   "metadata": {},
   "outputs": [],
   "source": [
    "def get_user_movie_rating(user_id:int,movie_id:int):\n",
    "    return int(ratings_df[(ratings_df['user_id'] == user_id) & (ratings_df.index == movie_id)]['rating'])\n",
    "\n",
    "# print(get_user_movie_rating(4, 34))"
   ]
  },
  {
   "cell_type": "code",
   "execution_count": null,
   "metadata": {},
   "outputs": [],
   "source": [
    "# get highest rated movie from user2 ratings with no rating for user1\n",
    "def get_movie_recommendation(user1_id:int, user2_id:int) -> int:\n",
    "    common_movies = get_common_movies(user1_id, user2_id)\n",
    "    movies_no_user1_rating = get_user_movies(user2_id) - common_movies\n",
    "    movie_id_rating_pairs = [(movie_id, get_user_movie_rating(user2_id, movie_id)) for movie_id in movies_no_user1_rating]\n",
    "    # sort by ratings\n",
    "    movie_id_rating_pairs.sort(key=lambda pair: pair[1], reverse=True)\n",
    "    return movie_id_rating_pairs\n",
    "\n",
    "print(get_movie_title(get_movie_recommendation(71569, 7).pop()[0]))"
   ]
  },
  {
   "cell_type": "code",
   "execution_count": null,
   "metadata": {},
   "outputs": [],
   "source": [
    "def get_most_similar_user(user_id: int):\n",
    "    comparisons = 0\n",
    "    most_similar_user = None\n",
    "    most_similar_score = float(0)\n",
    "    %time\n",
    "    for id in ratings_df['user_id'].unique():\n",
    "        similarity = get_similarity_score(user_id, id)\n",
    "        if similarity != None and user_id != id:\n",
    "            if similarity > most_similar_score:\n",
    "                if similarity == float(1) and len(get_common_movies(user_id, id)) < 4:\n",
    "                    continue\n",
    "                most_similar_user = id\n",
    "                most_similar_score = similarity\n",
    "                print(f'updated most similar ({most_similar_user} with score of {most_similar_score})')\n",
    "        comparisons += 1\n",
    "        if comparisons >= 100:\n",
    "            return most_similar_user\n",
    "\n",
    "# get_most_similar_user(5)"
   ]
  },
  {
   "cell_type": "code",
   "execution_count": null,
   "metadata": {},
   "outputs": [],
   "source": [
    "# return the top 30 most popular movies to use as the prompt for user ratings\n",
    "output_file = 'recs-app/public/top_rated_movies30.json'\n",
    "\n",
    "top_rated_movies.sort_values(by='Count', ascending=False, inplace=True)\n",
    "top_rated_movies_names = top_rated_movies.index.values\n",
    "top_rated_movies_slice = top_rated_movies.head(10)\n",
    "top_rated_movies_slice.columns = top_rated_movies_slice.columns.get_level_values(0)\n",
    "print(top_rated_movies)\n",
    "\n",
    "top_rated_movies_slice.to_json(output_file, orient='index')\n"
   ]
  },
  {
   "cell_type": "code",
   "execution_count": null,
   "metadata": {},
   "outputs": [],
   "source": [
    "def get_naive_recommendation(user_id: int):\n",
    "    user2_id = get_most_similar_user(user_id)\n",
    "    recs = get_movie_recommendation(user_id, user2_id)\n",
    "    for rec in recs:\n",
    "        print(get_movie_title(rec[0]))\n",
    "\n",
    "# get_naive_recommendation(6)"
   ]
  },
  {
   "cell_type": "code",
   "execution_count": null,
   "metadata": {},
   "outputs": [],
   "source": [
    "# add ratings to the dataset to make predictions\n",
    "rating_pairs = ((1884, 5),(4006,1),(48516,5),(608,5),(45672,2))\n",
    "def append_new_user_with_rating_pairs(r_pairs):\n",
    "    new_user_id = get_next_avail_user_id(ratings_df)\n",
    "    ratings = [p[1] for p in r_pairs]\n",
    "    movie_ids = [p[0] for p in r_pairs]\n",
    "    user_ids = [new_user_id for _ in range(0,len(r_pairs))]\n",
    "    timestamps = [None for _ in range(0,len(r_pairs))]\n",
    "    new_data = {\n",
    "        'user_id': user_ids,\n",
    "        'movie_id': movie_ids,\n",
    "        'rating': ratings,\n",
    "        'timestamp': timestamps\n",
    "    }\n",
    "\n",
    "    new_ratings_df = pd.DataFrame(new_data)\n",
    "    appended_ratings_df = pd.concat([ratings_df, new_ratings_df])\n",
    "    print(appended_ratings_df)\n",
    "    # print(new_ratings_df)\n",
    "    # print(ratings_df)\n",
    "\n",
    "append_new_user_with_rating_pairs(rating_pairs)\n",
    "get_naive_recommendation(71567)"
   ]
  },
  {
   "cell_type": "code",
   "execution_count": null,
   "metadata": {},
   "outputs": [],
   "source": [
    "from scipy import stats\n",
    "\n",
    "def get_movie_rating_count_percentile(movie_id:int):\n",
    "    movie_name = get_movie_title(movie_id)\n",
    "    movie_num_ratings = grouped_df[grouped_df.index == movie_name]['Count']\n",
    "    percentile = stats.percentileofscore(grouped_df['Count'], movie_num_ratings)\n",
    "    \n",
    "    print(f'{movie_name} has been rated {int(movie_num_ratings)} times, placing it in the {percentile[0]}th percentile')\n",
    "    return percentile\n",
    "\n",
    "# print(grouped_df.index)\n",
    "get_movie_rating_count_percentile(33750)\n",
    "get_movie_rating_count_percentile(33639)\n",
    "get_movie_rating_count_percentile(1884)\n",
    "get_movie_rating_count_percentile(33621)\n",
    "get_movie_rating_count_percentile(33615)\n",
    "get_movie_rating_count_percentile(296)\n"
   ]
  },
  {
   "cell_type": "code",
   "execution_count": null,
   "metadata": {},
   "outputs": [],
   "source": [
    "from adjustText import adjust_text\n",
    "\n",
    "\n",
    "def plot_users_ratings(user1_id: int, user2_id: int):\n",
    "    common_movies = get_common_movies(user1_id, user2_id)\n",
    "    user_1_ratings = [get_user_movie_rating(\n",
    "        user1_id, m) for m in common_movies]\n",
    "    user_2_ratings = [get_user_movie_rating(\n",
    "        user2_id, m) for m in common_movies]\n",
    "    movie_titles = [get_movie_title(movie_id) for movie_id in common_movies]\n",
    "    new_data = {\n",
    "        'titles': movie_titles,\n",
    "        'user1_ratings': user_1_ratings,\n",
    "        'user2_ratings': user_2_ratings,\n",
    "    }\n",
    "    users_common_ratings_df = pd.DataFrame(data=new_data)\n",
    "    ax = users_common_ratings_df.plot.scatter(\n",
    "        x='user1_ratings', y='user2_ratings')\n",
    "\n",
    "    texts = []\n",
    "\n",
    "    for i, title in enumerate(movie_titles):\n",
    "        texts.append(ax.text(user_1_ratings[i], user_2_ratings[i], title))\n",
    "\n",
    "    adjust_text(texts)\n",
    "    ax.set_xlim(0.25, 5.25)\n",
    "    ax.set_ylim(0.25, 5.25)\n",
    "    ax.plot()\n",
    "\n",
    "\n",
    "plot_users_ratings(5, 19)\n"
   ]
  },
  {
   "cell_type": "code",
   "execution_count": 4,
   "metadata": {},
   "outputs": [
    {
     "name": "stdout",
     "output_type": "stream",
     "text": [
      "Error occured while instantiating datafarmes: [Errno 2] No such file or directory: 'data/ml-10M100K/movies.dat'\n"
     ]
    },
    {
     "ename": "AttributeError",
     "evalue": "'MovieRecommender' object has no attribute 'movies_df'",
     "output_type": "error",
     "traceback": [
      "\u001b[1;31m---------------------------------------------------------------------------\u001b[0m",
      "\u001b[1;31mAttributeError\u001b[0m                            Traceback (most recent call last)",
      "\u001b[1;32mc:\\Users\\John\\Desktop\\movie-recs\\eda.ipynb Cell 13\u001b[0m in \u001b[0;36m<cell line: 6>\u001b[1;34m()\u001b[0m\n\u001b[0;32m      <a href='vscode-notebook-cell:/c%3A/Users/John/Desktop/movie-recs/eda.ipynb#X15sZmlsZQ%3D%3D?line=3'>4</a>\u001b[0m movies_file \u001b[39m=\u001b[39m \u001b[39m'\u001b[39m\u001b[39mdata/ml-10M100K/movies.dat\u001b[39m\u001b[39m'\u001b[39m\n\u001b[0;32m      <a href='vscode-notebook-cell:/c%3A/Users/John/Desktop/movie-recs/eda.ipynb#X15sZmlsZQ%3D%3D?line=4'>5</a>\u001b[0m ratings_file \u001b[39m=\u001b[39m \u001b[39m'\u001b[39m\u001b[39mdata/ml-10M100K/ratings.dat\u001b[39m\u001b[39m'\u001b[39m\n\u001b[1;32m----> <a href='vscode-notebook-cell:/c%3A/Users/John/Desktop/movie-recs/eda.ipynb#X15sZmlsZQ%3D%3D?line=5'>6</a>\u001b[0m movie_rec \u001b[39m=\u001b[39m MovieRecommender(movies_filename\u001b[39m=\u001b[39;49mmovies_file, ratings_filename\u001b[39m=\u001b[39;49mratings_file)\n",
      "File \u001b[1;32mc:\\Users\\John\\Desktop\\movie-recs\\movie_recommender.py:21\u001b[0m, in \u001b[0;36mMovieRecommender.__init__\u001b[1;34m(self, movies_filename, ratings_filename)\u001b[0m\n\u001b[0;32m     18\u001b[0m     \u001b[39mprint\u001b[39m(\u001b[39mf\u001b[39m\u001b[39m'\u001b[39m\u001b[39mError occured while instantiating datafarmes: \u001b[39m\u001b[39m{\u001b[39;00me\u001b[39m}\u001b[39;00m\u001b[39m'\u001b[39m)\n\u001b[0;32m     20\u001b[0m \u001b[39m# join the two dataframes and group to determine metadata\u001b[39;00m\n\u001b[1;32m---> 21\u001b[0m \u001b[39mself\u001b[39m\u001b[39m.\u001b[39mgrouped_df \u001b[39m=\u001b[39m \u001b[39mself\u001b[39;49m\u001b[39m.\u001b[39;49mmovies_df\u001b[39m.\u001b[39mjoin(\u001b[39mself\u001b[39m\u001b[39m.\u001b[39mratings_df, on\u001b[39m=\u001b[39m\u001b[39m'\u001b[39m\u001b[39mmovie_id\u001b[39m\u001b[39m'\u001b[39m)\u001b[39m.\u001b[39mgroupby(\n\u001b[0;32m     22\u001b[0m     \u001b[39m'\u001b[39m\u001b[39mname\u001b[39m\u001b[39m'\u001b[39m)\u001b[39m.\u001b[39magg({\u001b[39m'\u001b[39m\u001b[39mrating\u001b[39m\u001b[39m'\u001b[39m: [\u001b[39m'\u001b[39m\u001b[39mmean\u001b[39m\u001b[39m'\u001b[39m, \u001b[39m'\u001b[39m\u001b[39mcount\u001b[39m\u001b[39m'\u001b[39m]})\n\u001b[0;32m     23\u001b[0m \u001b[39mself\u001b[39m\u001b[39m.\u001b[39mgrouped_df[\u001b[39m'\u001b[39m\u001b[39mAvgRating\u001b[39m\u001b[39m'\u001b[39m] \u001b[39m=\u001b[39m \u001b[39mself\u001b[39m\u001b[39m.\u001b[39mgrouped_df[(\u001b[39m'\u001b[39m\u001b[39mrating\u001b[39m\u001b[39m'\u001b[39m, \u001b[39m'\u001b[39m\u001b[39mmean\u001b[39m\u001b[39m'\u001b[39m)]\n\u001b[0;32m     24\u001b[0m \u001b[39mself\u001b[39m\u001b[39m.\u001b[39mgrouped_df[\u001b[39m'\u001b[39m\u001b[39mCount\u001b[39m\u001b[39m'\u001b[39m] \u001b[39m=\u001b[39m \u001b[39mself\u001b[39m\u001b[39m.\u001b[39mgrouped_df[(\u001b[39m'\u001b[39m\u001b[39mrating\u001b[39m\u001b[39m'\u001b[39m, \u001b[39m'\u001b[39m\u001b[39mcount\u001b[39m\u001b[39m'\u001b[39m)]\n",
      "\u001b[1;31mAttributeError\u001b[0m: 'MovieRecommender' object has no attribute 'movies_df'"
     ]
    }
   ],
   "source": [
    "from movie_recommender import MovieRecommender\n",
    "\n",
    "\n",
    "movies_file = 'data/ml-10M100K/movies.dat'\n",
    "ratings_file = 'data/ml-10M100K/ratings.dat'\n",
    "movie_rec = MovieRecommender(movies_filename=movies_file, ratings_filename=ratings_file)"
   ]
  },
  {
   "cell_type": "code",
   "execution_count": null,
   "metadata": {},
   "outputs": [],
   "source": [
    "movie_rec.handle_recommendation_request(liked_movies=(1, 2, 19, 34), disliked_movies=())"
   ]
  },
  {
   "cell_type": "code",
   "execution_count": 5,
   "metadata": {},
   "outputs": [
    {
     "ename": "NameError",
     "evalue": "name 'movie_rec' is not defined",
     "output_type": "error",
     "traceback": [
      "\u001b[1;31m---------------------------------------------------------------------------\u001b[0m",
      "\u001b[1;31mNameError\u001b[0m                                 Traceback (most recent call last)",
      "\u001b[1;32mc:\\Users\\John\\Desktop\\movie-recs\\eda.ipynb Cell 15\u001b[0m in \u001b[0;36m<cell line: 1>\u001b[1;34m()\u001b[0m\n\u001b[1;32m----> <a href='vscode-notebook-cell:/c%3A/Users/John/Desktop/movie-recs/eda.ipynb#X20sZmlsZQ%3D%3D?line=0'>1</a>\u001b[0m movie_rec\u001b[39m.\u001b[39mtop_rated_movies\u001b[39m.\u001b[39msort_values(\n\u001b[0;32m      <a href='vscode-notebook-cell:/c%3A/Users/John/Desktop/movie-recs/eda.ipynb#X20sZmlsZQ%3D%3D?line=1'>2</a>\u001b[0m             by\u001b[39m=\u001b[39m\u001b[39m'\u001b[39m\u001b[39mCount\u001b[39m\u001b[39m'\u001b[39m, ascending\u001b[39m=\u001b[39m\u001b[39mFalse\u001b[39;00m, inplace\u001b[39m=\u001b[39m\u001b[39mTrue\u001b[39;00m)\n\u001b[0;32m      <a href='vscode-notebook-cell:/c%3A/Users/John/Desktop/movie-recs/eda.ipynb#X20sZmlsZQ%3D%3D?line=2'>3</a>\u001b[0m top_rated_movies_names \u001b[39m=\u001b[39m movie_rec\u001b[39m.\u001b[39mtop_rated_movies\u001b[39m.\u001b[39mindex\u001b[39m.\u001b[39mvalues\n\u001b[0;32m      <a href='vscode-notebook-cell:/c%3A/Users/John/Desktop/movie-recs/eda.ipynb#X20sZmlsZQ%3D%3D?line=3'>4</a>\u001b[0m length \u001b[39m=\u001b[39m \u001b[39m500\u001b[39m\n",
      "\u001b[1;31mNameError\u001b[0m: name 'movie_rec' is not defined"
     ]
    }
   ],
   "source": [
    "movie_rec.top_rated_movies.sort_values(\n",
    "            by='Count', ascending=False, inplace=True)\n",
    "top_rated_movies_names = movie_rec.top_rated_movies.index.values\n",
    "length = 500\n",
    "movie_rec.top_rated_movies_slice = movie_rec.top_rated_movies.head(length)\n",
    "movie_rec.top_rated_movies_slice.columns = movie_rec.top_rated_movies_slice.columns.get_level_values(0)\n",
    "print(movie_rec.top_rated_movies_slice.columns)\n",
    "movie_rec.top_rated_movies_slice = movie_rec.top_rated_movies_slice.drop('rating', axis=1)\n",
    "# Define a lambda function to get the movie_id for a given movie name\n",
    "get_movie_id = lambda movie_name: movie_rec.movies_df[movie_rec.movies_df['name'] == movie_name].index.values[0]\n",
    "\n",
    "# Apply the lambda function to each row of the DataFrame to set the movie_id\n",
    "movie_rec.top_rated_movies_slice['movie_id'] = movie_rec.top_rated_movies_slice.index.map(get_movie_id)\n",
    "movie_rec.top_rated_movies_slice['title'] = movie_rec.top_rated_movies_slice.index\n",
    "movie_rec.top_rated_movies_slice = movie_rec.top_rated_movies_slice.set_index('movie_id')\n",
    "\n",
    "print(movie_rec.top_rated_movies_slice)\n",
    "output_file='data/top_rated_{}.json'.format(length)\n",
    "\n",
    "movie_rec.top_rated_movies_slice.to_json(output_file, orient='index')"
   ]
  },
  {
   "cell_type": "code",
   "execution_count": null,
   "metadata": {},
   "outputs": [],
   "source": [
    "from urllib.parse import quote\n",
    "from urllib3 import disable_warnings\n",
    "from urllib3.exceptions import InsecureRequestWarning\n",
    "import requests\n",
    "import bs4\n",
    "\n",
    "def pull_movie_poster(movie_id: int) -> None:\n",
    "    try:\n",
    "        disable_warnings(InsecureRequestWarning)\n",
    "        title = movie_rec.get_movie_title_with_year(movie_id)\n",
    "        clean_title = movie_rec.get_movie_title(movie_id)\n",
    "        base_url = 'https://imdb.com/find/?q='\n",
    "        base_page_url = 'https://imdb.com'\n",
    "        qs_title = quote(title)\n",
    "        url = base_url + qs_title + '&ref_=nv_sr_sm'\n",
    "        headers = requests.utils.default_headers()\n",
    "        headers.update({'User-Agent': 'My User Agent 2.0',})\n",
    "\n",
    "        print(f'search page: {url}')\n",
    "        html = requests.get(url, verify=False, headers=headers).content\n",
    "        soup = bs4.BeautifulSoup(html, 'lxml')\n",
    "        find_title_results = soup.find_all('li', {'class': 'find-title-result'})\n",
    "        for tr in find_title_results:\n",
    "            div_title = tr.find_all(\n",
    "                'a', {'class': 'ipc-metadata-list-summary-item__t'})\n",
    "            for dt in div_title:\n",
    "                # this may need a more clever way of filtering if the wrong movie posters are getting pulled\n",
    "                if dt.text == clean_title or ',' in clean_title or True:\n",
    "                    full_page = tr.find('a')['href']\n",
    "                    full_page_html = requests.get(\n",
    "                        base_page_url+full_page, verify=False, headers=headers).content\n",
    "                    full_page_soup = bs4.BeautifulSoup(full_page_html, 'lxml')\n",
    "                    img = full_page_soup.find('img', {'class': 'ipc-image'})\n",
    "                    if img:\n",
    "                        if img['src']:\n",
    "                            response = requests.get(img['src'], verify=False)\n",
    "                            img_content = response.content\n",
    "                            with open('data/posters/'+str(movie_id)+'.jpg', 'wb') as f:\n",
    "                                print(f'writing image {clean_title}')\n",
    "                                f.write(img_content)\n",
    "                                return\n",
    "                        else:\n",
    "                            print('no image source found')\n",
    "                    else:\n",
    "                        print('no image found')\n",
    "                else:\n",
    "                    print(f'mismatching title and listed name: {dt.text} != {clean_title}')\n",
    "    except Exception as e:\n",
    "        print(e)\n",
    "\n"
   ]
  },
  {
   "cell_type": "code",
   "execution_count": null,
   "metadata": {},
   "outputs": [],
   "source": [
    "import pandas as pd\n",
    "\n",
    "# movie_rec.output_to_json()\n",
    "top30_input_filepath = 'data/top_rated_250.json'\n",
    "top30_filepath = 'recs-app/public/top_rated_movies30.archive.json'\n",
    "top30_df = pd.read_json(top30_input_filepath)\n",
    "top30_df = top30_df.T\n",
    "get_movie_id = lambda movie_name: movie_rec.movies_df[movie_rec.movies_df['name'] == movie_name].index.values[0]\n",
    "\n",
    "# Apply the lambda function to each row of the DataFrame to set the movie_id\n",
    "top30_df['movie_id'] = top30_df['title'].map(get_movie_id)\n",
    "top30_df.to_json(top30_filepath, orient=\"index\")\n",
    "for name in top30_df['title'][10:]:\n",
    "    pull_movie_poster(top30_df.loc[top30_df['title'] == name]['movie_id'].values[0])\n",
    "# print(top30_df.T)\n"
   ]
  },
  {
   "cell_type": "code",
   "execution_count": null,
   "metadata": {},
   "outputs": [],
   "source": [
    "g = movie_rec.get_movie_genres(1)\n",
    "print(g)"
   ]
  },
  {
   "cell_type": "code",
   "execution_count": null,
   "metadata": {},
   "outputs": [],
   "source": [
    "import numpy as np\n",
    "\n",
    "\n",
    "# return the difference between average ratings for two movies\n",
    "def get_movie_mean_rating_error(movie1_id: int, movie2_id: int):\n",
    "    movie1_ratings = np.mean(\n",
    "        movie_rec.ratings_df.loc[movie_rec.ratings_df.index == movie1_id]['rating'].values)\n",
    "    movie2_ratings = np.mean(\n",
    "        movie_rec.ratings_df.loc[movie_rec.ratings_df.index == movie2_id]['rating'].values)\n",
    "    return abs(movie1_ratings - movie2_ratings)\n",
    "\n",
    "\n",
    "# get_movie_mean_rating_error(599, 700)\n",
    "# movie_rec.get_movie_users(5)\n",
    "print(movie_rec.get_movie_title(1))\n",
    "print(movie_rec.get_movie_title(2))\n",
    "print(len(movie_rec.get_movie_users(1)))\n",
    "print(len(movie_rec.get_movie_users(2)))\n",
    "print(len(movie_rec.get_common_users(1, 2)))"
   ]
  },
  {
   "cell_type": "code",
   "execution_count": null,
   "metadata": {},
   "outputs": [],
   "source": [
    "def get_movie_rating_pearson_coeff(movie1_id: int, movie2_id: int)-> float:\n",
    "    common_users = movie_rec.get_common_users(movie1_id=movie1_id, movie2_id=movie2_id)\n",
    "    movie1_ratings = [movie_rec.get_user_movie_rating(user_id=u, movie_id=movie1_id) for u in common_users]\n",
    "    movie2_ratings = [movie_rec.get_user_movie_rating(user_id=u, movie_id=movie2_id) for u in common_users]\n",
    "    coeff = np.corrcoef(np.array(movie1_ratings), np.array(movie2_ratings))[0, 1]\n",
    "    movie1_title = movie_rec.get_movie_title(movie1_id)\n",
    "    movie2_title = movie_rec.get_movie_title(movie2_id)\n",
    "    print(f'{movie1_title} and {movie2_title} have a correlation of {\"{:.2f}\".format(coeff)} from {len(common_users)} users who have rated both')\n",
    "\n",
    "get_movie_rating_pearson_coeff(1, 3)"
   ]
  },
  {
   "cell_type": "code",
   "execution_count": null,
   "metadata": {},
   "outputs": [],
   "source": [
    "from urllib.parse import quote\n",
    "import requests\n",
    "import bs4\n",
    "\n",
    "movie_id = 1\n",
    "title = movie_rec.get_movie_title_with_year(movie_id)\n",
    "clean_title = movie_rec.get_movie_title(movie_id)\n",
    "base_url = 'https://imdb.com/find/?q='\n",
    "base_page_url = 'https://imdb.com'\n",
    "qs_title = quote(title)\n",
    "url = base_url + qs_title + '&ref_=nv_sr_sm'\n",
    "headers = requests.utils.default_headers()\n",
    "headers.update(\n",
    "    {\n",
    "        'User-Agent': 'My User Agent 1.0',\n",
    "    }\n",
    ")\n",
    "\n",
    "print(f'search page: {url}')\n",
    "html = requests.get(url, verify=False, headers=headers).content\n",
    "soup = bs4.BeautifulSoup(html, 'lxml')\n",
    "find_title_results = soup.find_all('li', {'class': 'find-title-result'})\n",
    "for tr in find_title_results:\n",
    "    div_title = tr.find_all('a', {'class': 'ipc-metadata-list-summary-item__t'})\n",
    "    for dt in div_title:\n",
    "        if dt.text == clean_title:\n",
    "            full_page = tr.find('a')['href']\n",
    "            full_page_html = requests.get(base_page_url+full_page, verify=False, headers=headers).content\n",
    "            full_page_soup = bs4.BeautifulSoup(full_page_html, 'lxml')\n",
    "            print(full_page_soup.prettify())\n",
    "            img = full_page_soup.find('img', {'class':'ipc-image'})\n",
    "            print(img['src'])\n",
    "            if img['src']:\n",
    "                response = requests.get(img['src'], verify=False)\n",
    "                img_content = response.content\n",
    "                with open('data/posters/'+str(movie_id)+'.jpg', 'wb') as f:\n",
    "                    f.write(img_content)\n",
    "            # img = tr.find('img')\n",
    "            # if img['src']:\n",
    "            #     print(img['src'])\n",
    "            #     response = requests.get(img['src'], verify=False)\n",
    "            #     img_content = response.content\n",
    "            #     with open('data/posters/'+str(movie_id)+'.jpg', 'wb') as f:\n",
    "            #         f.write(img_content)\n",
    "\n"
   ]
  }
 ],
 "metadata": {
  "kernelspec": {
   "display_name": "Python 3",
   "language": "python",
   "name": "python3"
  },
  "language_info": {
   "codemirror_mode": {
    "name": "ipython",
    "version": 3
   },
   "file_extension": ".py",
   "mimetype": "text/x-python",
   "name": "python",
   "nbconvert_exporter": "python",
   "pygments_lexer": "ipython3",
   "version": "3.10.4"
  },
  "orig_nbformat": 4
 },
 "nbformat": 4,
 "nbformat_minor": 2
}
