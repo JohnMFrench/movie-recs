{
 "cells": [
  {
   "cell_type": "code",
   "execution_count": null,
   "metadata": {},
   "outputs": [],
   "source": [
    "from movie_recommender import MovieRecommender\n",
    "import timeit\n",
    "import pandas as pd"
   ]
  },
  {
   "cell_type": "code",
   "execution_count": null,
   "metadata": {},
   "outputs": [],
   "source": [
    "started = timeit.default_timer()\n",
    "movies_file = 'data/ml-10M100K/movies.dat'\n",
    "ratings_file = 'data/ml-10M100K/ratings.dat'\n",
    "movie_rec = MovieRecommender(movies_filename=movies_file, ratings_filename=ratings_file)\n",
    "elapsed = timeit.default_timer() - started\n",
    "print(f'Read dataframes in {elapsed}ms')\n",
    "\n",
    "print(movie_rec.ratings_df['user_id'].nunique())"
   ]
  },
  {
   "cell_type": "code",
   "execution_count": 46,
   "metadata": {},
   "outputs": [
    {
     "name": "stdout",
     "output_type": "stream",
     "text": [
      "[34048, 64997]\n"
     ]
    }
   ],
   "source": [
    "# clean_titles = [movie_rec.get_movie_title(m) for m in set(movie_rec.ratings_df.index.values)]\n",
    "import pandas as pd\n",
    "\n",
    "# create a DataFrame containing the movie titles and ids\n",
    "movies_df = pd.DataFrame({'title': movie_rec.movies_df['name']})\n",
    "\n",
    "# count the occurrences of each title using the value_counts() method\n",
    "title_counts = movies_df['title'].value_counts()\n",
    "\n",
    "# filter out the titles that appear only once using boolean indexing\n",
    "popular_titles = title_counts[title_counts > 1].index.tolist()\n",
    "\n",
    "# get the corresponding movie ids for the popular titles\n",
    "popular_movie_ids = movies_df.index.get_level_values('movie_id')[movies_df['title'].isin(popular_titles)].unique().tolist()\n",
    "\n",
    "print(popular_movie_ids)"
   ]
  },
  {
   "cell_type": "code",
   "execution_count": 29,
   "metadata": {},
   "outputs": [
    {
     "ename": "KeyboardInterrupt",
     "evalue": "",
     "output_type": "error",
     "traceback": [
      "\u001b[1;31m---------------------------------------------------------------------------\u001b[0m",
      "\u001b[1;31mKeyboardInterrupt\u001b[0m                         Traceback (most recent call last)",
      "Cell \u001b[1;32mIn[29], line 20\u001b[0m\n\u001b[0;32m     12\u001b[0m movie_rec\u001b[39m.\u001b[39mnew_add_movie_rating(movie_id\u001b[39m=\u001b[39m\u001b[39m5080\u001b[39m, user_id\u001b[39m=\u001b[39mu, rating\u001b[39m=\u001b[39m\u001b[39m5\u001b[39m) \u001b[39m# Slackers\u001b[39;00m\n\u001b[0;32m     13\u001b[0m \u001b[39m# movie_rec.new_add_movie_rating(movie_id=30, user_id=u, rating=5)\u001b[39;00m\n\u001b[0;32m     14\u001b[0m \u001b[39m# movie_rec.new_add_movie_rating(movie_id=232, user_id=u, rating=5)\u001b[39;00m\n\u001b[0;32m     15\u001b[0m \u001b[39m# movie_rec.new_add_movie_rating(movie_id=858, user_id=u, rating=5)\u001b[39;00m\n\u001b[0;32m     16\u001b[0m \u001b[39m# movie_rec.new_add_movie_rating(movie_id=48, user_id=u, rating=5)\u001b[39;00m\n\u001b[0;32m     17\u001b[0m \u001b[39m# movie_rec.new_add_movie_rating(movie_id=1213, user_id=u, rating=5)\u001b[39;00m\n\u001b[0;32m     18\u001b[0m \u001b[39m# movie_rec.new_add_movie_rating(movie_id=858, user_id=u, rating=5)\u001b[39;00m\n\u001b[1;32m---> 20\u001b[0m movie_rec\u001b[39m.\u001b[39;49mrefit_model()\n",
      "File \u001b[1;32mc:\\Users\\john.french\\movie_recs\\movie_recommender.py:87\u001b[0m, in \u001b[0;36mMovieRecommender.refit_model\u001b[1;34m(self)\u001b[0m\n\u001b[0;32m     86\u001b[0m \u001b[39mdef\u001b[39;00m \u001b[39mrefit_model\u001b[39m(\u001b[39mself\u001b[39m):\n\u001b[1;32m---> 87\u001b[0m     \u001b[39mself\u001b[39m\u001b[39m.\u001b[39msparse_df \u001b[39m=\u001b[39m csr_matrix(\u001b[39mself\u001b[39;49m\u001b[39m.\u001b[39;49mmrm_df\u001b[39m.\u001b[39;49mvalues)\n\u001b[0;32m     88\u001b[0m     \u001b[39mself\u001b[39m\u001b[39m.\u001b[39mknn_model \u001b[39m=\u001b[39m NearestNeighbors(metric\u001b[39m=\u001b[39m\u001b[39m'\u001b[39m\u001b[39mcosine\u001b[39m\u001b[39m'\u001b[39m, algorithm\u001b[39m=\u001b[39m\u001b[39m'\u001b[39m\u001b[39mbrute\u001b[39m\u001b[39m'\u001b[39m)\n\u001b[0;32m     89\u001b[0m     \u001b[39mself\u001b[39m\u001b[39m.\u001b[39mknn_model\u001b[39m.\u001b[39mfit(\u001b[39mself\u001b[39m\u001b[39m.\u001b[39msparse_df)\n",
      "File \u001b[1;32m~\\AppData\\Roaming\\Python\\Python310\\site-packages\\scipy\\sparse\\_compressed.py:85\u001b[0m, in \u001b[0;36m_cs_matrix.__init__\u001b[1;34m(self, arg1, shape, dtype, copy)\u001b[0m\n\u001b[0;32m     81\u001b[0m     \u001b[39mexcept\u001b[39;00m \u001b[39mException\u001b[39;00m \u001b[39mas\u001b[39;00m e:\n\u001b[0;32m     82\u001b[0m         \u001b[39mraise\u001b[39;00m \u001b[39mValueError\u001b[39;00m(\u001b[39m\"\u001b[39m\u001b[39munrecognized \u001b[39m\u001b[39m{}\u001b[39;00m\u001b[39m_matrix constructor usage\u001b[39m\u001b[39m\"\u001b[39m\n\u001b[0;32m     83\u001b[0m                          \u001b[39m\"\u001b[39m\u001b[39m\"\u001b[39m\u001b[39m.\u001b[39mformat(\u001b[39mself\u001b[39m\u001b[39m.\u001b[39mformat)) \u001b[39mfrom\u001b[39;00m \u001b[39me\u001b[39;00m\n\u001b[0;32m     84\u001b[0m     \u001b[39mself\u001b[39m\u001b[39m.\u001b[39m_set_self(\u001b[39mself\u001b[39m\u001b[39m.\u001b[39m\u001b[39m__class__\u001b[39m(\n\u001b[1;32m---> 85\u001b[0m         \u001b[39mself\u001b[39;49m\u001b[39m.\u001b[39;49m_coo_container(arg1, dtype\u001b[39m=\u001b[39;49mdtype)\n\u001b[0;32m     86\u001b[0m     ))\n\u001b[0;32m     88\u001b[0m \u001b[39m# Read matrix dimensions given, if any\u001b[39;00m\n\u001b[0;32m     89\u001b[0m \u001b[39mif\u001b[39;00m shape \u001b[39mis\u001b[39;00m \u001b[39mnot\u001b[39;00m \u001b[39mNone\u001b[39;00m:\n",
      "File \u001b[1;32m~\\AppData\\Roaming\\Python\\Python310\\site-packages\\scipy\\sparse\\_coo.py:189\u001b[0m, in \u001b[0;36mcoo_matrix.__init__\u001b[1;34m(self, arg1, shape, dtype, copy)\u001b[0m\n\u001b[0;32m    185\u001b[0m     \u001b[39mif\u001b[39;00m check_shape(shape) \u001b[39m!=\u001b[39m \u001b[39mself\u001b[39m\u001b[39m.\u001b[39m_shape:\n\u001b[0;32m    186\u001b[0m         \u001b[39mraise\u001b[39;00m \u001b[39mValueError\u001b[39;00m(\u001b[39m'\u001b[39m\u001b[39minconsistent shapes: \u001b[39m\u001b[39m%s\u001b[39;00m\u001b[39m != \u001b[39m\u001b[39m%s\u001b[39;00m\u001b[39m'\u001b[39m \u001b[39m%\u001b[39m\n\u001b[0;32m    187\u001b[0m                          (shape, \u001b[39mself\u001b[39m\u001b[39m.\u001b[39m_shape))\n\u001b[1;32m--> 189\u001b[0m \u001b[39mself\u001b[39m\u001b[39m.\u001b[39mrow, \u001b[39mself\u001b[39m\u001b[39m.\u001b[39mcol \u001b[39m=\u001b[39m M\u001b[39m.\u001b[39;49mnonzero()\n\u001b[0;32m    190\u001b[0m \u001b[39mself\u001b[39m\u001b[39m.\u001b[39mdata \u001b[39m=\u001b[39m M[\u001b[39mself\u001b[39m\u001b[39m.\u001b[39mrow, \u001b[39mself\u001b[39m\u001b[39m.\u001b[39mcol]\n\u001b[0;32m    191\u001b[0m \u001b[39mself\u001b[39m\u001b[39m.\u001b[39mhas_canonical_format \u001b[39m=\u001b[39m \u001b[39mTrue\u001b[39;00m\n",
      "\u001b[1;31mKeyboardInterrupt\u001b[0m: "
     ]
    }
   ],
   "source": [
    "u = int(movie_rec.mrm_df.shape[0])\n",
    "# u = 2\n",
    "# print(type(u), u)\n",
    "\n",
    "# movie_rec.new_add_movie_rating(movie_id=1219, user_id=u, rating=5) # Psycho\n",
    "# How to make an american quilt\n",
    "# movie_rec.new_add_movie_rating(movie_id=46, user_id=u, rating=5) \n",
    "# movie_rec.new_add_movie_rating(movie_id=16, user_id=u, rating=5) # Casino\n",
    "# movie_rec.new_add_movie_rating(movie_id=2596, user_id=u, rating=5) # Rocky Horror\n",
    "# movie_rec.new_add_movie_rating(movie_id=2571, user_id=u, rating=5) # The Matrix\n",
    "movie_rec.new_add_movie_rating(movie_id=107, user_id=u, rating=5) # Muppet Treasure Island\n",
    "movie_rec.new_add_movie_rating(movie_id=5080, user_id=u, rating=5) # Slackers\n",
    "# movie_rec.new_add_movie_rating(movie_id=30, user_id=u, rating=5)\n",
    "# movie_rec.new_add_movie_rating(movie_id=232, user_id=u, rating=5)\n",
    "# movie_rec.new_add_movie_rating(movie_id=858, user_id=u, rating=5)\n",
    "# movie_rec.new_add_movie_rating(movie_id=48, user_id=u, rating=5)\n",
    "# movie_rec.new_add_movie_rating(movie_id=1213, user_id=u, rating=5)\n",
    "# movie_rec.new_add_movie_rating(movie_id=858, user_id=u, rating=5)\n",
    "\n",
    "movie_rec.refit_model()\n"
   ]
  },
  {
   "cell_type": "code",
   "execution_count": null,
   "metadata": {},
   "outputs": [],
   "source": [
    "movie_rec.get_user_based_recommendation(u)"
   ]
  },
  {
   "cell_type": "code",
   "execution_count": null,
   "metadata": {},
   "outputs": [],
   "source": [
    "# movie_rec.get_user_movies(69877)\n",
    "for m in movie_rec.get_user_movies(69877):\n",
    "    print(movie_rec.get_movie_title(m), movie_rec.get_user_movie_rating(69877, m))\n",
    "# movie_rec.get_user_movie_rating(8546, 1)\n",
    "# movie_rec.get_user_movie_rating(8546, 2)\n",
    "# print(f'User {u} has seen...')\n",
    "# for m in movie_rec.get_user_movies(u):\n",
    "#     print(movie_rec.get_movie_title(m))"
   ]
  },
  {
   "cell_type": "code",
   "execution_count": null,
   "metadata": {},
   "outputs": [],
   "source": [
    "users, dists = movie_rec.get_similar_users(u)\n",
    "# for rec_user in users:\n",
    "#     # print(f'{rec_user}\\'s movies')\n",
    "#     for m in movie_rec.get_user_movies(rec_user):\n",
    "#         # print(movie_rec.get_movie_title(m))\n",
    "\n",
    "# print(movie_rec.get_movie_title(20))\n",
    "# print(movie_rec.get_movie_title(25))\n",
    "# print(movie_rec.get_movie_title(50))"
   ]
  },
  {
   "cell_type": "code",
   "execution_count": null,
   "metadata": {},
   "outputs": [],
   "source": [
    "user_id = movie_rec.get_next_avail_user_id()\n",
    "# movie_rec.add_movie_rating(movie_id=1, user_id= user_id, rating= 5) # Toy Story\n",
    "# movie_rec.add_movie_rating(movie_id=2, user_id= user_id, rating= 5) # Jumanji\n",
    "# movie_rec.add_movie_rating(movie_id=48, user_id= user_id, rating= 5) # Pocahontas\n",
    "# movie_rec.add_movie_rating(movie_id=20, user_id= user_id, rating= 5) # Money Train\n",
    "# movie_rec.add_movie_rating(movie_id=25, user_id= user_id, rating= 5) # Leaving Las Vegas\n",
    "# movie_rec.add_movie_rating(movie_id=50, user_id= user_id, rating= 5) # The Usual Suspects\n",
    "movie_rec.ratings_df.head()"
   ]
  },
  {
   "cell_type": "code",
   "execution_count": null,
   "metadata": {},
   "outputs": [],
   "source": [
    "import numpy as np\n",
    "\n",
    "\n",
    "# return the difference between average ratings for two movies\n",
    "def get_movie_mean_rating_error(movie1_id: int, movie2_id: int):\n",
    "    movie1_ratings = np.mean(\n",
    "        movie_rec.ratings_df.loc[movie_rec.ratings_df.index == movie1_id]['rating'].values)\n",
    "    movie2_ratings = np.mean(\n",
    "        movie_rec.ratings_df.loc[movie_rec.ratings_df.index == movie2_id]['rating'].values)\n",
    "    return abs(movie1_ratings - movie2_ratings)\n",
    "\n",
    "\n",
    "# get_movie_mean_rating_error(599, 700)\n",
    "# movie_rec.get_movie_users(5)\n",
    "print(movie_rec.get_movie_title(1))\n",
    "print(movie_rec.get_movie_title(2))\n",
    "print(len(movie_rec.get_movie_users(1)))\n",
    "print(len(movie_rec.get_movie_users(2)))\n",
    "print(len(movie_rec.get_common_users(1, 2)))"
   ]
  },
  {
   "cell_type": "code",
   "execution_count": null,
   "metadata": {},
   "outputs": [],
   "source": [
    "def get_movie_rating_pearson_coeff(movie1_id: int, movie2_id: int)-> float:\n",
    "    common_users = movie_rec.get_common_users(movie1_id=movie1_id, movie2_id=movie2_id)\n",
    "    movie1_ratings = [movie_rec.get_user_movie_rating(user_id=u, movie_id=movie1_id) for u in common_users]\n",
    "    movie2_ratings = [movie_rec.get_user_movie_rating(user_id=u, movie_id=movie2_id) for u in common_users]\n",
    "    coeff = np.corrcoef(np.array(movie1_ratings), np.array(movie2_ratings))[0, 1]\n",
    "    movie1_title = movie_rec.get_movie_title(movie1_id)\n",
    "    movie2_title = movie_rec.get_movie_title(movie2_id)\n",
    "    print(f'{movie1_title} and {movie2_title} have a correlation of {\"{:.2f}\".format(coeff)} from {len(common_users)} users who have rated both')\n",
    "\n",
    "get_movie_rating_pearson_coeff(1, 3)"
   ]
  }
 ],
 "metadata": {
  "kernelspec": {
   "display_name": "Python 3",
   "language": "python",
   "name": "python3"
  },
  "language_info": {
   "codemirror_mode": {
    "name": "ipython",
    "version": 3
   },
   "file_extension": ".py",
   "mimetype": "text/x-python",
   "name": "python",
   "nbconvert_exporter": "python",
   "pygments_lexer": "ipython3",
   "version": "3.10.5"
  },
  "orig_nbformat": 4,
  "vscode": {
   "interpreter": {
    "hash": "26de051ba29f2982a8de78e945f0abaf191376122a1563185a90213a26c5da77"
   }
  }
 },
 "nbformat": 4,
 "nbformat_minor": 2
}
