{
 "cells": [
  {
   "cell_type": "code",
   "execution_count": 25,
   "metadata": {},
   "outputs": [],
   "source": [
    "from movie_recommender import MovieRecommender\n",
    "import timeit\n",
    "import pandas as pd"
   ]
  },
  {
   "cell_type": "code",
   "execution_count": 26,
   "metadata": {},
   "outputs": [
    {
     "name": "stdout",
     "output_type": "stream",
     "text": [
      "found pickle at c:\\Users\\john.french\\movie_recs\\data\\pickled\\movie_ratings.pkl\n",
      "Read dataframes in 28.676943099999335ms\n",
      "69878\n"
     ]
    }
   ],
   "source": [
    "started = timeit.default_timer()\n",
    "movies_file = 'data/ml-10M100K/movies.dat'\n",
    "ratings_file = 'data/ml-10M100K/ratings.dat'\n",
    "movie_rec = MovieRecommender(movies_filename=movies_file, ratings_filename=ratings_file)\n",
    "elapsed = timeit.default_timer() - started\n",
    "print(f'Read dataframes in {elapsed}ms')\n",
    "\n",
    "print(movie_rec.ratings_df['user_id'].nunique())"
   ]
  },
  {
   "cell_type": "code",
   "execution_count": 49,
   "metadata": {},
   "outputs": [
    {
     "name": "stderr",
     "output_type": "stream",
     "text": [
      "C:\\Users\\john.french\\AppData\\Local\\Temp\\ipykernel_21940\\133245661.py:2: FutureWarning: The default value of regex will change from True to False in a future version. In addition, single character regular expressions will *not* be treated as literal strings when regex=True.\n",
      "  movie_rec.movies_df['genres'] = movie_rec.movies_df['genres'].str.replace('|', ' ')\n"
     ]
    },
    {
     "data": {
      "text/html": [
       "<div>\n",
       "<style scoped>\n",
       "    .dataframe tbody tr th:only-of-type {\n",
       "        vertical-align: middle;\n",
       "    }\n",
       "\n",
       "    .dataframe tbody tr th {\n",
       "        vertical-align: top;\n",
       "    }\n",
       "\n",
       "    .dataframe thead th {\n",
       "        text-align: right;\n",
       "    }\n",
       "</style>\n",
       "<table border=\"1\" class=\"dataframe\">\n",
       "  <thead>\n",
       "    <tr style=\"text-align: right;\">\n",
       "      <th></th>\n",
       "      <th>rating</th>\n",
       "      <th>name</th>\n",
       "      <th>genres</th>\n",
       "    </tr>\n",
       "    <tr>\n",
       "      <th>movie_id</th>\n",
       "      <th></th>\n",
       "      <th></th>\n",
       "      <th></th>\n",
       "    </tr>\n",
       "  </thead>\n",
       "  <tbody>\n",
       "    <tr>\n",
       "      <th>296</th>\n",
       "      <td>34864</td>\n",
       "      <td>Pulp Fiction (1994)</td>\n",
       "      <td>Comedy Crime Drama</td>\n",
       "    </tr>\n",
       "    <tr>\n",
       "      <th>356</th>\n",
       "      <td>34457</td>\n",
       "      <td>Forrest Gump (1994)</td>\n",
       "      <td>Comedy Drama Romance War</td>\n",
       "    </tr>\n",
       "    <tr>\n",
       "      <th>593</th>\n",
       "      <td>33668</td>\n",
       "      <td>Silence of the Lambs, The (1991)</td>\n",
       "      <td>Crime Horror Thriller</td>\n",
       "    </tr>\n",
       "    <tr>\n",
       "      <th>480</th>\n",
       "      <td>32631</td>\n",
       "      <td>Jurassic Park (1993)</td>\n",
       "      <td>Action Adventure Sci-Fi Thriller</td>\n",
       "    </tr>\n",
       "    <tr>\n",
       "      <th>318</th>\n",
       "      <td>31126</td>\n",
       "      <td>Shawshank Redemption, The (1994)</td>\n",
       "      <td>Drama</td>\n",
       "    </tr>\n",
       "    <tr>\n",
       "      <th>...</th>\n",
       "      <td>...</td>\n",
       "      <td>...</td>\n",
       "      <td>...</td>\n",
       "    </tr>\n",
       "    <tr>\n",
       "      <th>2728</th>\n",
       "      <td>2577</td>\n",
       "      <td>Spartacus (1960)</td>\n",
       "      <td>Action Drama Romance War</td>\n",
       "    </tr>\n",
       "    <tr>\n",
       "      <th>1956</th>\n",
       "      <td>2574</td>\n",
       "      <td>Ordinary People (1980)</td>\n",
       "      <td>Drama</td>\n",
       "    </tr>\n",
       "    <tr>\n",
       "      <th>1344</th>\n",
       "      <td>2573</td>\n",
       "      <td>Cape Fear (1962)</td>\n",
       "      <td>Thriller</td>\n",
       "    </tr>\n",
       "    <tr>\n",
       "      <th>3504</th>\n",
       "      <td>2573</td>\n",
       "      <td>Network (1976)</td>\n",
       "      <td>Comedy Drama</td>\n",
       "    </tr>\n",
       "    <tr>\n",
       "      <th>1693</th>\n",
       "      <td>2571</td>\n",
       "      <td>Amistad (1997)</td>\n",
       "      <td>Drama</td>\n",
       "    </tr>\n",
       "  </tbody>\n",
       "</table>\n",
       "<p>1000 rows × 3 columns</p>\n",
       "</div>"
      ],
      "text/plain": [
       "          rating                              name  \\\n",
       "movie_id                                             \n",
       "296        34864               Pulp Fiction (1994)   \n",
       "356        34457               Forrest Gump (1994)   \n",
       "593        33668  Silence of the Lambs, The (1991)   \n",
       "480        32631              Jurassic Park (1993)   \n",
       "318        31126  Shawshank Redemption, The (1994)   \n",
       "...          ...                               ...   \n",
       "2728        2577                  Spartacus (1960)   \n",
       "1956        2574            Ordinary People (1980)   \n",
       "1344        2573                  Cape Fear (1962)   \n",
       "3504        2573                    Network (1976)   \n",
       "1693        2571                    Amistad (1997)   \n",
       "\n",
       "                                    genres  \n",
       "movie_id                                    \n",
       "296                     Comedy Crime Drama  \n",
       "356               Comedy Drama Romance War  \n",
       "593                  Crime Horror Thriller  \n",
       "480       Action Adventure Sci-Fi Thriller  \n",
       "318                                  Drama  \n",
       "...                                    ...  \n",
       "2728              Action Drama Romance War  \n",
       "1956                                 Drama  \n",
       "1344                              Thriller  \n",
       "3504                          Comedy Drama  \n",
       "1693                                 Drama  \n",
       "\n",
       "[1000 rows x 3 columns]"
      ]
     },
     "execution_count": 49,
     "metadata": {},
     "output_type": "execute_result"
    }
   ],
   "source": [
    "# replace pipe character with space\n",
    "movie_rec.movies_df['genres'] = movie_rec.movies_df['genres'].str.replace('|', ' ')\n",
    "rating_counts = movie_rec.ratings_df.groupby('movie_id').agg('rating').count()\n",
    "most_rated = rating_counts.sort_values(ascending=False).head(1000)\n",
    "most_rated = pd.merge(most_rated, movie_rec.movies_df, on=\"movie_id\")\n",
    "most_rated"
   ]
  },
  {
   "cell_type": "code",
   "execution_count": 46,
   "metadata": {},
   "outputs": [
    {
     "name": "stdout",
     "output_type": "stream",
     "text": [
      "nan 297\n",
      "Forrest Gump (1994) 356\n",
      "Silence of the Lambs, The (1991) 593\n",
      "Jurassic Park (1993) 480\n",
      "Shawshank Redemption, The (1994) 318\n",
      "Braveheart (1995) 110\n",
      "Fugitive, The (1993) 457\n",
      "Terminator 2: Judgment Day (1991) 589\n",
      "Star Wars: Episode IV - A New Hope (a.k.a. Star Wars) (1977) 260\n",
      "Apollo 13 (1995) 150\n"
     ]
    }
   ],
   "source": [
    "ctr = 0\n",
    "limit = 15\n",
    "for idx, row in most_rated.iterrows():\n",
    "    print(row['name'], idx)\n",
    "    ctr += 1\n",
    "    if ctr > limit:\n",
    "        break"
   ]
  },
  {
   "cell_type": "code",
   "execution_count": 51,
   "metadata": {},
   "outputs": [],
   "source": [
    "descriptions_df = pd.read_json('data/metadata/movie_descriptions.json')\n",
    "most_rated = pd.merge(descriptions_df, most_rated, on='movie_id', how='right')\n",
    "most_rated = most_rated.head(1000)\n",
    "most_rated.set_index('movie_id', inplace=True)\n",
    "most_rated.to_json('data/metadata/top_rated_1000.json', orient='index')"
   ]
  },
  {
   "cell_type": "code",
   "execution_count": null,
   "metadata": {},
   "outputs": [],
   "source": [
    "from ai_posters import test_api_route\n",
    "\n",
    "ctr = 0\n",
    "offset = 300\n",
    "limit = 500\n",
    "for idx, row in most_rated.iterrows():\n",
    "    movie_title = row['name']\n",
    "    genres = row['genres']\n",
    "    movie_id = idx\n",
    "    ctr += 1\n",
    "    if ctr >= offset:\n",
    "        test_api_route.make_poster_for_movie(movie_title, genres, str(movie_id))\n",
    "    if ctr == limit:\n",
    "        break"
   ]
  },
  {
   "cell_type": "code",
   "execution_count": null,
   "metadata": {},
   "outputs": [],
   "source": [
    "# clean_titles = [movie_rec.get_movie_title(m) for m in set(movie_rec.ratings_df.index.values)]\n",
    "import pandas as pd\n",
    "\n",
    "# create a DataFrame containing the movie titles and ids\n",
    "movies_df = pd.DataFrame({'title': movie_rec.movies_df['name']})\n",
    "\n",
    "# count the occurrences of each title using the value_counts() method\n",
    "title_counts = movies_df['title'].value_counts()\n",
    "\n",
    "# filter out the titles that appear only once using boolean indexing\n",
    "popular_titles = title_counts[title_counts > 1].index.tolist()\n",
    "\n",
    "# get the corresponding movie ids for the popular titles\n",
    "popular_movie_ids = movies_df.index.get_level_values('movie_id')[movies_df['title'].isin(popular_titles)].unique().tolist()\n",
    "\n",
    "print(popular_movie_ids)"
   ]
  },
  {
   "cell_type": "code",
   "execution_count": null,
   "metadata": {},
   "outputs": [],
   "source": [
    "u = int(movie_rec.mrm_df.shape[0])\n",
    "# u = 2\n",
    "# print(type(u), u)\n",
    "\n",
    "# movie_rec.new_add_movie_rating(movie_id=1219, user_id=u, rating=5) # Psycho\n",
    "# How to make an american quilt\n",
    "# movie_rec.new_add_movie_rating(movie_id=46, user_id=u, rating=5) \n",
    "# movie_rec.new_add_movie_rating(movie_id=16, user_id=u, rating=5) # Casino\n",
    "# movie_rec.new_add_movie_rating(movie_id=2596, user_id=u, rating=5) # Rocky Horror\n",
    "# movie_rec.new_add_movie_rating(movie_id=2571, user_id=u, rating=5) # The Matrix\n",
    "movie_rec.new_add_movie_rating(movie_id=107, user_id=u, rating=5) # Muppet Treasure Island\n",
    "movie_rec.new_add_movie_rating(movie_id=5080, user_id=u, rating=5) # Slackers\n",
    "# movie_rec.new_add_movie_rating(movie_id=30, user_id=u, rating=5)\n",
    "# movie_rec.new_add_movie_rating(movie_id=232, user_id=u, rating=5)\n",
    "# movie_rec.new_add_movie_rating(movie_id=858, user_id=u, rating=5)\n",
    "# movie_rec.new_add_movie_rating(movie_id=48, user_id=u, rating=5)\n",
    "# movie_rec.new_add_movie_rating(movie_id=1213, user_id=u, rating=5)\n",
    "# movie_rec.new_add_movie_rating(movie_id=858, user_id=u, rating=5)\n",
    "\n",
    "movie_rec.refit_model()\n"
   ]
  },
  {
   "cell_type": "code",
   "execution_count": null,
   "metadata": {},
   "outputs": [],
   "source": [
    "movie_rec.get_user_based_recommendation(u)"
   ]
  },
  {
   "cell_type": "code",
   "execution_count": null,
   "metadata": {},
   "outputs": [],
   "source": [
    "# movie_rec.get_user_movies(69877)\n",
    "for m in movie_rec.get_user_movies(69877):\n",
    "    print(movie_rec.get_movie_title(m), movie_rec.get_user_movie_rating(69877, m))\n",
    "# movie_rec.get_user_movie_rating(8546, 1)\n",
    "# movie_rec.get_user_movie_rating(8546, 2)\n",
    "# print(f'User {u} has seen...')\n",
    "# for m in movie_rec.get_user_movies(u):\n",
    "#     print(movie_rec.get_movie_title(m))"
   ]
  },
  {
   "cell_type": "code",
   "execution_count": null,
   "metadata": {},
   "outputs": [],
   "source": [
    "users, dists = movie_rec.get_similar_users(u)\n",
    "# for rec_user in users:\n",
    "#     # print(f'{rec_user}\\'s movies')\n",
    "#     for m in movie_rec.get_user_movies(rec_user):\n",
    "#         # print(movie_rec.get_movie_title(m))\n",
    "\n",
    "# print(movie_rec.get_movie_title(20))\n",
    "# print(movie_rec.get_movie_title(25))\n",
    "# print(movie_rec.get_movie_title(50))"
   ]
  },
  {
   "cell_type": "code",
   "execution_count": null,
   "metadata": {},
   "outputs": [],
   "source": [
    "user_id = movie_rec.get_next_avail_user_id()\n",
    "# movie_rec.add_movie_rating(movie_id=1, user_id= user_id, rating= 5) # Toy Story\n",
    "# movie_rec.add_movie_rating(movie_id=2, user_id= user_id, rating= 5) # Jumanji\n",
    "# movie_rec.add_movie_rating(movie_id=48, user_id= user_id, rating= 5) # Pocahontas\n",
    "# movie_rec.add_movie_rating(movie_id=20, user_id= user_id, rating= 5) # Money Train\n",
    "# movie_rec.add_movie_rating(movie_id=25, user_id= user_id, rating= 5) # Leaving Las Vegas\n",
    "# movie_rec.add_movie_rating(movie_id=50, user_id= user_id, rating= 5) # The Usual Suspects\n",
    "movie_rec.ratings_df.head()"
   ]
  },
  {
   "cell_type": "code",
   "execution_count": null,
   "metadata": {},
   "outputs": [],
   "source": [
    "import numpy as np\n",
    "\n",
    "\n",
    "# return the difference between average ratings for two movies\n",
    "def get_movie_mean_rating_error(movie1_id: int, movie2_id: int):\n",
    "    movie1_ratings = np.mean(\n",
    "        movie_rec.ratings_df.loc[movie_rec.ratings_df.index == movie1_id]['rating'].values)\n",
    "    movie2_ratings = np.mean(\n",
    "        movie_rec.ratings_df.loc[movie_rec.ratings_df.index == movie2_id]['rating'].values)\n",
    "    return abs(movie1_ratings - movie2_ratings)\n",
    "\n",
    "\n",
    "# get_movie_mean_rating_error(599, 700)\n",
    "# movie_rec.get_movie_users(5)\n",
    "print(movie_rec.get_movie_title(1))\n",
    "print(movie_rec.get_movie_title(2))\n",
    "print(len(movie_rec.get_movie_users(1)))\n",
    "print(len(movie_rec.get_movie_users(2)))\n",
    "print(len(movie_rec.get_common_users(1, 2)))"
   ]
  },
  {
   "cell_type": "code",
   "execution_count": 24,
   "metadata": {},
   "outputs": [
    {
     "ename": "KeyboardInterrupt",
     "evalue": "",
     "output_type": "error",
     "traceback": [
      "\u001b[1;31m---------------------------------------------------------------------------\u001b[0m",
      "\u001b[1;31mKeyboardInterrupt\u001b[0m                         Traceback (most recent call last)",
      "Cell \u001b[1;32mIn[24], line 10\u001b[0m\n\u001b[0;32m      7\u001b[0m     movie2_title \u001b[39m=\u001b[39m movie_rec\u001b[39m.\u001b[39mget_movie_title(movie2_id)\n\u001b[0;32m      8\u001b[0m     \u001b[39mprint\u001b[39m(\u001b[39mf\u001b[39m\u001b[39m'\u001b[39m\u001b[39m{\u001b[39;00mmovie1_title\u001b[39m}\u001b[39;00m\u001b[39m and \u001b[39m\u001b[39m{\u001b[39;00mmovie2_title\u001b[39m}\u001b[39;00m\u001b[39m have a correlation of \u001b[39m\u001b[39m{\u001b[39;00m\u001b[39m\"\u001b[39m\u001b[39m{:.2f}\u001b[39;00m\u001b[39m\"\u001b[39m\u001b[39m.\u001b[39mformat(coeff)\u001b[39m}\u001b[39;00m\u001b[39m from \u001b[39m\u001b[39m{\u001b[39;00m\u001b[39mlen\u001b[39m(common_users)\u001b[39m}\u001b[39;00m\u001b[39m users who have rated both\u001b[39m\u001b[39m'\u001b[39m)\n\u001b[1;32m---> 10\u001b[0m get_movie_rating_pearson_coeff(\u001b[39m1\u001b[39;49m, \u001b[39m3\u001b[39;49m)\n",
      "Cell \u001b[1;32mIn[24], line 3\u001b[0m, in \u001b[0;36mget_movie_rating_pearson_coeff\u001b[1;34m(movie1_id, movie2_id)\u001b[0m\n\u001b[0;32m      1\u001b[0m \u001b[39mdef\u001b[39;00m \u001b[39mget_movie_rating_pearson_coeff\u001b[39m(movie1_id: \u001b[39mint\u001b[39m, movie2_id: \u001b[39mint\u001b[39m)\u001b[39m-\u001b[39m\u001b[39m>\u001b[39m \u001b[39mfloat\u001b[39m:\n\u001b[0;32m      2\u001b[0m     common_users \u001b[39m=\u001b[39m movie_rec\u001b[39m.\u001b[39mget_common_users(movie1_id\u001b[39m=\u001b[39mmovie1_id, movie2_id\u001b[39m=\u001b[39mmovie2_id)\n\u001b[1;32m----> 3\u001b[0m     movie1_ratings \u001b[39m=\u001b[39m [movie_rec\u001b[39m.\u001b[39mget_user_movie_rating(user_id\u001b[39m=\u001b[39mu, movie_id\u001b[39m=\u001b[39mmovie1_id) \u001b[39mfor\u001b[39;00m u \u001b[39min\u001b[39;00m common_users]\n\u001b[0;32m      4\u001b[0m     movie2_ratings \u001b[39m=\u001b[39m [movie_rec\u001b[39m.\u001b[39mget_user_movie_rating(user_id\u001b[39m=\u001b[39mu, movie_id\u001b[39m=\u001b[39mmovie2_id) \u001b[39mfor\u001b[39;00m u \u001b[39min\u001b[39;00m common_users]\n\u001b[0;32m      5\u001b[0m     coeff \u001b[39m=\u001b[39m np\u001b[39m.\u001b[39mcorrcoef(np\u001b[39m.\u001b[39marray(movie1_ratings), np\u001b[39m.\u001b[39marray(movie2_ratings))[\u001b[39m0\u001b[39m, \u001b[39m1\u001b[39m]\n",
      "Cell \u001b[1;32mIn[24], line 3\u001b[0m, in \u001b[0;36m<listcomp>\u001b[1;34m(.0)\u001b[0m\n\u001b[0;32m      1\u001b[0m \u001b[39mdef\u001b[39;00m \u001b[39mget_movie_rating_pearson_coeff\u001b[39m(movie1_id: \u001b[39mint\u001b[39m, movie2_id: \u001b[39mint\u001b[39m)\u001b[39m-\u001b[39m\u001b[39m>\u001b[39m \u001b[39mfloat\u001b[39m:\n\u001b[0;32m      2\u001b[0m     common_users \u001b[39m=\u001b[39m movie_rec\u001b[39m.\u001b[39mget_common_users(movie1_id\u001b[39m=\u001b[39mmovie1_id, movie2_id\u001b[39m=\u001b[39mmovie2_id)\n\u001b[1;32m----> 3\u001b[0m     movie1_ratings \u001b[39m=\u001b[39m [movie_rec\u001b[39m.\u001b[39;49mget_user_movie_rating(user_id\u001b[39m=\u001b[39;49mu, movie_id\u001b[39m=\u001b[39;49mmovie1_id) \u001b[39mfor\u001b[39;00m u \u001b[39min\u001b[39;00m common_users]\n\u001b[0;32m      4\u001b[0m     movie2_ratings \u001b[39m=\u001b[39m [movie_rec\u001b[39m.\u001b[39mget_user_movie_rating(user_id\u001b[39m=\u001b[39mu, movie_id\u001b[39m=\u001b[39mmovie2_id) \u001b[39mfor\u001b[39;00m u \u001b[39min\u001b[39;00m common_users]\n\u001b[0;32m      5\u001b[0m     coeff \u001b[39m=\u001b[39m np\u001b[39m.\u001b[39mcorrcoef(np\u001b[39m.\u001b[39marray(movie1_ratings), np\u001b[39m.\u001b[39marray(movie2_ratings))[\u001b[39m0\u001b[39m, \u001b[39m1\u001b[39m]\n",
      "File \u001b[1;32mc:\\Users\\john.french\\movie_recs\\movie_recommender.py:141\u001b[0m, in \u001b[0;36mMovieRecommender.get_user_movie_rating\u001b[1;34m(self, user_id, movie_id)\u001b[0m\n\u001b[0;32m    140\u001b[0m \u001b[39mdef\u001b[39;00m \u001b[39mget_user_movie_rating\u001b[39m(\u001b[39mself\u001b[39m, user_id: \u001b[39mint\u001b[39m, movie_id: \u001b[39mint\u001b[39m):\n\u001b[1;32m--> 141\u001b[0m     \u001b[39mreturn\u001b[39;00m \u001b[39mint\u001b[39m(\u001b[39mself\u001b[39m\u001b[39m.\u001b[39mratings_df\u001b[39m.\u001b[39mloc[(\u001b[39mself\u001b[39m\u001b[39m.\u001b[39mratings_df[\u001b[39m'\u001b[39m\u001b[39muser_id\u001b[39m\u001b[39m'\u001b[39m] \u001b[39m==\u001b[39m user_id) \u001b[39m&\u001b[39m (\u001b[39mself\u001b[39;49m\u001b[39m.\u001b[39;49mratings_df\u001b[39m.\u001b[39;49mindex \u001b[39m==\u001b[39;49m movie_id), \u001b[39m'\u001b[39m\u001b[39mrating\u001b[39m\u001b[39m'\u001b[39m])\n",
      "File \u001b[1;32m~\\AppData\\Roaming\\Python\\Python310\\site-packages\\pandas\\core\\ops\\common.py:72\u001b[0m, in \u001b[0;36m_unpack_zerodim_and_defer.<locals>.new_method\u001b[1;34m(self, other)\u001b[0m\n\u001b[0;32m     68\u001b[0m             \u001b[39mreturn\u001b[39;00m \u001b[39mNotImplemented\u001b[39m\n\u001b[0;32m     70\u001b[0m other \u001b[39m=\u001b[39m item_from_zerodim(other)\n\u001b[1;32m---> 72\u001b[0m \u001b[39mreturn\u001b[39;00m method(\u001b[39mself\u001b[39;49m, other)\n",
      "File \u001b[1;32m~\\AppData\\Roaming\\Python\\Python310\\site-packages\\pandas\\core\\arraylike.py:42\u001b[0m, in \u001b[0;36mOpsMixin.__eq__\u001b[1;34m(self, other)\u001b[0m\n\u001b[0;32m     40\u001b[0m \u001b[39m@unpack_zerodim_and_defer\u001b[39m(\u001b[39m\"\u001b[39m\u001b[39m__eq__\u001b[39m\u001b[39m\"\u001b[39m)\n\u001b[0;32m     41\u001b[0m \u001b[39mdef\u001b[39;00m \u001b[39m__eq__\u001b[39m(\u001b[39mself\u001b[39m, other):\n\u001b[1;32m---> 42\u001b[0m     \u001b[39mreturn\u001b[39;00m \u001b[39mself\u001b[39;49m\u001b[39m.\u001b[39;49m_cmp_method(other, operator\u001b[39m.\u001b[39;49meq)\n",
      "File \u001b[1;32m~\\AppData\\Roaming\\Python\\Python310\\site-packages\\pandas\\core\\indexes\\base.py:7025\u001b[0m, in \u001b[0;36mIndex._cmp_method\u001b[1;34m(self, other, op)\u001b[0m\n\u001b[0;32m   7023\u001b[0m \u001b[39melse\u001b[39;00m:\n\u001b[0;32m   7024\u001b[0m     \u001b[39mwith\u001b[39;00m np\u001b[39m.\u001b[39merrstate(\u001b[39mall\u001b[39m\u001b[39m=\u001b[39m\u001b[39m\"\u001b[39m\u001b[39mignore\u001b[39m\u001b[39m\"\u001b[39m):\n\u001b[1;32m-> 7025\u001b[0m         result \u001b[39m=\u001b[39m ops\u001b[39m.\u001b[39;49mcomparison_op(\u001b[39mself\u001b[39;49m\u001b[39m.\u001b[39;49m_values, other, op)\n\u001b[0;32m   7027\u001b[0m \u001b[39mreturn\u001b[39;00m result\n",
      "File \u001b[1;32m~\\AppData\\Roaming\\Python\\Python310\\site-packages\\pandas\\core\\ops\\array_ops.py:290\u001b[0m, in \u001b[0;36mcomparison_op\u001b[1;34m(left, right, op)\u001b[0m\n\u001b[0;32m    287\u001b[0m     res_values \u001b[39m=\u001b[39m comp_method_OBJECT_ARRAY(op, lvalues, rvalues)\n\u001b[0;32m    289\u001b[0m \u001b[39melse\u001b[39;00m:\n\u001b[1;32m--> 290\u001b[0m     res_values \u001b[39m=\u001b[39m _na_arithmetic_op(lvalues, rvalues, op, is_cmp\u001b[39m=\u001b[39;49m\u001b[39mTrue\u001b[39;49;00m)\n\u001b[0;32m    292\u001b[0m \u001b[39mreturn\u001b[39;00m res_values\n",
      "File \u001b[1;32m~\\AppData\\Roaming\\Python\\Python310\\site-packages\\pandas\\core\\ops\\array_ops.py:165\u001b[0m, in \u001b[0;36m_na_arithmetic_op\u001b[1;34m(left, right, op, is_cmp)\u001b[0m\n\u001b[0;32m    162\u001b[0m     func \u001b[39m=\u001b[39m partial(expressions\u001b[39m.\u001b[39mevaluate, op)\n\u001b[0;32m    164\u001b[0m \u001b[39mtry\u001b[39;00m:\n\u001b[1;32m--> 165\u001b[0m     result \u001b[39m=\u001b[39m func(left, right)\n\u001b[0;32m    166\u001b[0m \u001b[39mexcept\u001b[39;00m \u001b[39mTypeError\u001b[39;00m:\n\u001b[0;32m    167\u001b[0m     \u001b[39mif\u001b[39;00m \u001b[39mnot\u001b[39;00m is_cmp \u001b[39mand\u001b[39;00m (is_object_dtype(left\u001b[39m.\u001b[39mdtype) \u001b[39mor\u001b[39;00m is_object_dtype(right)):\n\u001b[0;32m    168\u001b[0m         \u001b[39m# For object dtype, fallback to a masked operation (only operating\u001b[39;00m\n\u001b[0;32m    169\u001b[0m         \u001b[39m#  on the non-missing values)\u001b[39;00m\n\u001b[0;32m    170\u001b[0m         \u001b[39m# Don't do this for comparisons, as that will handle complex numbers\u001b[39;00m\n\u001b[0;32m    171\u001b[0m         \u001b[39m#  incorrectly, see GH#32047\u001b[39;00m\n",
      "File \u001b[1;32m~\\AppData\\Roaming\\Python\\Python310\\site-packages\\pandas\\core\\computation\\expressions.py:241\u001b[0m, in \u001b[0;36mevaluate\u001b[1;34m(op, a, b, use_numexpr)\u001b[0m\n\u001b[0;32m    238\u001b[0m \u001b[39mif\u001b[39;00m op_str \u001b[39mis\u001b[39;00m \u001b[39mnot\u001b[39;00m \u001b[39mNone\u001b[39;00m:\n\u001b[0;32m    239\u001b[0m     \u001b[39mif\u001b[39;00m use_numexpr:\n\u001b[0;32m    240\u001b[0m         \u001b[39m# error: \"None\" not callable\u001b[39;00m\n\u001b[1;32m--> 241\u001b[0m         \u001b[39mreturn\u001b[39;00m _evaluate(op, op_str, a, b)  \u001b[39m# type: ignore[misc]\u001b[39;00m\n\u001b[0;32m    242\u001b[0m \u001b[39mreturn\u001b[39;00m _evaluate_standard(op, op_str, a, b)\n",
      "File \u001b[1;32m~\\AppData\\Roaming\\Python\\Python310\\site-packages\\pandas\\core\\computation\\expressions.py:70\u001b[0m, in \u001b[0;36m_evaluate_standard\u001b[1;34m(op, op_str, a, b)\u001b[0m\n\u001b[0;32m     68\u001b[0m \u001b[39mif\u001b[39;00m _TEST_MODE:\n\u001b[0;32m     69\u001b[0m     _store_test_result(\u001b[39mFalse\u001b[39;00m)\n\u001b[1;32m---> 70\u001b[0m \u001b[39mreturn\u001b[39;00m op(a, b)\n",
      "\u001b[1;31mKeyboardInterrupt\u001b[0m: "
     ]
    }
   ],
   "source": [
    "def get_movie_rating_pearson_coeff(movie1_id: int, movie2_id: int)-> float:\n",
    "    common_users = movie_rec.get_common_users(movie1_id=movie1_id, movie2_id=movie2_id)\n",
    "    movie1_ratings = [movie_rec.get_user_movie_rating(user_id=u, movie_id=movie1_id) for u in common_users]\n",
    "    movie2_ratings = [movie_rec.get_user_movie_rating(user_id=u, movie_id=movie2_id) for u in common_users]\n",
    "    coeff = np.corrcoef(np.array(movie1_ratings), np.array(movie2_ratings))[0, 1]\n",
    "    movie1_title = movie_rec.get_movie_title(movie1_id)\n",
    "    movie2_title = movie_rec.get_movie_title(movie2_id)\n",
    "    print(f'{movie1_title} and {movie2_title} have a correlation of {\"{:.2f}\".format(coeff)} from {len(common_users)} users who have rated both')\n",
    "\n",
    "get_movie_rating_pearson_coeff(1, 3)"
   ]
  }
 ],
 "metadata": {
  "kernelspec": {
   "display_name": "Python 3",
   "language": "python",
   "name": "python3"
  },
  "language_info": {
   "codemirror_mode": {
    "name": "ipython",
    "version": 3
   },
   "file_extension": ".py",
   "mimetype": "text/x-python",
   "name": "python",
   "nbconvert_exporter": "python",
   "pygments_lexer": "ipython3",
   "version": "3.10.5"
  },
  "orig_nbformat": 4,
  "vscode": {
   "interpreter": {
    "hash": "26de051ba29f2982a8de78e945f0abaf191376122a1563185a90213a26c5da77"
   }
  }
 },
 "nbformat": 4,
 "nbformat_minor": 2
}
