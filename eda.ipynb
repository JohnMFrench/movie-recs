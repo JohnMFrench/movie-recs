{
 "cells": [
  {
   "cell_type": "code",
   "execution_count": 19,
   "metadata": {},
   "outputs": [],
   "source": [
    "from movie_recommender import MovieRecommender\n",
    "import timeit"
   ]
  },
  {
   "cell_type": "code",
   "execution_count": 20,
   "metadata": {},
   "outputs": [
    {
     "name": "stdout",
     "output_type": "stream",
     "text": [
      "found pickle at c:\\Users\\john.french\\movie_recs\\data\\pickled\\movie_ratings.pkl\n",
      "Read dataframes in 40.100850500006345ms\n",
      "69878\n"
     ]
    }
   ],
   "source": [
    "started = timeit.default_timer()\n",
    "movies_file = 'data/ml-10M100K/movies.dat'\n",
    "ratings_file = 'data/ml-10M100K/ratings.dat'\n",
    "movie_rec = MovieRecommender(movies_filename=movies_file, ratings_filename=ratings_file)\n",
    "elapsed = timeit.default_timer() - started\n",
    "print(f'Read dataframes in {elapsed}ms')\n",
    "\n",
    "print(movie_rec.ratings_df['user_id'].nunique())"
   ]
  },
  {
   "cell_type": "code",
   "execution_count": 21,
   "metadata": {},
   "outputs": [
    {
     "name": "stdout",
     "output_type": "stream",
     "text": [
      "started add_movie_rating with user of 69878\n",
      "(69878, 10677)\n",
      "movie_id  1      2      3      4      5      6      7      8      9      \\\n",
      "69878         0      0      0      0      0      0      0      0      0   \n",
      "\n",
      "movie_id  10     ...  65006  65011  65025  65027  65037  65088  65091  65126  \\\n",
      "69878         0  ...      0      0      0      0      0      0      0      0   \n",
      "\n",
      "movie_id  65130  65133  \n",
      "69878         0      0  \n",
      "\n",
      "[1 rows x 10677 columns]\n",
      "(69879, 10677)\n"
     ]
    }
   ],
   "source": [
    "u = int(movie_rec.mrm_df.shape[0])\n",
    "# u = 2\n",
    "# print(type(u), u)\n",
    "\n",
    "# movie_rec.new_add_movie_rating(movie_id=1219, user_id=u, rating=5) # Psycho\n",
    "# How to make an american quilt\n",
    "# movie_rec.new_add_movie_rating(movie_id=46, user_id=u, rating=5) \n",
    "movie_rec.new_add_movie_rating(movie_id=16, user_id=u, rating=5) # Casino\n",
    "# movie_rec.new_add_movie_rating(movie_id=30, user_id=u, rating=5)\n",
    "# movie_rec.new_add_movie_rating(movie_id=232, user_id=u, rating=5)\n",
    "# movie_rec.new_add_movie_rating(movie_id=858, user_id=u, rating=5)\n",
    "# movie_rec.new_add_movie_rating(movie_id=48, user_id=u, rating=5)\n",
    "# movie_rec.new_add_movie_rating(movie_id=1213, user_id=u, rating=5)\n",
    "# movie_rec.new_add_movie_rating(movie_id=858, user_id=u, rating=5)\n",
    "\n",
    "movie_rec.refit_model()\n"
   ]
  },
  {
   "cell_type": "code",
   "execution_count": 22,
   "metadata": {},
   "outputs": [
    {
     "name": "stdout",
     "output_type": "stream",
     "text": [
      "get user recommendation started for 69878\n",
      "get similar users called on user  69878  with type  <class 'int'>\n",
      "get_similar_users called with self.mrm_df shape of (69879, 10677)\n",
      "values for 69878\n",
      "knn_input with shape of (1, 10677)\n",
      "movie_id  1      2      3      4      5      6      7      8      9      \\\n",
      "69878         0      0      0      0      0      0      0      0      0   \n",
      "\n",
      "movie_id  10     ...  65006  65011  65025  65027  65037  65088  65091  65126  \\\n",
      "69878         0  ...      0      0      0      0      0      0      0      0   \n",
      "\n",
      "movie_id  65130  65133  \n",
      "69878         0      0  \n",
      "\n",
      "[1 rows x 10677 columns]\n",
      "get_similar_users called with knn_input shape of (1, 10677)\n",
      "Top 3 users who are very much similar to the User- 69878are: \n",
      "1 . User: 52641 separated by distance of 0.6313951096127572\n",
      "2 . User: 29172 separated by distance of 0.6779216867995845\n",
      "3 . User: 57766 separated by distance of 0.683772233983162\n",
      "Casino\n",
      "Shining, The\n",
      "Armageddon\n"
     ]
    }
   ],
   "source": [
    "movie_rec.get_user_based_recommendation(u)"
   ]
  },
  {
   "cell_type": "code",
   "execution_count": 23,
   "metadata": {},
   "outputs": [
    {
     "name": "stdout",
     "output_type": "stream",
     "text": [
      "Lost World: Jurassic Park, The (Jurassic Park 2) 2\n",
      "Starship Troopers 5\n",
      "Schindler's List 4\n",
      "Close Encounters of the Third Kind 5\n",
      "Maltese Falcon, The 4\n",
      "Eyes Wide Shut 5\n",
      "Time Bandits 4\n",
      "Starsky & Hutch 2\n",
      "So I Married an Axe Murderer 4\n",
      "Front, The 4\n",
      "To Die For 4\n",
      "Brazil 5\n",
      "Lawrence of Arabia 5\n",
      "Cast Away 5\n",
      "Lost in Translation 5\n",
      "Almost Famous 3\n",
      "Eternal Sunshine of the Spotless Mind 5\n",
      "Croupier 3\n",
      "Hellboy 4\n",
      "Erin Brockovich 1\n",
      "Shrek 2\n",
      "Pinocchio 4\n",
      "Big Bounce, The 1\n",
      "Glory 3\n",
      "Rushmore 5\n",
      "City Lights 5\n",
      "Naked Gun 33 1/3: The Final Insult 2\n",
      "Sneakers 4\n",
      "Christmas Story, A 5\n"
     ]
    }
   ],
   "source": [
    "# movie_rec.get_user_movies(69877)\n",
    "for m in movie_rec.get_user_movies(69877):\n",
    "    print(movie_rec.get_movie_title(m), movie_rec.get_user_movie_rating(69877, m))\n",
    "# movie_rec.get_user_movie_rating(8546, 1)\n",
    "# movie_rec.get_user_movie_rating(8546, 2)\n",
    "# print(f'User {u} has seen...')\n",
    "# for m in movie_rec.get_user_movies(u):\n",
    "#     print(movie_rec.get_movie_title(m))"
   ]
  },
  {
   "cell_type": "code",
   "execution_count": 24,
   "metadata": {},
   "outputs": [
    {
     "name": "stdout",
     "output_type": "stream",
     "text": [
      "get similar users called on user  69878  with type  <class 'int'>\n",
      "get_similar_users called with self.mrm_df shape of (69879, 10677)\n",
      "values for 69878\n",
      "knn_input with shape of (1, 10677)\n",
      "movie_id  1      2      3      4      5      6      7      8      9      \\\n",
      "69878         0      0      0      0      0      0      0      0      0   \n",
      "\n",
      "movie_id  10     ...  65006  65011  65025  65027  65037  65088  65091  65126  \\\n",
      "69878         0  ...      0      0      0      0      0      0      0      0   \n",
      "\n",
      "movie_id  65130  65133  \n",
      "69878         0      0  \n",
      "\n",
      "[1 rows x 10677 columns]\n",
      "get_similar_users called with knn_input shape of (1, 10677)\n",
      "Top 3 users who are very much similar to the User- 69878are: \n",
      "1 . User: 52641 separated by distance of 0.6313951096127572\n",
      "2 . User: 29172 separated by distance of 0.6779216867995845\n",
      "3 . User: 57766 separated by distance of 0.683772233983162\n"
     ]
    }
   ],
   "source": [
    "users, dists = movie_rec.get_similar_users(u)\n",
    "# for rec_user in users:\n",
    "#     # print(f'{rec_user}\\'s movies')\n",
    "#     for m in movie_rec.get_user_movies(rec_user):\n",
    "#         # print(movie_rec.get_movie_title(m))\n",
    "\n",
    "# print(movie_rec.get_movie_title(20))\n",
    "# print(movie_rec.get_movie_title(25))\n",
    "# print(movie_rec.get_movie_title(50))"
   ]
  },
  {
   "cell_type": "code",
   "execution_count": 25,
   "metadata": {},
   "outputs": [
    {
     "data": {
      "text/html": [
       "<div>\n",
       "<style scoped>\n",
       "    .dataframe tbody tr th:only-of-type {\n",
       "        vertical-align: middle;\n",
       "    }\n",
       "\n",
       "    .dataframe tbody tr th {\n",
       "        vertical-align: top;\n",
       "    }\n",
       "\n",
       "    .dataframe thead th {\n",
       "        text-align: right;\n",
       "    }\n",
       "</style>\n",
       "<table border=\"1\" class=\"dataframe\">\n",
       "  <thead>\n",
       "    <tr style=\"text-align: right;\">\n",
       "      <th></th>\n",
       "      <th>user_id</th>\n",
       "      <th>rating</th>\n",
       "      <th>timestamp</th>\n",
       "    </tr>\n",
       "    <tr>\n",
       "      <th>movie_id</th>\n",
       "      <th></th>\n",
       "      <th></th>\n",
       "      <th></th>\n",
       "    </tr>\n",
       "  </thead>\n",
       "  <tbody>\n",
       "    <tr>\n",
       "      <th>122</th>\n",
       "      <td>1</td>\n",
       "      <td>5</td>\n",
       "      <td>838985046.0</td>\n",
       "    </tr>\n",
       "    <tr>\n",
       "      <th>185</th>\n",
       "      <td>1</td>\n",
       "      <td>5</td>\n",
       "      <td>838983525.0</td>\n",
       "    </tr>\n",
       "    <tr>\n",
       "      <th>231</th>\n",
       "      <td>1</td>\n",
       "      <td>5</td>\n",
       "      <td>838983392.0</td>\n",
       "    </tr>\n",
       "    <tr>\n",
       "      <th>292</th>\n",
       "      <td>1</td>\n",
       "      <td>5</td>\n",
       "      <td>838983421.0</td>\n",
       "    </tr>\n",
       "    <tr>\n",
       "      <th>316</th>\n",
       "      <td>1</td>\n",
       "      <td>5</td>\n",
       "      <td>838983392.0</td>\n",
       "    </tr>\n",
       "  </tbody>\n",
       "</table>\n",
       "</div>"
      ],
      "text/plain": [
       "          user_id  rating    timestamp\n",
       "movie_id                              \n",
       "122             1       5  838985046.0\n",
       "185             1       5  838983525.0\n",
       "231             1       5  838983392.0\n",
       "292             1       5  838983421.0\n",
       "316             1       5  838983392.0"
      ]
     },
     "execution_count": 25,
     "metadata": {},
     "output_type": "execute_result"
    }
   ],
   "source": [
    "user_id = movie_rec.get_next_avail_user_id()\n",
    "# movie_rec.add_movie_rating(movie_id=1, user_id= user_id, rating= 5) # Toy Story\n",
    "# movie_rec.add_movie_rating(movie_id=2, user_id= user_id, rating= 5) # Jumanji\n",
    "# movie_rec.add_movie_rating(movie_id=48, user_id= user_id, rating= 5) # Pocahontas\n",
    "# movie_rec.add_movie_rating(movie_id=20, user_id= user_id, rating= 5) # Money Train\n",
    "# movie_rec.add_movie_rating(movie_id=25, user_id= user_id, rating= 5) # Leaving Las Vegas\n",
    "# movie_rec.add_movie_rating(movie_id=50, user_id= user_id, rating= 5) # The Usual Suspects\n",
    "movie_rec.ratings_df.head()"
   ]
  },
  {
   "cell_type": "code",
   "execution_count": 26,
   "metadata": {},
   "outputs": [
    {
     "name": "stdout",
     "output_type": "stream",
     "text": [
      "Toy Story\n",
      "Jumanji\n",
      "26449\n",
      "12032\n",
      "7394\n"
     ]
    }
   ],
   "source": [
    "import numpy as np\n",
    "\n",
    "\n",
    "# return the difference between average ratings for two movies\n",
    "def get_movie_mean_rating_error(movie1_id: int, movie2_id: int):\n",
    "    movie1_ratings = np.mean(\n",
    "        movie_rec.ratings_df.loc[movie_rec.ratings_df.index == movie1_id]['rating'].values)\n",
    "    movie2_ratings = np.mean(\n",
    "        movie_rec.ratings_df.loc[movie_rec.ratings_df.index == movie2_id]['rating'].values)\n",
    "    return abs(movie1_ratings - movie2_ratings)\n",
    "\n",
    "\n",
    "# get_movie_mean_rating_error(599, 700)\n",
    "# movie_rec.get_movie_users(5)\n",
    "print(movie_rec.get_movie_title(1))\n",
    "print(movie_rec.get_movie_title(2))\n",
    "print(len(movie_rec.get_movie_users(1)))\n",
    "print(len(movie_rec.get_movie_users(2)))\n",
    "print(len(movie_rec.get_common_users(1, 2)))"
   ]
  },
  {
   "cell_type": "code",
   "execution_count": 27,
   "metadata": {},
   "outputs": [
    {
     "ename": "KeyboardInterrupt",
     "evalue": "",
     "output_type": "error",
     "traceback": [
      "\u001b[1;31m---------------------------------------------------------------------------\u001b[0m",
      "\u001b[1;31mKeyboardInterrupt\u001b[0m                         Traceback (most recent call last)",
      "Cell \u001b[1;32mIn[27], line 10\u001b[0m\n\u001b[0;32m      7\u001b[0m     movie2_title \u001b[39m=\u001b[39m movie_rec\u001b[39m.\u001b[39mget_movie_title(movie2_id)\n\u001b[0;32m      8\u001b[0m     \u001b[39mprint\u001b[39m(\u001b[39mf\u001b[39m\u001b[39m'\u001b[39m\u001b[39m{\u001b[39;00mmovie1_title\u001b[39m}\u001b[39;00m\u001b[39m and \u001b[39m\u001b[39m{\u001b[39;00mmovie2_title\u001b[39m}\u001b[39;00m\u001b[39m have a correlation of \u001b[39m\u001b[39m{\u001b[39;00m\u001b[39m\"\u001b[39m\u001b[39m{:.2f}\u001b[39;00m\u001b[39m\"\u001b[39m\u001b[39m.\u001b[39mformat(coeff)\u001b[39m}\u001b[39;00m\u001b[39m from \u001b[39m\u001b[39m{\u001b[39;00m\u001b[39mlen\u001b[39m(common_users)\u001b[39m}\u001b[39;00m\u001b[39m users who have rated both\u001b[39m\u001b[39m'\u001b[39m)\n\u001b[1;32m---> 10\u001b[0m get_movie_rating_pearson_coeff(\u001b[39m1\u001b[39;49m, \u001b[39m3\u001b[39;49m)\n",
      "Cell \u001b[1;32mIn[27], line 3\u001b[0m, in \u001b[0;36mget_movie_rating_pearson_coeff\u001b[1;34m(movie1_id, movie2_id)\u001b[0m\n\u001b[0;32m      1\u001b[0m \u001b[39mdef\u001b[39;00m \u001b[39mget_movie_rating_pearson_coeff\u001b[39m(movie1_id: \u001b[39mint\u001b[39m, movie2_id: \u001b[39mint\u001b[39m)\u001b[39m-\u001b[39m\u001b[39m>\u001b[39m \u001b[39mfloat\u001b[39m:\n\u001b[0;32m      2\u001b[0m     common_users \u001b[39m=\u001b[39m movie_rec\u001b[39m.\u001b[39mget_common_users(movie1_id\u001b[39m=\u001b[39mmovie1_id, movie2_id\u001b[39m=\u001b[39mmovie2_id)\n\u001b[1;32m----> 3\u001b[0m     movie1_ratings \u001b[39m=\u001b[39m [movie_rec\u001b[39m.\u001b[39mget_user_movie_rating(user_id\u001b[39m=\u001b[39mu, movie_id\u001b[39m=\u001b[39mmovie1_id) \u001b[39mfor\u001b[39;00m u \u001b[39min\u001b[39;00m common_users]\n\u001b[0;32m      4\u001b[0m     movie2_ratings \u001b[39m=\u001b[39m [movie_rec\u001b[39m.\u001b[39mget_user_movie_rating(user_id\u001b[39m=\u001b[39mu, movie_id\u001b[39m=\u001b[39mmovie2_id) \u001b[39mfor\u001b[39;00m u \u001b[39min\u001b[39;00m common_users]\n\u001b[0;32m      5\u001b[0m     coeff \u001b[39m=\u001b[39m np\u001b[39m.\u001b[39mcorrcoef(np\u001b[39m.\u001b[39marray(movie1_ratings), np\u001b[39m.\u001b[39marray(movie2_ratings))[\u001b[39m0\u001b[39m, \u001b[39m1\u001b[39m]\n",
      "Cell \u001b[1;32mIn[27], line 3\u001b[0m, in \u001b[0;36m<listcomp>\u001b[1;34m(.0)\u001b[0m\n\u001b[0;32m      1\u001b[0m \u001b[39mdef\u001b[39;00m \u001b[39mget_movie_rating_pearson_coeff\u001b[39m(movie1_id: \u001b[39mint\u001b[39m, movie2_id: \u001b[39mint\u001b[39m)\u001b[39m-\u001b[39m\u001b[39m>\u001b[39m \u001b[39mfloat\u001b[39m:\n\u001b[0;32m      2\u001b[0m     common_users \u001b[39m=\u001b[39m movie_rec\u001b[39m.\u001b[39mget_common_users(movie1_id\u001b[39m=\u001b[39mmovie1_id, movie2_id\u001b[39m=\u001b[39mmovie2_id)\n\u001b[1;32m----> 3\u001b[0m     movie1_ratings \u001b[39m=\u001b[39m [movie_rec\u001b[39m.\u001b[39;49mget_user_movie_rating(user_id\u001b[39m=\u001b[39;49mu, movie_id\u001b[39m=\u001b[39;49mmovie1_id) \u001b[39mfor\u001b[39;00m u \u001b[39min\u001b[39;00m common_users]\n\u001b[0;32m      4\u001b[0m     movie2_ratings \u001b[39m=\u001b[39m [movie_rec\u001b[39m.\u001b[39mget_user_movie_rating(user_id\u001b[39m=\u001b[39mu, movie_id\u001b[39m=\u001b[39mmovie2_id) \u001b[39mfor\u001b[39;00m u \u001b[39min\u001b[39;00m common_users]\n\u001b[0;32m      5\u001b[0m     coeff \u001b[39m=\u001b[39m np\u001b[39m.\u001b[39mcorrcoef(np\u001b[39m.\u001b[39marray(movie1_ratings), np\u001b[39m.\u001b[39marray(movie2_ratings))[\u001b[39m0\u001b[39m, \u001b[39m1\u001b[39m]\n",
      "File \u001b[1;32mc:\\Users\\john.french\\movie_recs\\movie_recommender.py:184\u001b[0m, in \u001b[0;36mMovieRecommender.get_user_movie_rating\u001b[1;34m(self, user_id, movie_id)\u001b[0m\n\u001b[0;32m    183\u001b[0m \u001b[39mdef\u001b[39;00m \u001b[39mget_user_movie_rating\u001b[39m(\u001b[39mself\u001b[39m, user_id: \u001b[39mint\u001b[39m, movie_id: \u001b[39mint\u001b[39m):\n\u001b[1;32m--> 184\u001b[0m     \u001b[39mreturn\u001b[39;00m \u001b[39mint\u001b[39m(\u001b[39mself\u001b[39m\u001b[39m.\u001b[39mratings_df\u001b[39m.\u001b[39mloc[(\u001b[39mself\u001b[39m\u001b[39m.\u001b[39mratings_df[\u001b[39m'\u001b[39m\u001b[39muser_id\u001b[39m\u001b[39m'\u001b[39m] \u001b[39m==\u001b[39m user_id) \u001b[39m&\u001b[39m (\u001b[39mself\u001b[39;49m\u001b[39m.\u001b[39;49mratings_df\u001b[39m.\u001b[39;49mindex \u001b[39m==\u001b[39;49m movie_id), \u001b[39m'\u001b[39m\u001b[39mrating\u001b[39m\u001b[39m'\u001b[39m])\n",
      "File \u001b[1;32m~\\AppData\\Roaming\\Python\\Python310\\site-packages\\pandas\\core\\ops\\common.py:72\u001b[0m, in \u001b[0;36m_unpack_zerodim_and_defer.<locals>.new_method\u001b[1;34m(self, other)\u001b[0m\n\u001b[0;32m     68\u001b[0m             \u001b[39mreturn\u001b[39;00m \u001b[39mNotImplemented\u001b[39m\n\u001b[0;32m     70\u001b[0m other \u001b[39m=\u001b[39m item_from_zerodim(other)\n\u001b[1;32m---> 72\u001b[0m \u001b[39mreturn\u001b[39;00m method(\u001b[39mself\u001b[39;49m, other)\n",
      "File \u001b[1;32m~\\AppData\\Roaming\\Python\\Python310\\site-packages\\pandas\\core\\arraylike.py:42\u001b[0m, in \u001b[0;36mOpsMixin.__eq__\u001b[1;34m(self, other)\u001b[0m\n\u001b[0;32m     40\u001b[0m \u001b[39m@unpack_zerodim_and_defer\u001b[39m(\u001b[39m\"\u001b[39m\u001b[39m__eq__\u001b[39m\u001b[39m\"\u001b[39m)\n\u001b[0;32m     41\u001b[0m \u001b[39mdef\u001b[39;00m \u001b[39m__eq__\u001b[39m(\u001b[39mself\u001b[39m, other):\n\u001b[1;32m---> 42\u001b[0m     \u001b[39mreturn\u001b[39;00m \u001b[39mself\u001b[39;49m\u001b[39m.\u001b[39;49m_cmp_method(other, operator\u001b[39m.\u001b[39;49meq)\n",
      "File \u001b[1;32m~\\AppData\\Roaming\\Python\\Python310\\site-packages\\pandas\\core\\indexes\\base.py:7025\u001b[0m, in \u001b[0;36mIndex._cmp_method\u001b[1;34m(self, other, op)\u001b[0m\n\u001b[0;32m   7023\u001b[0m \u001b[39melse\u001b[39;00m:\n\u001b[0;32m   7024\u001b[0m     \u001b[39mwith\u001b[39;00m np\u001b[39m.\u001b[39merrstate(\u001b[39mall\u001b[39m\u001b[39m=\u001b[39m\u001b[39m\"\u001b[39m\u001b[39mignore\u001b[39m\u001b[39m\"\u001b[39m):\n\u001b[1;32m-> 7025\u001b[0m         result \u001b[39m=\u001b[39m ops\u001b[39m.\u001b[39;49mcomparison_op(\u001b[39mself\u001b[39;49m\u001b[39m.\u001b[39;49m_values, other, op)\n\u001b[0;32m   7027\u001b[0m \u001b[39mreturn\u001b[39;00m result\n",
      "File \u001b[1;32m~\\AppData\\Roaming\\Python\\Python310\\site-packages\\pandas\\core\\ops\\array_ops.py:290\u001b[0m, in \u001b[0;36mcomparison_op\u001b[1;34m(left, right, op)\u001b[0m\n\u001b[0;32m    287\u001b[0m     res_values \u001b[39m=\u001b[39m comp_method_OBJECT_ARRAY(op, lvalues, rvalues)\n\u001b[0;32m    289\u001b[0m \u001b[39melse\u001b[39;00m:\n\u001b[1;32m--> 290\u001b[0m     res_values \u001b[39m=\u001b[39m _na_arithmetic_op(lvalues, rvalues, op, is_cmp\u001b[39m=\u001b[39;49m\u001b[39mTrue\u001b[39;49;00m)\n\u001b[0;32m    292\u001b[0m \u001b[39mreturn\u001b[39;00m res_values\n",
      "File \u001b[1;32m~\\AppData\\Roaming\\Python\\Python310\\site-packages\\pandas\\core\\ops\\array_ops.py:165\u001b[0m, in \u001b[0;36m_na_arithmetic_op\u001b[1;34m(left, right, op, is_cmp)\u001b[0m\n\u001b[0;32m    162\u001b[0m     func \u001b[39m=\u001b[39m partial(expressions\u001b[39m.\u001b[39mevaluate, op)\n\u001b[0;32m    164\u001b[0m \u001b[39mtry\u001b[39;00m:\n\u001b[1;32m--> 165\u001b[0m     result \u001b[39m=\u001b[39m func(left, right)\n\u001b[0;32m    166\u001b[0m \u001b[39mexcept\u001b[39;00m \u001b[39mTypeError\u001b[39;00m:\n\u001b[0;32m    167\u001b[0m     \u001b[39mif\u001b[39;00m \u001b[39mnot\u001b[39;00m is_cmp \u001b[39mand\u001b[39;00m (is_object_dtype(left\u001b[39m.\u001b[39mdtype) \u001b[39mor\u001b[39;00m is_object_dtype(right)):\n\u001b[0;32m    168\u001b[0m         \u001b[39m# For object dtype, fallback to a masked operation (only operating\u001b[39;00m\n\u001b[0;32m    169\u001b[0m         \u001b[39m#  on the non-missing values)\u001b[39;00m\n\u001b[0;32m    170\u001b[0m         \u001b[39m# Don't do this for comparisons, as that will handle complex numbers\u001b[39;00m\n\u001b[0;32m    171\u001b[0m         \u001b[39m#  incorrectly, see GH#32047\u001b[39;00m\n",
      "File \u001b[1;32m~\\AppData\\Roaming\\Python\\Python310\\site-packages\\pandas\\core\\computation\\expressions.py:241\u001b[0m, in \u001b[0;36mevaluate\u001b[1;34m(op, a, b, use_numexpr)\u001b[0m\n\u001b[0;32m    238\u001b[0m \u001b[39mif\u001b[39;00m op_str \u001b[39mis\u001b[39;00m \u001b[39mnot\u001b[39;00m \u001b[39mNone\u001b[39;00m:\n\u001b[0;32m    239\u001b[0m     \u001b[39mif\u001b[39;00m use_numexpr:\n\u001b[0;32m    240\u001b[0m         \u001b[39m# error: \"None\" not callable\u001b[39;00m\n\u001b[1;32m--> 241\u001b[0m         \u001b[39mreturn\u001b[39;00m _evaluate(op, op_str, a, b)  \u001b[39m# type: ignore[misc]\u001b[39;00m\n\u001b[0;32m    242\u001b[0m \u001b[39mreturn\u001b[39;00m _evaluate_standard(op, op_str, a, b)\n",
      "File \u001b[1;32m~\\AppData\\Roaming\\Python\\Python310\\site-packages\\pandas\\core\\computation\\expressions.py:70\u001b[0m, in \u001b[0;36m_evaluate_standard\u001b[1;34m(op, op_str, a, b)\u001b[0m\n\u001b[0;32m     68\u001b[0m \u001b[39mif\u001b[39;00m _TEST_MODE:\n\u001b[0;32m     69\u001b[0m     _store_test_result(\u001b[39mFalse\u001b[39;00m)\n\u001b[1;32m---> 70\u001b[0m \u001b[39mreturn\u001b[39;00m op(a, b)\n",
      "\u001b[1;31mKeyboardInterrupt\u001b[0m: "
     ]
    }
   ],
   "source": [
    "def get_movie_rating_pearson_coeff(movie1_id: int, movie2_id: int)-> float:\n",
    "    common_users = movie_rec.get_common_users(movie1_id=movie1_id, movie2_id=movie2_id)\n",
    "    movie1_ratings = [movie_rec.get_user_movie_rating(user_id=u, movie_id=movie1_id) for u in common_users]\n",
    "    movie2_ratings = [movie_rec.get_user_movie_rating(user_id=u, movie_id=movie2_id) for u in common_users]\n",
    "    coeff = np.corrcoef(np.array(movie1_ratings), np.array(movie2_ratings))[0, 1]\n",
    "    movie1_title = movie_rec.get_movie_title(movie1_id)\n",
    "    movie2_title = movie_rec.get_movie_title(movie2_id)\n",
    "    print(f'{movie1_title} and {movie2_title} have a correlation of {\"{:.2f}\".format(coeff)} from {len(common_users)} users who have rated both')\n",
    "\n",
    "get_movie_rating_pearson_coeff(1, 3)"
   ]
  }
 ],
 "metadata": {
  "kernelspec": {
   "display_name": "Python 3",
   "language": "python",
   "name": "python3"
  },
  "language_info": {
   "codemirror_mode": {
    "name": "ipython",
    "version": 3
   },
   "file_extension": ".py",
   "mimetype": "text/x-python",
   "name": "python",
   "nbconvert_exporter": "python",
   "pygments_lexer": "ipython3",
   "version": "3.10.5"
  },
  "orig_nbformat": 4,
  "vscode": {
   "interpreter": {
    "hash": "26de051ba29f2982a8de78e945f0abaf191376122a1563185a90213a26c5da77"
   }
  }
 },
 "nbformat": 4,
 "nbformat_minor": 2
}
