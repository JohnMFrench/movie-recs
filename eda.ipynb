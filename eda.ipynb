{
 "cells": [
  {
   "cell_type": "code",
   "execution_count": 9,
   "metadata": {},
   "outputs": [],
   "source": [
    "from movie_recommender import MovieRecommender\n",
    "import timeit\n",
    "import pandas as pd"
   ]
  },
  {
   "cell_type": "code",
   "execution_count": 10,
   "metadata": {},
   "outputs": [
    {
     "name": "stdout",
     "output_type": "stream",
     "text": [
      "found pickle at c:\\Users\\john.french\\movie_recs\\data\\pickled\\movie_ratings.pkl\n",
      "Read dataframes in 22.84898969999631ms\n",
      "69878\n"
     ]
    }
   ],
   "source": [
    "started = timeit.default_timer()\n",
    "movies_file = 'data/ml-10M100K/movies.dat'\n",
    "ratings_file = 'data/ml-10M100K/ratings.dat'\n",
    "movie_rec = MovieRecommender(movies_filename=movies_file, ratings_filename=ratings_file)\n",
    "elapsed = timeit.default_timer() - started\n",
    "print(f'Read dataframes in {elapsed}ms')\n",
    "\n",
    "print(movie_rec.ratings_df['user_id'].nunique())"
   ]
  },
  {
   "cell_type": "code",
   "execution_count": 11,
   "metadata": {},
   "outputs": [
    {
     "name": "stderr",
     "output_type": "stream",
     "text": [
      "C:\\Users\\john.french\\AppData\\Local\\Temp\\ipykernel_17780\\1839386270.py:2: FutureWarning: The default value of regex will change from True to False in a future version. In addition, single character regular expressions will *not* be treated as literal strings when regex=True.\n",
      "  movie_rec.movies_df['genres'] = movie_rec.movies_df['genres'].str.replace('|', ' ')\n"
     ]
    },
    {
     "data": {
      "text/html": [
       "<div>\n",
       "<style scoped>\n",
       "    .dataframe tbody tr th:only-of-type {\n",
       "        vertical-align: middle;\n",
       "    }\n",
       "\n",
       "    .dataframe tbody tr th {\n",
       "        vertical-align: top;\n",
       "    }\n",
       "\n",
       "    .dataframe thead th {\n",
       "        text-align: right;\n",
       "    }\n",
       "</style>\n",
       "<table border=\"1\" class=\"dataframe\">\n",
       "  <thead>\n",
       "    <tr style=\"text-align: right;\">\n",
       "      <th></th>\n",
       "      <th>rating</th>\n",
       "      <th>name</th>\n",
       "      <th>genres</th>\n",
       "    </tr>\n",
       "    <tr>\n",
       "      <th>movie_id</th>\n",
       "      <th></th>\n",
       "      <th></th>\n",
       "      <th></th>\n",
       "    </tr>\n",
       "  </thead>\n",
       "  <tbody>\n",
       "    <tr>\n",
       "      <th>296</th>\n",
       "      <td>34864</td>\n",
       "      <td>Pulp Fiction (1994)</td>\n",
       "      <td>Comedy Crime Drama</td>\n",
       "    </tr>\n",
       "    <tr>\n",
       "      <th>356</th>\n",
       "      <td>34457</td>\n",
       "      <td>Forrest Gump (1994)</td>\n",
       "      <td>Comedy Drama Romance War</td>\n",
       "    </tr>\n",
       "    <tr>\n",
       "      <th>593</th>\n",
       "      <td>33668</td>\n",
       "      <td>Silence of the Lambs, The (1991)</td>\n",
       "      <td>Crime Horror Thriller</td>\n",
       "    </tr>\n",
       "    <tr>\n",
       "      <th>480</th>\n",
       "      <td>32631</td>\n",
       "      <td>Jurassic Park (1993)</td>\n",
       "      <td>Action Adventure Sci-Fi Thriller</td>\n",
       "    </tr>\n",
       "    <tr>\n",
       "      <th>318</th>\n",
       "      <td>31126</td>\n",
       "      <td>Shawshank Redemption, The (1994)</td>\n",
       "      <td>Drama</td>\n",
       "    </tr>\n",
       "    <tr>\n",
       "      <th>110</th>\n",
       "      <td>29154</td>\n",
       "      <td>Braveheart (1995)</td>\n",
       "      <td>Action Drama War</td>\n",
       "    </tr>\n",
       "    <tr>\n",
       "      <th>457</th>\n",
       "      <td>28951</td>\n",
       "      <td>Fugitive, The (1993)</td>\n",
       "      <td>Thriller</td>\n",
       "    </tr>\n",
       "    <tr>\n",
       "      <th>589</th>\n",
       "      <td>28948</td>\n",
       "      <td>Terminator 2: Judgment Day (1991)</td>\n",
       "      <td>Action Sci-Fi</td>\n",
       "    </tr>\n",
       "    <tr>\n",
       "      <th>260</th>\n",
       "      <td>28566</td>\n",
       "      <td>Star Wars: Episode IV - A New Hope (a.k.a. Sta...</td>\n",
       "      <td>Action Adventure Sci-Fi</td>\n",
       "    </tr>\n",
       "    <tr>\n",
       "      <th>150</th>\n",
       "      <td>27035</td>\n",
       "      <td>Apollo 13 (1995)</td>\n",
       "      <td>Adventure Drama</td>\n",
       "    </tr>\n",
       "  </tbody>\n",
       "</table>\n",
       "</div>"
      ],
      "text/plain": [
       "          rating                                               name  \\\n",
       "movie_id                                                              \n",
       "296        34864                                Pulp Fiction (1994)   \n",
       "356        34457                                Forrest Gump (1994)   \n",
       "593        33668                   Silence of the Lambs, The (1991)   \n",
       "480        32631                               Jurassic Park (1993)   \n",
       "318        31126                   Shawshank Redemption, The (1994)   \n",
       "110        29154                                  Braveheart (1995)   \n",
       "457        28951                               Fugitive, The (1993)   \n",
       "589        28948                  Terminator 2: Judgment Day (1991)   \n",
       "260        28566  Star Wars: Episode IV - A New Hope (a.k.a. Sta...   \n",
       "150        27035                                   Apollo 13 (1995)   \n",
       "\n",
       "                                    genres  \n",
       "movie_id                                    \n",
       "296                     Comedy Crime Drama  \n",
       "356               Comedy Drama Romance War  \n",
       "593                  Crime Horror Thriller  \n",
       "480       Action Adventure Sci-Fi Thriller  \n",
       "318                                  Drama  \n",
       "110                       Action Drama War  \n",
       "457                               Thriller  \n",
       "589                          Action Sci-Fi  \n",
       "260                Action Adventure Sci-Fi  \n",
       "150                        Adventure Drama  "
      ]
     },
     "execution_count": 11,
     "metadata": {},
     "output_type": "execute_result"
    }
   ],
   "source": [
    "# replace pipe character with space\n",
    "movie_rec.movies_df['genres'] = movie_rec.movies_df['genres'].str.replace('|', ' ')\n",
    "rating_counts = movie_rec.ratings_df.groupby('movie_id').agg('rating').count()\n",
    "most_rated = rating_counts.sort_values(ascending=False).head(10)\n",
    "most_rated = pd.merge(most_rated, movie_rec.movies_df, on=\"movie_id\")\n",
    "most_rated"
   ]
  },
  {
   "cell_type": "code",
   "execution_count": 12,
   "metadata": {},
   "outputs": [
    {
     "name": "stdout",
     "output_type": "stream",
     "text": [
      "<Response [200]>\n",
      "dict_keys(['artifacts'])\n",
      "892591503\n",
      "Images saved successfully\n",
      "<Response [200]>\n",
      "dict_keys(['artifacts'])\n",
      "3400014776\n",
      "Images saved successfully\n",
      "<Response [200]>\n",
      "dict_keys(['artifacts'])\n",
      "955992482\n",
      "Images saved successfully\n",
      "<Response [200]>\n",
      "dict_keys(['artifacts'])\n",
      "757594283\n",
      "Images saved successfully\n",
      "<Response [200]>\n",
      "dict_keys(['artifacts'])\n",
      "2561274964\n",
      "Images saved successfully\n",
      "<Response [200]>\n",
      "dict_keys(['artifacts'])\n",
      "2487322812\n",
      "Images saved successfully\n",
      "<Response [200]>\n",
      "dict_keys(['artifacts'])\n",
      "3050457610\n",
      "Images saved successfully\n",
      "<Response [200]>\n",
      "dict_keys(['artifacts'])\n",
      "3764705669\n",
      "Images saved successfully\n",
      "<Response [200]>\n",
      "dict_keys(['artifacts'])\n",
      "682972320\n",
      "Images saved successfully\n",
      "<Response [200]>\n",
      "dict_keys(['artifacts'])\n",
      "1368495145\n",
      "Images saved successfully\n"
     ]
    }
   ],
   "source": [
    "from ai_posters import test_api_route\n",
    "for idx, row in most_rated.iterrows():\n",
    "    movie_title = row['name']\n",
    "    genres = row['genres']\n",
    "    movie_id = idx\n",
    "    test_api_route.make_poster_for_movie(movie_title, genres, movie_id)"
   ]
  },
  {
   "cell_type": "code",
   "execution_count": 13,
   "metadata": {},
   "outputs": [
    {
     "name": "stdout",
     "output_type": "stream",
     "text": [
      "[34048, 64997]\n"
     ]
    }
   ],
   "source": [
    "# clean_titles = [movie_rec.get_movie_title(m) for m in set(movie_rec.ratings_df.index.values)]\n",
    "import pandas as pd\n",
    "\n",
    "# create a DataFrame containing the movie titles and ids\n",
    "movies_df = pd.DataFrame({'title': movie_rec.movies_df['name']})\n",
    "\n",
    "# count the occurrences of each title using the value_counts() method\n",
    "title_counts = movies_df['title'].value_counts()\n",
    "\n",
    "# filter out the titles that appear only once using boolean indexing\n",
    "popular_titles = title_counts[title_counts > 1].index.tolist()\n",
    "\n",
    "# get the corresponding movie ids for the popular titles\n",
    "popular_movie_ids = movies_df.index.get_level_values('movie_id')[movies_df['title'].isin(popular_titles)].unique().tolist()\n",
    "\n",
    "print(popular_movie_ids)"
   ]
  },
  {
   "cell_type": "code",
   "execution_count": 14,
   "metadata": {},
   "outputs": [
    {
     "name": "stdout",
     "output_type": "stream",
     "text": [
      "started add_movie_rating with user of 69878\n",
      "(69878, 10677)\n",
      "movie_id  1      2      3      4      5      6      7      8      9      \\\n",
      "69878         0      0      0      0      0      0      0      0      0   \n",
      "\n",
      "movie_id  10     ...  65006  65011  65025  65027  65037  65088  65091  65126  \\\n",
      "69878         0  ...      0      0      0      0      0      0      0      0   \n",
      "\n",
      "movie_id  65130  65133  \n",
      "69878         0      0  \n",
      "\n",
      "[1 rows x 10677 columns]\n"
     ]
    }
   ],
   "source": [
    "u = int(movie_rec.mrm_df.shape[0])\n",
    "# u = 2\n",
    "# print(type(u), u)\n",
    "\n",
    "# movie_rec.new_add_movie_rating(movie_id=1219, user_id=u, rating=5) # Psycho\n",
    "# How to make an american quilt\n",
    "# movie_rec.new_add_movie_rating(movie_id=46, user_id=u, rating=5) \n",
    "# movie_rec.new_add_movie_rating(movie_id=16, user_id=u, rating=5) # Casino\n",
    "# movie_rec.new_add_movie_rating(movie_id=2596, user_id=u, rating=5) # Rocky Horror\n",
    "# movie_rec.new_add_movie_rating(movie_id=2571, user_id=u, rating=5) # The Matrix\n",
    "movie_rec.new_add_movie_rating(movie_id=107, user_id=u, rating=5) # Muppet Treasure Island\n",
    "movie_rec.new_add_movie_rating(movie_id=5080, user_id=u, rating=5) # Slackers\n",
    "# movie_rec.new_add_movie_rating(movie_id=30, user_id=u, rating=5)\n",
    "# movie_rec.new_add_movie_rating(movie_id=232, user_id=u, rating=5)\n",
    "# movie_rec.new_add_movie_rating(movie_id=858, user_id=u, rating=5)\n",
    "# movie_rec.new_add_movie_rating(movie_id=48, user_id=u, rating=5)\n",
    "# movie_rec.new_add_movie_rating(movie_id=1213, user_id=u, rating=5)\n",
    "# movie_rec.new_add_movie_rating(movie_id=858, user_id=u, rating=5)\n",
    "\n",
    "movie_rec.refit_model()\n"
   ]
  },
  {
   "cell_type": "code",
   "execution_count": null,
   "metadata": {},
   "outputs": [],
   "source": [
    "movie_rec.get_user_based_recommendation(u)"
   ]
  },
  {
   "cell_type": "code",
   "execution_count": null,
   "metadata": {},
   "outputs": [],
   "source": [
    "# movie_rec.get_user_movies(69877)\n",
    "for m in movie_rec.get_user_movies(69877):\n",
    "    print(movie_rec.get_movie_title(m), movie_rec.get_user_movie_rating(69877, m))\n",
    "# movie_rec.get_user_movie_rating(8546, 1)\n",
    "# movie_rec.get_user_movie_rating(8546, 2)\n",
    "# print(f'User {u} has seen...')\n",
    "# for m in movie_rec.get_user_movies(u):\n",
    "#     print(movie_rec.get_movie_title(m))"
   ]
  },
  {
   "cell_type": "code",
   "execution_count": null,
   "metadata": {},
   "outputs": [],
   "source": [
    "users, dists = movie_rec.get_similar_users(u)\n",
    "# for rec_user in users:\n",
    "#     # print(f'{rec_user}\\'s movies')\n",
    "#     for m in movie_rec.get_user_movies(rec_user):\n",
    "#         # print(movie_rec.get_movie_title(m))\n",
    "\n",
    "# print(movie_rec.get_movie_title(20))\n",
    "# print(movie_rec.get_movie_title(25))\n",
    "# print(movie_rec.get_movie_title(50))"
   ]
  },
  {
   "cell_type": "code",
   "execution_count": null,
   "metadata": {},
   "outputs": [],
   "source": [
    "user_id = movie_rec.get_next_avail_user_id()\n",
    "# movie_rec.add_movie_rating(movie_id=1, user_id= user_id, rating= 5) # Toy Story\n",
    "# movie_rec.add_movie_rating(movie_id=2, user_id= user_id, rating= 5) # Jumanji\n",
    "# movie_rec.add_movie_rating(movie_id=48, user_id= user_id, rating= 5) # Pocahontas\n",
    "# movie_rec.add_movie_rating(movie_id=20, user_id= user_id, rating= 5) # Money Train\n",
    "# movie_rec.add_movie_rating(movie_id=25, user_id= user_id, rating= 5) # Leaving Las Vegas\n",
    "# movie_rec.add_movie_rating(movie_id=50, user_id= user_id, rating= 5) # The Usual Suspects\n",
    "movie_rec.ratings_df.head()"
   ]
  },
  {
   "cell_type": "code",
   "execution_count": null,
   "metadata": {},
   "outputs": [],
   "source": [
    "import numpy as np\n",
    "\n",
    "\n",
    "# return the difference between average ratings for two movies\n",
    "def get_movie_mean_rating_error(movie1_id: int, movie2_id: int):\n",
    "    movie1_ratings = np.mean(\n",
    "        movie_rec.ratings_df.loc[movie_rec.ratings_df.index == movie1_id]['rating'].values)\n",
    "    movie2_ratings = np.mean(\n",
    "        movie_rec.ratings_df.loc[movie_rec.ratings_df.index == movie2_id]['rating'].values)\n",
    "    return abs(movie1_ratings - movie2_ratings)\n",
    "\n",
    "\n",
    "# get_movie_mean_rating_error(599, 700)\n",
    "# movie_rec.get_movie_users(5)\n",
    "print(movie_rec.get_movie_title(1))\n",
    "print(movie_rec.get_movie_title(2))\n",
    "print(len(movie_rec.get_movie_users(1)))\n",
    "print(len(movie_rec.get_movie_users(2)))\n",
    "print(len(movie_rec.get_common_users(1, 2)))"
   ]
  },
  {
   "cell_type": "code",
   "execution_count": null,
   "metadata": {},
   "outputs": [],
   "source": [
    "def get_movie_rating_pearson_coeff(movie1_id: int, movie2_id: int)-> float:\n",
    "    common_users = movie_rec.get_common_users(movie1_id=movie1_id, movie2_id=movie2_id)\n",
    "    movie1_ratings = [movie_rec.get_user_movie_rating(user_id=u, movie_id=movie1_id) for u in common_users]\n",
    "    movie2_ratings = [movie_rec.get_user_movie_rating(user_id=u, movie_id=movie2_id) for u in common_users]\n",
    "    coeff = np.corrcoef(np.array(movie1_ratings), np.array(movie2_ratings))[0, 1]\n",
    "    movie1_title = movie_rec.get_movie_title(movie1_id)\n",
    "    movie2_title = movie_rec.get_movie_title(movie2_id)\n",
    "    print(f'{movie1_title} and {movie2_title} have a correlation of {\"{:.2f}\".format(coeff)} from {len(common_users)} users who have rated both')\n",
    "\n",
    "get_movie_rating_pearson_coeff(1, 3)"
   ]
  }
 ],
 "metadata": {
  "kernelspec": {
   "display_name": "Python 3",
   "language": "python",
   "name": "python3"
  },
  "language_info": {
   "codemirror_mode": {
    "name": "ipython",
    "version": 3
   },
   "file_extension": ".py",
   "mimetype": "text/x-python",
   "name": "python",
   "nbconvert_exporter": "python",
   "pygments_lexer": "ipython3",
   "version": "3.10.5"
  },
  "orig_nbformat": 4,
  "vscode": {
   "interpreter": {
    "hash": "26de051ba29f2982a8de78e945f0abaf191376122a1563185a90213a26c5da77"
   }
  }
 },
 "nbformat": 4,
 "nbformat_minor": 2
}
