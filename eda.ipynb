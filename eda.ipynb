{
 "cells": [
  {
   "cell_type": "code",
   "execution_count": 1,
   "metadata": {},
   "outputs": [],
   "source": [
    "from movie_recommender import MovieRecommender\n",
    "import timeit\n",
    "import pandas as pd"
   ]
  },
  {
   "cell_type": "code",
   "execution_count": 2,
   "metadata": {},
   "outputs": [
    {
     "name": "stdout",
     "output_type": "stream",
     "text": [
      "found pickle at c:\\Users\\john.french\\movie_recs\\data\\pickled\\movie_ratings.pkl\n",
      "Read dataframes in 20.934671099996194ms\n",
      "69878\n"
     ]
    }
   ],
   "source": [
    "started = timeit.default_timer()\n",
    "movies_file = 'data/ml-10M100K/movies.dat'\n",
    "ratings_file = 'data/ml-10M100K/ratings.dat'\n",
    "movie_rec = MovieRecommender(movies_filename=movies_file, ratings_filename=ratings_file)\n",
    "elapsed = timeit.default_timer() - started\n",
    "print(f'Read dataframes in {elapsed}ms')\n",
    "\n",
    "print(movie_rec.ratings_df['user_id'].nunique())"
   ]
  },
  {
   "cell_type": "code",
   "execution_count": 3,
   "metadata": {},
   "outputs": [
    {
     "name": "stderr",
     "output_type": "stream",
     "text": [
      "C:\\Users\\john.french\\AppData\\Local\\Temp\\ipykernel_19180\\2230656454.py:2: FutureWarning: The default value of regex will change from True to False in a future version. In addition, single character regular expressions will *not* be treated as literal strings when regex=True.\n",
      "  movie_rec.movies_df['genres'] = movie_rec.movies_df['genres'].str.replace('|', ' ')\n"
     ]
    }
   ],
   "source": [
    "# replace pipe character with space\n",
    "movie_rec.movies_df['genres'] = movie_rec.movies_df['genres'].str.replace('|', ' ')\n",
    "rating_counts = movie_rec.ratings_df.groupby('movie_id').agg('rating').count()\n",
    "rating_counts.name = 'num_ratings'\n",
    "rating_avg = movie_rec.ratings_df.groupby('movie_id').agg('rating').mean()\n",
    "rating_avg.name = 'avg_rating'\n",
    "most_rated = rating_counts.sort_values(ascending=False).head(1000)\n",
    "most_rated = pd.merge(most_rated, movie_rec.movies_df, on=\"movie_id\")\n",
    "most_rated = pd.merge(rating_avg, most_rated, on=\"movie_id\")\n",
    "most_rated\n",
    "most_rated.sort_values(by='num_ratings', ascending=False, inplace=True)"
   ]
  },
  {
   "cell_type": "code",
   "execution_count": 4,
   "metadata": {},
   "outputs": [
    {
     "name": "stdout",
     "output_type": "stream",
     "text": [
      "Pulp Fiction (1994) 296\n",
      "Forrest Gump (1994) 356\n",
      "Silence of the Lambs, The (1991) 593\n",
      "Jurassic Park (1993) 480\n",
      "Shawshank Redemption, The (1994) 318\n",
      "Braveheart (1995) 110\n",
      "Fugitive, The (1993) 457\n",
      "Terminator 2: Judgment Day (1991) 589\n",
      "Star Wars: Episode IV - A New Hope (a.k.a. Star Wars) (1977) 260\n",
      "Apollo 13 (1995) 150\n"
     ]
    }
   ],
   "source": [
    "ctr = 0\n",
    "limit = 15\n",
    "for idx, row in most_rated.head(10).iterrows():\n",
    "    print(row['name'], idx)\n",
    "    ctr += 1\n",
    "    if ctr > limit:\n",
    "        break"
   ]
  },
  {
   "cell_type": "code",
   "execution_count": 5,
   "metadata": {},
   "outputs": [
    {
     "name": "stdout",
     "output_type": "stream",
     "text": [
      "<Response [200]>\n",
      "3371556394\n",
      "Images saved successfully\n",
      "<Response [200]>\n",
      "241884115\n",
      "Images saved successfully\n",
      "<Response [200]>\n",
      "3752983517\n",
      "Images saved successfully\n",
      "<Response [200]>\n",
      "1325528479\n",
      "Images saved successfully\n",
      "<Response [200]>\n",
      "2993825427\n",
      "Images saved successfully\n",
      "<Response [200]>\n",
      "2646122744\n",
      "Images saved successfully\n",
      "<Response [200]>\n",
      "506436730\n",
      "Images saved successfully\n",
      "<Response [200]>\n",
      "582829377\n",
      "Images saved successfully\n",
      "<Response [200]>\n",
      "776686833\n",
      "Images saved successfully\n",
      "<Response [200]>\n",
      "3731331559\n",
      "Images saved successfully\n",
      "<Response [200]>\n",
      "317969947\n",
      "Images saved successfully\n",
      "<Response [200]>\n",
      "1949234268\n",
      "Images saved successfully\n",
      "<Response [200]>\n",
      "1779135627\n",
      "Images saved successfully\n",
      "<Response [200]>\n",
      "767568456\n",
      "Images saved successfully\n",
      "<Response [200]>\n",
      "3860918895\n",
      "Images saved successfully\n",
      "<Response [200]>\n",
      "2210697445\n",
      "Images saved successfully\n",
      "<Response [200]>\n",
      "2258046341\n",
      "Images saved successfully\n",
      "<Response [200]>\n",
      "382860224\n",
      "Images saved successfully\n",
      "<Response [200]>\n",
      "2918185438\n",
      "Images saved successfully\n",
      "<Response [200]>\n",
      "2361724244\n",
      "Images saved successfully\n",
      "<Response [200]>\n",
      "3369440755\n",
      "Images saved successfully\n",
      "<Response [200]>\n",
      "2095258737\n",
      "Images saved successfully\n",
      "<Response [200]>\n",
      "2158209307\n",
      "Images saved successfully\n",
      "<Response [200]>\n",
      "631460306\n",
      "Images saved successfully\n",
      "<Response [200]>\n",
      "1671876477\n",
      "Images saved successfully\n",
      "<Response [200]>\n",
      "801743909\n",
      "Images saved successfully\n",
      "<Response [200]>\n",
      "2292052757\n",
      "Images saved successfully\n",
      "<Response [200]>\n",
      "1751807362\n",
      "Images saved successfully\n",
      "<Response [200]>\n",
      "3165616100\n",
      "Images saved successfully\n",
      "<Response [200]>\n",
      "2915936224\n",
      "Images saved successfully\n",
      "<Response [200]>\n",
      "2571840526\n",
      "Images saved successfully\n",
      "<Response [200]>\n",
      "947513640\n",
      "Images saved successfully\n",
      "<Response [200]>\n",
      "3909664032\n",
      "Images saved successfully\n",
      "<Response [200]>\n",
      "1626529476\n",
      "Images saved successfully\n",
      "<Response [200]>\n",
      "983050782\n",
      "Images saved successfully\n",
      "<Response [200]>\n",
      "1860821701\n",
      "Images saved successfully\n",
      "<Response [200]>\n",
      "2285197745\n",
      "Images saved successfully\n",
      "<Response [200]>\n",
      "1235581920\n",
      "Images saved successfully\n",
      "<Response [200]>\n",
      "783123393\n",
      "Images saved successfully\n",
      "<Response [200]>\n",
      "3284451286\n",
      "Images saved successfully\n",
      "<Response [200]>\n",
      "800303893\n",
      "Images saved successfully\n",
      "<Response [200]>\n",
      "1010599231\n",
      "Images saved successfully\n",
      "<Response [200]>\n",
      "1661711354\n",
      "Images saved successfully\n",
      "<Response [200]>\n",
      "4182447820\n",
      "Images saved successfully\n",
      "<Response [200]>\n",
      "237412459\n",
      "Images saved successfully\n",
      "<Response [200]>\n",
      "3326256478\n",
      "Images saved successfully\n",
      "<Response [200]>\n",
      "1861837238\n",
      "Images saved successfully\n",
      "<Response [200]>\n",
      "589899709\n",
      "Images saved successfully\n",
      "<Response [200]>\n",
      "2421183263\n",
      "Images saved successfully\n",
      "<Response [400]>\n",
      "400 {\"id\":\"dc7160ec3c427e3a6c9e639078483d43\",\"message\":\"Invalid prompts detected\",\"name\":\"invalid_prompts\"}\n",
      "\n",
      "<Response [200]>\n",
      "2395519476\n",
      "Images saved successfully\n",
      "<Response [200]>\n",
      "2162884739\n",
      "Images saved successfully\n"
     ]
    }
   ],
   "source": [
    "from ai_posters import test_api_route\n",
    "\n",
    "ctr = 0\n",
    "offset = 749\n",
    "limit = 800\n",
    "for idx, row in most_rated.iterrows():\n",
    "    movie_title = row['name']\n",
    "    genres = row['genres']\n",
    "    movie_id = idx\n",
    "    ctr += 1\n",
    "    if ctr >= offset:\n",
    "        test_api_route.make_poster_for_movie(movie_title, genres, str(movie_id))\n",
    "    if ctr == limit:\n",
    "        break"
   ]
  },
  {
   "cell_type": "code",
   "execution_count": 6,
   "metadata": {},
   "outputs": [
    {
     "name": "stdout",
     "output_type": "stream",
     "text": [
      "[34048, 64997]\n"
     ]
    }
   ],
   "source": [
    "# clean_titles = [movie_rec.get_movie_title(m) for m in set(movie_rec.ratings_df.index.values)]\n",
    "import pandas as pd\n",
    "\n",
    "# create a DataFrame containing the movie titles and ids\n",
    "movies_df = pd.DataFrame({'title': movie_rec.movies_df['name']})\n",
    "\n",
    "# count the occurrences of each title using the value_counts() method\n",
    "title_counts = movies_df['title'].value_counts()\n",
    "\n",
    "# filter out the titles that appear only once using boolean indexing\n",
    "popular_titles = title_counts[title_counts > 1].index.tolist()\n",
    "\n",
    "# get the corresponding movie ids for the popular titles\n",
    "popular_movie_ids = movies_df.index.get_level_values('movie_id')[movies_df['title'].isin(popular_titles)].unique().tolist()\n",
    "\n",
    "print(popular_movie_ids)"
   ]
  },
  {
   "cell_type": "code",
   "execution_count": 7,
   "metadata": {},
   "outputs": [
    {
     "name": "stdout",
     "output_type": "stream",
     "text": [
      "started add_movie_rating with user of 69878\n",
      "(69878, 10677)\n",
      "movie_id  1      2      3      4      5      6      7      8      9      \\\n",
      "69878         0      0      0      0      0      0      0      0      0   \n",
      "\n",
      "movie_id  10     ...  65006  65011  65025  65027  65037  65088  65091  65126  \\\n",
      "69878         0  ...      0      0      0      0      0      0      0      0   \n",
      "\n",
      "movie_id  65130  65133  \n",
      "69878         0      0  \n",
      "\n",
      "[1 rows x 10677 columns]\n",
      "(69879, 10677)\n",
      "started add_movie_rating with user of 69878\n",
      "(69879, 10677)\n",
      "movie_id  1      2      3      4      5      6      7      8      9      \\\n",
      "69878         0      0      0      0      0      0      0      0      0   \n",
      "69878         0      0      0      0      0      0      0      0      0   \n",
      "\n",
      "movie_id  10     ...  65006  65011  65025  65027  65037  65088  65091  65126  \\\n",
      "69878         0  ...      0      0      0      0      0      0      0      0   \n",
      "69878         0  ...      0      0      0      0      0      0      0      0   \n",
      "\n",
      "movie_id  65130  65133  \n",
      "69878         0      0  \n",
      "69878         0      0  \n",
      "\n",
      "[2 rows x 10677 columns]\n",
      "(69880, 10677)\n"
     ]
    }
   ],
   "source": [
    "u = int(movie_rec.mrm_df.shape[0])\n",
    "# u = 2\n",
    "# print(type(u), u)\n",
    "\n",
    "# movie_rec.new_add_movie_rating(movie_id=1219, user_id=u, rating=5) # Psycho\n",
    "# How to make an american quilt\n",
    "# movie_rec.new_add_movie_rating(movie_id=46, user_id=u, rating=5) \n",
    "# movie_rec.new_add_movie_rating(movie_id=16, user_id=u, rating=5) # Casino\n",
    "# movie_rec.new_add_movie_rating(movie_id=2596, user_id=u, rating=5) # Rocky Horror\n",
    "# movie_rec.new_add_movie_rating(movie_id=2571, user_id=u, rating=5) # The Matrix\n",
    "movie_rec.new_add_movie_rating(movie_id=107, user_id=u, rating=5) # Muppet Treasure Island\n",
    "movie_rec.new_add_movie_rating(movie_id=5080, user_id=u, rating=5) # Slackers\n",
    "# movie_rec.new_add_movie_rating(movie_id=30, user_id=u, rating=5)\n",
    "# movie_rec.new_add_movie_rating(movie_id=232, user_id=u, rating=5)\n",
    "# movie_rec.new_add_movie_rating(movie_id=858, user_id=u, rating=5)\n",
    "# movie_rec.new_add_movie_rating(movie_id=48, user_id=u, rating=5)\n",
    "# movie_rec.new_add_movie_rating(movie_id=1213, user_id=u, rating=5)\n",
    "# movie_rec.new_add_movie_rating(movie_id=858, user_id=u, rating=5)\n",
    "\n",
    "movie_rec.refit_model()\n"
   ]
  },
  {
   "cell_type": "code",
   "execution_count": 8,
   "metadata": {},
   "outputs": [
    {
     "name": "stdout",
     "output_type": "stream",
     "text": [
      "get user recommendation started for 69878\n",
      "get similar users called on user  69878  with type  <class 'int'>\n",
      "get_similar_users called with self.mrm_df shape of (69880, 10677)\n",
      "values for 69878\n",
      "knn_input with shape of (2, 10677)\n",
      "get_similar_users called with knn_input shape of (2, 10677)\n",
      "Top 3 users who are very much similar to the User- 69878are: \n",
      "1 . User: 30923 separated by distance of 0.6518446880886043\n",
      "2 . User: 69824 separated by distance of 0.6772513878160487\n",
      "3 . User: 35016 separated by distance of 0.6876524762227878\n",
      "Muppet Treasure Island\n",
      "Traffic\n",
      "Grosse Pointe Blank\n",
      "Arachnophobia\n",
      "Short Cuts\n",
      "James and the Giant Peach\n"
     ]
    }
   ],
   "source": [
    "movie_rec.get_user_based_recommendation(u)"
   ]
  },
  {
   "cell_type": "code",
   "execution_count": 9,
   "metadata": {},
   "outputs": [
    {
     "name": "stdout",
     "output_type": "stream",
     "text": [
      "Lost World: Jurassic Park, The (Jurassic Park 2) 2\n",
      "Starship Troopers 5\n",
      "Schindler's List 4\n",
      "Close Encounters of the Third Kind 5\n",
      "Maltese Falcon, The 4\n",
      "Eyes Wide Shut 5\n",
      "Time Bandits 4\n",
      "Starsky & Hutch 2\n",
      "So I Married an Axe Murderer 4\n",
      "Front, The 4\n",
      "To Die For 4\n",
      "Brazil 5\n",
      "Lawrence of Arabia 5\n",
      "Cast Away 5\n",
      "Lost in Translation 5\n",
      "Almost Famous 3\n",
      "Eternal Sunshine of the Spotless Mind 5\n",
      "Croupier 3\n",
      "Hellboy 4\n",
      "Erin Brockovich 1\n",
      "Shrek 2\n",
      "Pinocchio 4\n",
      "Big Bounce, The 1\n",
      "Glory 3\n",
      "Rushmore 5\n",
      "City Lights 5\n",
      "Naked Gun 33 1/3: The Final Insult 2\n",
      "Sneakers 4\n",
      "Christmas Story, A 5\n"
     ]
    }
   ],
   "source": [
    "# movie_rec.get_user_movies(69877)\n",
    "for m in movie_rec.get_user_movies(69877):\n",
    "    print(movie_rec.get_movie_title(m), movie_rec.get_user_movie_rating(69877, m))\n",
    "# movie_rec.get_user_movie_rating(8546, 1)\n",
    "# movie_rec.get_user_movie_rating(8546, 2)\n",
    "# print(f'User {u} has seen...')\n",
    "# for m in movie_rec.get_user_movies(u):\n",
    "#     print(movie_rec.get_movie_title(m))"
   ]
  },
  {
   "cell_type": "code",
   "execution_count": 10,
   "metadata": {},
   "outputs": [
    {
     "name": "stdout",
     "output_type": "stream",
     "text": [
      "get similar users called on user  69878  with type  <class 'int'>\n",
      "get_similar_users called with self.mrm_df shape of (69880, 10677)\n",
      "values for 69878\n",
      "knn_input with shape of (2, 10677)\n",
      "get_similar_users called with knn_input shape of (2, 10677)\n",
      "Top 3 users who are very much similar to the User- 69878are: \n",
      "1 . User: 30923 separated by distance of 0.6518446880886043\n",
      "2 . User: 69824 separated by distance of 0.6772513878160487\n",
      "3 . User: 35016 separated by distance of 0.6876524762227878\n"
     ]
    }
   ],
   "source": [
    "users, dists = movie_rec.get_similar_users(u)\n",
    "# for rec_user in users:\n",
    "#     # print(f'{rec_user}\\'s movies')\n",
    "#     for m in movie_rec.get_user_movies(rec_user):\n",
    "#         # print(movie_rec.get_movie_title(m))\n",
    "\n",
    "# print(movie_rec.get_movie_title(20))\n",
    "# print(movie_rec.get_movie_title(25))\n",
    "# print(movie_rec.get_movie_title(50))"
   ]
  },
  {
   "cell_type": "code",
   "execution_count": 11,
   "metadata": {},
   "outputs": [
    {
     "data": {
      "text/html": [
       "<div>\n",
       "<style scoped>\n",
       "    .dataframe tbody tr th:only-of-type {\n",
       "        vertical-align: middle;\n",
       "    }\n",
       "\n",
       "    .dataframe tbody tr th {\n",
       "        vertical-align: top;\n",
       "    }\n",
       "\n",
       "    .dataframe thead th {\n",
       "        text-align: right;\n",
       "    }\n",
       "</style>\n",
       "<table border=\"1\" class=\"dataframe\">\n",
       "  <thead>\n",
       "    <tr style=\"text-align: right;\">\n",
       "      <th></th>\n",
       "      <th>user_id</th>\n",
       "      <th>rating</th>\n",
       "      <th>timestamp</th>\n",
       "    </tr>\n",
       "    <tr>\n",
       "      <th>movie_id</th>\n",
       "      <th></th>\n",
       "      <th></th>\n",
       "      <th></th>\n",
       "    </tr>\n",
       "  </thead>\n",
       "  <tbody>\n",
       "    <tr>\n",
       "      <th>122</th>\n",
       "      <td>1</td>\n",
       "      <td>5</td>\n",
       "      <td>838985046.0</td>\n",
       "    </tr>\n",
       "    <tr>\n",
       "      <th>185</th>\n",
       "      <td>1</td>\n",
       "      <td>5</td>\n",
       "      <td>838983525.0</td>\n",
       "    </tr>\n",
       "    <tr>\n",
       "      <th>231</th>\n",
       "      <td>1</td>\n",
       "      <td>5</td>\n",
       "      <td>838983392.0</td>\n",
       "    </tr>\n",
       "    <tr>\n",
       "      <th>292</th>\n",
       "      <td>1</td>\n",
       "      <td>5</td>\n",
       "      <td>838983421.0</td>\n",
       "    </tr>\n",
       "    <tr>\n",
       "      <th>316</th>\n",
       "      <td>1</td>\n",
       "      <td>5</td>\n",
       "      <td>838983392.0</td>\n",
       "    </tr>\n",
       "  </tbody>\n",
       "</table>\n",
       "</div>"
      ],
      "text/plain": [
       "          user_id  rating    timestamp\n",
       "movie_id                              \n",
       "122             1       5  838985046.0\n",
       "185             1       5  838983525.0\n",
       "231             1       5  838983392.0\n",
       "292             1       5  838983421.0\n",
       "316             1       5  838983392.0"
      ]
     },
     "execution_count": 11,
     "metadata": {},
     "output_type": "execute_result"
    }
   ],
   "source": [
    "user_id = movie_rec.get_next_avail_user_id()\n",
    "# movie_rec.add_movie_rating(movie_id=1, user_id= user_id, rating= 5) # Toy Story\n",
    "# movie_rec.add_movie_rating(movie_id=2, user_id= user_id, rating= 5) # Jumanji\n",
    "# movie_rec.add_movie_rating(movie_id=48, user_id= user_id, rating= 5) # Pocahontas\n",
    "# movie_rec.add_movie_rating(movie_id=20, user_id= user_id, rating= 5) # Money Train\n",
    "# movie_rec.add_movie_rating(movie_id=25, user_id= user_id, rating= 5) # Leaving Las Vegas\n",
    "# movie_rec.add_movie_rating(movie_id=50, user_id= user_id, rating= 5) # The Usual Suspects\n",
    "movie_rec.ratings_df.head()"
   ]
  },
  {
   "cell_type": "code",
   "execution_count": 12,
   "metadata": {},
   "outputs": [
    {
     "name": "stdout",
     "output_type": "stream",
     "text": [
      "Toy Story\n",
      "Jumanji\n",
      "26449\n",
      "12032\n",
      "7394\n"
     ]
    }
   ],
   "source": [
    "import numpy as np\n",
    "\n",
    "\n",
    "# return the difference between average ratings for two movies\n",
    "def get_movie_mean_rating_error(movie1_id: int, movie2_id: int):\n",
    "    movie1_ratings = np.mean(\n",
    "        movie_rec.ratings_df.loc[movie_rec.ratings_df.index == movie1_id]['rating'].values)\n",
    "    movie2_ratings = np.mean(\n",
    "        movie_rec.ratings_df.loc[movie_rec.ratings_df.index == movie2_id]['rating'].values)\n",
    "    return abs(movie1_ratings - movie2_ratings)\n",
    "\n",
    "\n",
    "# get_movie_mean_rating_error(599, 700)\n",
    "# movie_rec.get_movie_users(5)\n",
    "print(movie_rec.get_movie_title(1))\n",
    "print(movie_rec.get_movie_title(2))\n",
    "print(len(movie_rec.get_movie_users(1)))\n",
    "print(len(movie_rec.get_movie_users(2)))\n",
    "print(len(movie_rec.get_common_users(1, 2)))"
   ]
  },
  {
   "cell_type": "code",
   "execution_count": 13,
   "metadata": {},
   "outputs": [
    {
     "name": "stdout",
     "output_type": "stream",
     "text": [
      "Toy Story and Grumpier Old Men have a correlation of 0.19 from 5106 users who have rated both\n"
     ]
    }
   ],
   "source": [
    "def get_movie_rating_pearson_coeff(movie1_id: int, movie2_id: int)-> float:\n",
    "    common_users = movie_rec.get_common_users(movie1_id=movie1_id, movie2_id=movie2_id)\n",
    "    movie1_ratings = [movie_rec.get_user_movie_rating(user_id=u, movie_id=movie1_id) for u in common_users]\n",
    "    movie2_ratings = [movie_rec.get_user_movie_rating(user_id=u, movie_id=movie2_id) for u in common_users]\n",
    "    coeff = np.corrcoef(np.array(movie1_ratings), np.array(movie2_ratings))[0, 1]\n",
    "    movie1_title = movie_rec.get_movie_title(movie1_id)\n",
    "    movie2_title = movie_rec.get_movie_title(movie2_id)\n",
    "    print(f'{movie1_title} and {movie2_title} have a correlation of {\"{:.2f}\".format(coeff)} from {len(common_users)} users who have rated both')\n",
    "\n",
    "get_movie_rating_pearson_coeff(1, 3)"
   ]
  }
 ],
 "metadata": {
  "kernelspec": {
   "display_name": "Python 3",
   "language": "python",
   "name": "python3"
  },
  "language_info": {
   "codemirror_mode": {
    "name": "ipython",
    "version": 3
   },
   "file_extension": ".py",
   "mimetype": "text/x-python",
   "name": "python",
   "nbconvert_exporter": "python",
   "pygments_lexer": "ipython3",
   "version": "3.10.5"
  },
  "orig_nbformat": 4,
  "vscode": {
   "interpreter": {
    "hash": "26de051ba29f2982a8de78e945f0abaf191376122a1563185a90213a26c5da77"
   }
  }
 },
 "nbformat": 4,
 "nbformat_minor": 2
}
