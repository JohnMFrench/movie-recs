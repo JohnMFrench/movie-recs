{
 "cells": [
  {
   "cell_type": "code",
   "execution_count": null,
   "metadata": {},
   "outputs": [],
   "source": [
    "import pandas as pd\n",
    "import numpy as np"
   ]
  },
  {
   "cell_type": "code",
   "execution_count": null,
   "metadata": {},
   "outputs": [],
   "source": [
    "# # return the top 30 most popular movies to use as the prompt for user ratings\n",
    "# output_file = 'recs-app/public/top_rated_movies30.json'\n",
    "\n",
    "# top_rated_movies.sort_values(by='Count', ascending=False, inplace=True)\n",
    "# top_rated_movies_names = top_rated_movies.index.values\n",
    "# top_rated_movies_slice = top_rated_movies.head(10)\n",
    "# top_rated_movies_slice.columns = top_rated_movies_slice.columns.get_level_values(0)\n",
    "# print(top_rated_movies)\n",
    "\n",
    "# top_rated_movies_slice.to_json(output_file, orient='index')\n"
   ]
  },
  {
   "cell_type": "code",
   "execution_count": 6,
   "metadata": {},
   "outputs": [],
   "source": [
    "from movie_recommender import MovieRecommender\n",
    "\n",
    "\n",
    "movies_file = 'data/ml-10M100K/movies.dat'\n",
    "ratings_file = 'data/ml-10M100K/ratings.dat'\n",
    "movie_rec = MovieRecommender(movies_filename=movies_file, ratings_filename=ratings_file)"
   ]
  },
  {
   "cell_type": "code",
   "execution_count": 40,
   "metadata": {},
   "outputs": [
    {
     "name": "stdout",
     "output_type": "stream",
     "text": [
      "{'Film-Noir', 'Comedy', 'Romance', 'Fantasy', '(no genres listed)', 'Adventure', 'Documentary', 'Sci-Fi', 'War', 'Action', 'Musical', 'Western', 'Horror', 'Crime', 'Mystery', 'Children', 'Drama', 'Thriller', 'IMAX', 'Animation'}\n",
      "found 1 movies with (no genre listed)\n",
      "Pull My Daisy (1958)\n"
     ]
    }
   ],
   "source": [
    "# split genres column by the '|' character\n",
    "genres = movie_rec.movies_df.genres.apply(lambda genres: genres.split('|')).values\n",
    "\n",
    "# double list comprehension to flatten lists of genres\n",
    "unique_genres = set([genre for genre_list in genres for genre in genre_list])\n",
    "print(unique_genres)\n",
    "\n",
    "# one movie has no genre associated\n",
    "num_movies_no_genre = movie_rec.movies_df[movie_rec.movies_df.genres == '(no genres listed)'].name.count()\n",
    "print(f'found {num_movies_no_genre} movies with (no genre listed)')\n",
    "for row in movie_rec.movies_df.loc[movie_rec.movies_df.genres == '(no genres listed)'].name:\n",
    "    print(row)\n"
   ]
  },
  {
   "cell_type": "code",
   "execution_count": null,
   "metadata": {},
   "outputs": [],
   "source": [
    "movie_rec.handle_recommendation_request(liked_movies=(1, 2, 19, 34), disliked_movies=())"
   ]
  },
  {
   "cell_type": "code",
   "execution_count": 5,
   "metadata": {},
   "outputs": [
    {
     "ename": "NameError",
     "evalue": "name 'movie_rec' is not defined",
     "output_type": "error",
     "traceback": [
      "\u001b[1;31m---------------------------------------------------------------------------\u001b[0m",
      "\u001b[1;31mNameError\u001b[0m                                 Traceback (most recent call last)",
      "\u001b[1;32mc:\\Users\\John\\Desktop\\movie-recs\\eda.ipynb Cell 15\u001b[0m in \u001b[0;36m<cell line: 1>\u001b[1;34m()\u001b[0m\n\u001b[1;32m----> <a href='vscode-notebook-cell:/c%3A/Users/John/Desktop/movie-recs/eda.ipynb#X20sZmlsZQ%3D%3D?line=0'>1</a>\u001b[0m movie_rec\u001b[39m.\u001b[39mtop_rated_movies\u001b[39m.\u001b[39msort_values(\n\u001b[0;32m      <a href='vscode-notebook-cell:/c%3A/Users/John/Desktop/movie-recs/eda.ipynb#X20sZmlsZQ%3D%3D?line=1'>2</a>\u001b[0m             by\u001b[39m=\u001b[39m\u001b[39m'\u001b[39m\u001b[39mCount\u001b[39m\u001b[39m'\u001b[39m, ascending\u001b[39m=\u001b[39m\u001b[39mFalse\u001b[39;00m, inplace\u001b[39m=\u001b[39m\u001b[39mTrue\u001b[39;00m)\n\u001b[0;32m      <a href='vscode-notebook-cell:/c%3A/Users/John/Desktop/movie-recs/eda.ipynb#X20sZmlsZQ%3D%3D?line=2'>3</a>\u001b[0m top_rated_movies_names \u001b[39m=\u001b[39m movie_rec\u001b[39m.\u001b[39mtop_rated_movies\u001b[39m.\u001b[39mindex\u001b[39m.\u001b[39mvalues\n\u001b[0;32m      <a href='vscode-notebook-cell:/c%3A/Users/John/Desktop/movie-recs/eda.ipynb#X20sZmlsZQ%3D%3D?line=3'>4</a>\u001b[0m length \u001b[39m=\u001b[39m \u001b[39m500\u001b[39m\n",
      "\u001b[1;31mNameError\u001b[0m: name 'movie_rec' is not defined"
     ]
    }
   ],
   "source": [
    "movie_rec.top_rated_movies.sort_values(\n",
    "            by='Count', ascending=False, inplace=True)\n",
    "top_rated_movies_names = movie_rec.top_rated_movies.index.values\n",
    "length = 500\n",
    "movie_rec.top_rated_movies_slice = movie_rec.top_rated_movies.head(length)\n",
    "movie_rec.top_rated_movies_slice.columns = movie_rec.top_rated_movies_slice.columns.get_level_values(0)\n",
    "print(movie_rec.top_rated_movies_slice.columns)\n",
    "movie_rec.top_rated_movies_slice = movie_rec.top_rated_movies_slice.drop('rating', axis=1)\n",
    "# Define a lambda function to get the movie_id for a given movie name\n",
    "get_movie_id = lambda movie_name: movie_rec.movies_df[movie_rec.movies_df['name'] == movie_name].index.values[0]\n",
    "\n",
    "# Apply the lambda function to each row of the DataFrame to set the movie_id\n",
    "movie_rec.top_rated_movies_slice['movie_id'] = movie_rec.top_rated_movies_slice.index.map(get_movie_id)\n",
    "movie_rec.top_rated_movies_slice['title'] = movie_rec.top_rated_movies_slice.index\n",
    "movie_rec.top_rated_movies_slice = movie_rec.top_rated_movies_slice.set_index('movie_id')\n",
    "\n",
    "print(movie_rec.top_rated_movies_slice)\n",
    "output_file='data/top_rated_{}.json'.format(length)\n",
    "\n",
    "movie_rec.top_rated_movies_slice.to_json(output_file, orient='index')"
   ]
  },
  {
   "cell_type": "code",
   "execution_count": null,
   "metadata": {},
   "outputs": [],
   "source": [
    "from urllib.parse import quote\n",
    "from urllib3 import disable_warnings\n",
    "from urllib3.exceptions import InsecureRequestWarning\n",
    "import requests\n",
    "import bs4\n",
    "\n",
    "def pull_movie_poster(movie_id: int) -> None:\n",
    "    try:\n",
    "        disable_warnings(InsecureRequestWarning)\n",
    "        title = movie_rec.get_movie_title_with_year(movie_id)\n",
    "        clean_title = movie_rec.get_movie_title(movie_id)\n",
    "        base_url = 'https://imdb.com/find/?q='\n",
    "        base_page_url = 'https://imdb.com'\n",
    "        qs_title = quote(title)\n",
    "        url = base_url + qs_title + '&ref_=nv_sr_sm'\n",
    "        headers = requests.utils.default_headers()\n",
    "        headers.update({'User-Agent': 'My User Agent 2.0',})\n",
    "\n",
    "        print(f'search page: {url}')\n",
    "        html = requests.get(url, verify=False, headers=headers).content\n",
    "        soup = bs4.BeautifulSoup(html, 'lxml')\n",
    "        find_title_results = soup.find_all('li', {'class': 'find-title-result'})\n",
    "        for tr in find_title_results:\n",
    "            div_title = tr.find_all(\n",
    "                'a', {'class': 'ipc-metadata-list-summary-item__t'})\n",
    "            for dt in div_title:\n",
    "                # this may need a more clever way of filtering if the wrong movie posters are getting pulled\n",
    "                if dt.text == clean_title or ',' in clean_title or True:\n",
    "                    full_page = tr.find('a')['href']\n",
    "                    full_page_html = requests.get(\n",
    "                        base_page_url+full_page, verify=False, headers=headers).content\n",
    "                    full_page_soup = bs4.BeautifulSoup(full_page_html, 'lxml')\n",
    "                    img = full_page_soup.find('img', {'class': 'ipc-image'})\n",
    "                    if img:\n",
    "                        if img['src']:\n",
    "                            response = requests.get(img['src'], verify=False)\n",
    "                            img_content = response.content\n",
    "                            with open('data/posters/'+str(movie_id)+'.jpg', 'wb') as f:\n",
    "                                print(f'writing image {clean_title}')\n",
    "                                f.write(img_content)\n",
    "                                return\n",
    "                        else:\n",
    "                            print('no image source found')\n",
    "                    else:\n",
    "                        print('no image found')\n",
    "                else:\n",
    "                    print(f'mismatching title and listed name: {dt.text} != {clean_title}')\n",
    "    except Exception as e:\n",
    "        print(e)\n",
    "\n"
   ]
  },
  {
   "cell_type": "code",
   "execution_count": null,
   "metadata": {},
   "outputs": [],
   "source": [
    "import pandas as pd\n",
    "\n",
    "# movie_rec.output_to_json()\n",
    "top30_input_filepath = 'data/top_rated_250.json'\n",
    "top30_filepath = 'recs-app/public/top_rated_movies30.archive.json'\n",
    "top30_df = pd.read_json(top30_input_filepath)\n",
    "top30_df = top30_df.T\n",
    "get_movie_id = lambda movie_name: movie_rec.movies_df[movie_rec.movies_df['name'] == movie_name].index.values[0]\n",
    "\n",
    "# Apply the lambda function to each row of the DataFrame to set the movie_id\n",
    "top30_df['movie_id'] = top30_df['title'].map(get_movie_id)\n",
    "top30_df.to_json(top30_filepath, orient=\"index\")\n",
    "for name in top30_df['title'][10:]:\n",
    "    pull_movie_poster(top30_df.loc[top30_df['title'] == name]['movie_id'].values[0])\n",
    "# print(top30_df.T)\n"
   ]
  },
  {
   "cell_type": "code",
   "execution_count": null,
   "metadata": {},
   "outputs": [],
   "source": [
    "g = movie_rec.get_movie_genres(1)\n",
    "print(g)"
   ]
  },
  {
   "cell_type": "code",
   "execution_count": null,
   "metadata": {},
   "outputs": [],
   "source": [
    "import numpy as np\n",
    "\n",
    "\n",
    "# return the difference between average ratings for two movies\n",
    "def get_movie_mean_rating_error(movie1_id: int, movie2_id: int):\n",
    "    movie1_ratings = np.mean(\n",
    "        movie_rec.ratings_df.loc[movie_rec.ratings_df.index == movie1_id]['rating'].values)\n",
    "    movie2_ratings = np.mean(\n",
    "        movie_rec.ratings_df.loc[movie_rec.ratings_df.index == movie2_id]['rating'].values)\n",
    "    return abs(movie1_ratings - movie2_ratings)\n",
    "\n",
    "\n",
    "# get_movie_mean_rating_error(599, 700)\n",
    "# movie_rec.get_movie_users(5)\n",
    "print(movie_rec.get_movie_title(1))\n",
    "print(movie_rec.get_movie_title(2))\n",
    "print(len(movie_rec.get_movie_users(1)))\n",
    "print(len(movie_rec.get_movie_users(2)))\n",
    "print(len(movie_rec.get_common_users(1, 2)))"
   ]
  },
  {
   "cell_type": "code",
   "execution_count": null,
   "metadata": {},
   "outputs": [],
   "source": [
    "def get_movie_rating_pearson_coeff(movie1_id: int, movie2_id: int)-> float:\n",
    "    common_users = movie_rec.get_common_users(movie1_id=movie1_id, movie2_id=movie2_id)\n",
    "    movie1_ratings = [movie_rec.get_user_movie_rating(user_id=u, movie_id=movie1_id) for u in common_users]\n",
    "    movie2_ratings = [movie_rec.get_user_movie_rating(user_id=u, movie_id=movie2_id) for u in common_users]\n",
    "    coeff = np.corrcoef(np.array(movie1_ratings), np.array(movie2_ratings))[0, 1]\n",
    "    movie1_title = movie_rec.get_movie_title(movie1_id)\n",
    "    movie2_title = movie_rec.get_movie_title(movie2_id)\n",
    "    print(f'{movie1_title} and {movie2_title} have a correlation of {\"{:.2f}\".format(coeff)} from {len(common_users)} users who have rated both')\n",
    "\n",
    "get_movie_rating_pearson_coeff(1, 3)"
   ]
  },
  {
   "cell_type": "code",
   "execution_count": null,
   "metadata": {},
   "outputs": [],
   "source": [
    "from urllib.parse import quote\n",
    "import requests\n",
    "import bs4\n",
    "\n",
    "movie_id = 1\n",
    "title = movie_rec.get_movie_title_with_year(movie_id)\n",
    "clean_title = movie_rec.get_movie_title(movie_id)\n",
    "base_url = 'https://imdb.com/find/?q='\n",
    "base_page_url = 'https://imdb.com'\n",
    "qs_title = quote(title)\n",
    "url = base_url + qs_title + '&ref_=nv_sr_sm'\n",
    "headers = requests.utils.default_headers()\n",
    "headers.update(\n",
    "    {\n",
    "        'User-Agent': 'My User Agent 1.0',\n",
    "    }\n",
    ")\n",
    "\n",
    "print(f'search page: {url}')\n",
    "html = requests.get(url, verify=False, headers=headers).content\n",
    "soup = bs4.BeautifulSoup(html, 'lxml')\n",
    "find_title_results = soup.find_all('li', {'class': 'find-title-result'})\n",
    "for tr in find_title_results:\n",
    "    div_title = tr.find_all('a', {'class': 'ipc-metadata-list-summary-item__t'})\n",
    "    for dt in div_title:\n",
    "        if dt.text == clean_title:\n",
    "            full_page = tr.find('a')['href']\n",
    "            full_page_html = requests.get(base_page_url+full_page, verify=False, headers=headers).content\n",
    "            full_page_soup = bs4.BeautifulSoup(full_page_html, 'lxml')\n",
    "            print(full_page_soup.prettify())\n",
    "            img = full_page_soup.find('img', {'class':'ipc-image'})\n",
    "            print(img['src'])\n",
    "            if img['src']:\n",
    "                response = requests.get(img['src'], verify=False)\n",
    "                img_content = response.content\n",
    "                with open('data/posters/'+str(movie_id)+'.jpg', 'wb') as f:\n",
    "                    f.write(img_content)\n",
    "            # img = tr.find('img')\n",
    "            # if img['src']:\n",
    "            #     print(img['src'])\n",
    "            #     response = requests.get(img['src'], verify=False)\n",
    "            #     img_content = response.content\n",
    "            #     with open('data/posters/'+str(movie_id)+'.jpg', 'wb') as f:\n",
    "            #         f.write(img_content)\n",
    "\n"
   ]
  }
 ],
 "metadata": {
  "kernelspec": {
   "display_name": "Python 3",
   "language": "python",
   "name": "python3"
  },
  "language_info": {
   "codemirror_mode": {
    "name": "ipython",
    "version": 3
   },
   "file_extension": ".py",
   "mimetype": "text/x-python",
   "name": "python",
   "nbconvert_exporter": "python",
   "pygments_lexer": "ipython3",
   "version": "3.10.4"
  },
  "orig_nbformat": 4
 },
 "nbformat": 4,
 "nbformat_minor": 2
}
