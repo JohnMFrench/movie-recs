{
 "cells": [
  {
   "cell_type": "code",
   "execution_count": 1,
   "metadata": {},
   "outputs": [
    {
     "name": "stdout",
     "output_type": "stream",
     "text": [
      "found pickle at c:\\Users\\john.french\\movie_recs\\data\\pickled\\movie_ratings.pkl\n",
      "  (0, 120)\t5.0\n",
      "  (0, 183)\t5.0\n",
      "  (0, 228)\t5.0\n",
      "  (0, 289)\t5.0\n",
      "  (0, 313)\t5.0\n",
      "  (0, 325)\t5.0\n",
      "  (0, 351)\t5.0\n",
      "  (0, 352)\t5.0\n",
      "  (0, 358)\t5.0\n",
      "  (0, 360)\t5.0\n",
      "  (0, 366)\t5.0\n",
      "  (0, 373)\t5.0\n",
      "  (0, 416)\t5.0\n",
      "  (0, 462)\t5.0\n",
      "  (0, 476)\t5.0\n",
      "  (0, 516)\t5.0\n",
      "  (0, 535)\t5.0\n",
      "  (0, 580)\t5.0\n",
      "  (0, 582)\t5.0\n",
      "  (0, 583)\t5.0\n",
      "  (0, 588)\t5.0\n",
      "  (0, 610)\t5.0\n",
      "  (1, 108)\t5.0\n",
      "  (1, 149)\t3.0\n",
      "  (1, 257)\t5.0\n",
      "  :\t:\n",
      "  (69877, 1546)\t2.0\n",
      "  (69877, 1633)\t3.0\n",
      "  (69877, 1657)\t1.0\n",
      "  (69877, 1661)\t4.0\n",
      "  (69877, 1684)\t3.0\n",
      "  (69877, 1700)\t3.0\n",
      "  (69877, 1719)\t2.0\n",
      "  (69877, 1729)\t4.0\n",
      "  (69877, 1752)\t3.0\n",
      "  (69877, 1792)\t3.0\n",
      "  (69877, 1825)\t2.0\n",
      "  (69877, 1833)\t4.0\n",
      "  (69877, 1836)\t4.0\n",
      "  (69877, 1898)\t1.0\n",
      "  (69877, 1899)\t1.0\n",
      "  (69877, 1900)\t1.0\n",
      "  (69877, 1901)\t1.0\n",
      "  (69877, 1902)\t1.0\n",
      "  (69877, 1928)\t3.0\n",
      "  (69877, 1944)\t5.0\n",
      "  (69877, 2023)\t1.0\n",
      "  (69877, 2042)\t2.0\n",
      "  (69877, 2210)\t5.0\n",
      "  (69877, 2254)\t2.0\n",
      "  (69877, 2300)\t2.0\n",
      "Top 5 users who are very much similar to the User- 1 are: \n",
      " \n",
      "1 . User: 25697 separated by distance of 0.4093584617331092\n",
      "2 . User: 20577 separated by distance of 0.44565560596361065\n",
      "3 . User: 6156 separated by distance of 0.46359176245775724\n",
      "4 . User: 25060 separated by distance of 0.4751821967780011\n",
      "5 . User: 61323 separated by distance of 0.4801513497976386\n"
     ]
    }
   ],
   "source": [
    "from movie_recommender import MovieRecommender\n",
    "import timeit"
   ]
  },
  {
   "cell_type": "code",
   "execution_count": 2,
   "metadata": {},
   "outputs": [
    {
     "name": "stdout",
     "output_type": "stream",
     "text": [
      "found pickle at c:\\Users\\john.french\\movie_recs\\data\\pickled\\movie_ratings.pkl\n",
      "  (0, 120)\t5.0\n",
      "  (0, 183)\t5.0\n",
      "  (0, 228)\t5.0\n",
      "  (0, 289)\t5.0\n",
      "  (0, 313)\t5.0\n",
      "  (0, 325)\t5.0\n",
      "  (0, 351)\t5.0\n",
      "  (0, 352)\t5.0\n",
      "  (0, 358)\t5.0\n",
      "  (0, 360)\t5.0\n",
      "  (0, 366)\t5.0\n",
      "  (0, 373)\t5.0\n",
      "  (0, 416)\t5.0\n",
      "  (0, 462)\t5.0\n",
      "  (0, 476)\t5.0\n",
      "  (0, 516)\t5.0\n",
      "  (0, 535)\t5.0\n",
      "  (0, 580)\t5.0\n",
      "  (0, 582)\t5.0\n",
      "  (0, 583)\t5.0\n",
      "  (0, 588)\t5.0\n",
      "  (0, 610)\t5.0\n",
      "  (1, 108)\t5.0\n",
      "  (1, 149)\t3.0\n",
      "  (1, 257)\t5.0\n",
      "  :\t:\n",
      "  (69877, 1546)\t2.0\n",
      "  (69877, 1633)\t3.0\n",
      "  (69877, 1657)\t1.0\n",
      "  (69877, 1661)\t4.0\n",
      "  (69877, 1684)\t3.0\n",
      "  (69877, 1700)\t3.0\n",
      "  (69877, 1719)\t2.0\n",
      "  (69877, 1729)\t4.0\n",
      "  (69877, 1752)\t3.0\n",
      "  (69877, 1792)\t3.0\n",
      "  (69877, 1825)\t2.0\n",
      "  (69877, 1833)\t4.0\n",
      "  (69877, 1836)\t4.0\n",
      "  (69877, 1898)\t1.0\n",
      "  (69877, 1899)\t1.0\n",
      "  (69877, 1900)\t1.0\n",
      "  (69877, 1901)\t1.0\n",
      "  (69877, 1902)\t1.0\n",
      "  (69877, 1928)\t3.0\n",
      "  (69877, 1944)\t5.0\n",
      "  (69877, 2023)\t1.0\n",
      "  (69877, 2042)\t2.0\n",
      "  (69877, 2210)\t5.0\n",
      "  (69877, 2254)\t2.0\n",
      "  (69877, 2300)\t2.0\n",
      "Read dataframes in 38.340137699851766ms\n",
      "69878\n"
     ]
    }
   ],
   "source": [
    "started = timeit.default_timer()\n",
    "movies_file = 'data/ml-10M100K/movies.dat'\n",
    "ratings_file = 'data/ml-10M100K/ratings.dat'\n",
    "movie_rec = MovieRecommender(movies_filename=movies_file, ratings_filename=ratings_file)\n",
    "elapsed = timeit.default_timer() - started\n",
    "print(f'Read dataframes in {elapsed}ms')\n",
    "\n",
    "print(movie_rec.ratings_df['user_id'].nunique())"
   ]
  },
  {
   "cell_type": "code",
   "execution_count": 9,
   "metadata": {},
   "outputs": [
    {
     "name": "stdout",
     "output_type": "stream",
     "text": [
      "User 2 has seen...\n",
      "Star Wars: Episode IV - A New Hope (a.k.a. Star Wars)\n",
      "Mission: Impossible\n",
      "Lost World: Jurassic Park, The (Jurassic Park 2)\n",
      "Independence Day (a.k.a. ID4)\n",
      "Eraser\n",
      "Rob Roy\n",
      "Ghost and the Darkness, The\n",
      "Sleepless in Seattle\n",
      "Phenomenon\n",
      "Willy Wonka & the Chocolate Factory\n",
      "Star Wars: Episode VI - Return of the Jedi\n",
      "Star Trek: First Contact\n",
      "Dances with Wolves\n",
      "Multiplicity\n",
      "Godfather, The\n",
      "Rock, The\n",
      "Twister\n",
      "Braveheart\n",
      "Mars Attacks!\n",
      "River Wild, The\n"
     ]
    }
   ],
   "source": [
    "u = 2\n",
    "print(f'User {u} has seen...')\n",
    "for m in movie_rec.get_user_movies(u):\n",
    "    print(movie_rec.get_movie_title(m))"
   ]
  },
  {
   "cell_type": "code",
   "execution_count": 10,
   "metadata": {},
   "outputs": [
    {
     "name": "stdout",
     "output_type": "stream",
     "text": [
      "Top 5 users who are very much similar to the User- 2 are: \n",
      " \n",
      "1 . User: 48761 separated by distance of 0.4456551862194902\n",
      "2 . User: 59801 separated by distance of 0.4637693686077883\n",
      "3 . User: 46549 separated by distance of 0.4822268317078031\n",
      "4 . User: 38590 separated by distance of 0.4899446008946575\n",
      "5 . User: 42710 separated by distance of 0.49034163221142435\n",
      "[0.18788655 0.19552343 0.20330502 0.20655881 0.20672619]\n",
      "[0. 0. 0. ... 0. 0. 0.]\n",
      "American Beauty\n",
      "Schindler's List\n",
      "Forrest Gump\n"
     ]
    }
   ],
   "source": [
    "# rec = movie_rec.get_naive_recommendation(user_id)\n",
    "movie_rec.get_user_based_recommendation(u)"
   ]
  },
  {
   "cell_type": "code",
   "execution_count": 7,
   "metadata": {},
   "outputs": [
    {
     "name": "stdout",
     "output_type": "stream",
     "text": [
      "Top 5 users who are very much similar to the User- 1 are: \n",
      " \n",
      "1 . User: 25697 separated by distance of 0.4093584617331092\n",
      "2 . User: 20577 separated by distance of 0.44565560596361065\n",
      "3 . User: 6156 separated by distance of 0.46359176245775724\n",
      "4 . User: 25060 separated by distance of 0.4751821967780011\n",
      "5 . User: 61323 separated by distance of 0.4801513497976386\n"
     ]
    }
   ],
   "source": [
    "users, dists = movie_rec.get_similar_users(u)\n",
    "# for rec_user in users:\n",
    "#     # print(f'{rec_user}\\'s movies')\n",
    "#     for m in movie_rec.get_user_movies(rec_user):\n",
    "#         # print(movie_rec.get_movie_title(m))\n",
    "\n",
    "# print(movie_rec.get_movie_title(20))\n",
    "# print(movie_rec.get_movie_title(25))\n",
    "# print(movie_rec.get_movie_title(50))"
   ]
  },
  {
   "cell_type": "code",
   "execution_count": 3,
   "metadata": {},
   "outputs": [
    {
     "data": {
      "text/html": [
       "<div>\n",
       "<style scoped>\n",
       "    .dataframe tbody tr th:only-of-type {\n",
       "        vertical-align: middle;\n",
       "    }\n",
       "\n",
       "    .dataframe tbody tr th {\n",
       "        vertical-align: top;\n",
       "    }\n",
       "\n",
       "    .dataframe thead th {\n",
       "        text-align: right;\n",
       "    }\n",
       "</style>\n",
       "<table border=\"1\" class=\"dataframe\">\n",
       "  <thead>\n",
       "    <tr style=\"text-align: right;\">\n",
       "      <th></th>\n",
       "      <th>user_id</th>\n",
       "      <th>rating</th>\n",
       "      <th>timestamp</th>\n",
       "    </tr>\n",
       "    <tr>\n",
       "      <th>movie_id</th>\n",
       "      <th></th>\n",
       "      <th></th>\n",
       "      <th></th>\n",
       "    </tr>\n",
       "  </thead>\n",
       "  <tbody>\n",
       "    <tr>\n",
       "      <th>122</th>\n",
       "      <td>1</td>\n",
       "      <td>5</td>\n",
       "      <td>838985046.0</td>\n",
       "    </tr>\n",
       "    <tr>\n",
       "      <th>185</th>\n",
       "      <td>1</td>\n",
       "      <td>5</td>\n",
       "      <td>838983525.0</td>\n",
       "    </tr>\n",
       "    <tr>\n",
       "      <th>231</th>\n",
       "      <td>1</td>\n",
       "      <td>5</td>\n",
       "      <td>838983392.0</td>\n",
       "    </tr>\n",
       "    <tr>\n",
       "      <th>292</th>\n",
       "      <td>1</td>\n",
       "      <td>5</td>\n",
       "      <td>838983421.0</td>\n",
       "    </tr>\n",
       "    <tr>\n",
       "      <th>316</th>\n",
       "      <td>1</td>\n",
       "      <td>5</td>\n",
       "      <td>838983392.0</td>\n",
       "    </tr>\n",
       "  </tbody>\n",
       "</table>\n",
       "</div>"
      ],
      "text/plain": [
       "          user_id  rating    timestamp\n",
       "movie_id                              \n",
       "122             1       5  838985046.0\n",
       "185             1       5  838983525.0\n",
       "231             1       5  838983392.0\n",
       "292             1       5  838983421.0\n",
       "316             1       5  838983392.0"
      ]
     },
     "execution_count": 3,
     "metadata": {},
     "output_type": "execute_result"
    }
   ],
   "source": [
    "user_id = movie_rec.get_next_avail_user_id()\n",
    "# movie_rec.add_movie_rating(movie_id=1, user_id= user_id, rating= 5) # Toy Story\n",
    "# movie_rec.add_movie_rating(movie_id=2, user_id= user_id, rating= 5) # Jumanji\n",
    "# movie_rec.add_movie_rating(movie_id=48, user_id= user_id, rating= 5) # Pocahontas\n",
    "movie_rec.add_movie_rating(movie_id=20, user_id= user_id, rating= 5) # Money Train\n",
    "movie_rec.add_movie_rating(movie_id=25, user_id= user_id, rating= 5) # Leaving Las Vegas\n",
    "movie_rec.add_movie_rating(movie_id=50, user_id= user_id, rating= 5) # The Usual Suspects\n",
    "movie_rec.ratings_df.head()"
   ]
  },
  {
   "cell_type": "code",
   "execution_count": null,
   "metadata": {},
   "outputs": [],
   "source": [
    "import numpy as np\n",
    "\n",
    "\n",
    "# return the difference between average ratings for two movies\n",
    "def get_movie_mean_rating_error(movie1_id: int, movie2_id: int):\n",
    "    movie1_ratings = np.mean(\n",
    "        movie_rec.ratings_df.loc[movie_rec.ratings_df.index == movie1_id]['rating'].values)\n",
    "    movie2_ratings = np.mean(\n",
    "        movie_rec.ratings_df.loc[movie_rec.ratings_df.index == movie2_id]['rating'].values)\n",
    "    return abs(movie1_ratings - movie2_ratings)\n",
    "\n",
    "\n",
    "# get_movie_mean_rating_error(599, 700)\n",
    "# movie_rec.get_movie_users(5)\n",
    "print(movie_rec.get_movie_title(1))\n",
    "print(movie_rec.get_movie_title(2))\n",
    "print(len(movie_rec.get_movie_users(1)))\n",
    "print(len(movie_rec.get_movie_users(2)))\n",
    "print(len(movie_rec.get_common_users(1, 2)))"
   ]
  },
  {
   "cell_type": "code",
   "execution_count": null,
   "metadata": {},
   "outputs": [],
   "source": [
    "def get_movie_rating_pearson_coeff(movie1_id: int, movie2_id: int)-> float:\n",
    "    common_users = movie_rec.get_common_users(movie1_id=movie1_id, movie2_id=movie2_id)\n",
    "    movie1_ratings = [movie_rec.get_user_movie_rating(user_id=u, movie_id=movie1_id) for u in common_users]\n",
    "    movie2_ratings = [movie_rec.get_user_movie_rating(user_id=u, movie_id=movie2_id) for u in common_users]\n",
    "    coeff = np.corrcoef(np.array(movie1_ratings), np.array(movie2_ratings))[0, 1]\n",
    "    movie1_title = movie_rec.get_movie_title(movie1_id)\n",
    "    movie2_title = movie_rec.get_movie_title(movie2_id)\n",
    "    print(f'{movie1_title} and {movie2_title} have a correlation of {\"{:.2f}\".format(coeff)} from {len(common_users)} users who have rated both')\n",
    "\n",
    "get_movie_rating_pearson_coeff(1, 3)"
   ]
  }
 ],
 "metadata": {
  "kernelspec": {
   "display_name": "Python 3",
   "language": "python",
   "name": "python3"
  },
  "language_info": {
   "codemirror_mode": {
    "name": "ipython",
    "version": 3
   },
   "file_extension": ".py",
   "mimetype": "text/x-python",
   "name": "python",
   "nbconvert_exporter": "python",
   "pygments_lexer": "ipython3",
   "version": "3.10.5"
  },
  "orig_nbformat": 4
 },
 "nbformat": 4,
 "nbformat_minor": 2
}
