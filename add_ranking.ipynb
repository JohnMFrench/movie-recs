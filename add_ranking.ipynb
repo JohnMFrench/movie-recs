{
 "cells": [
  {
   "cell_type": "code",
   "execution_count": null,
   "metadata": {},
   "outputs": [],
   "source": [
    "import pandas as pd"
   ]
  },
  {
   "cell_type": "code",
   "execution_count": null,
   "metadata": {},
   "outputs": [],
   "source": [
    "filepath = 'data/metadata/top_rated_1000_new_strings.json'\n",
    "# Load the JSON file into a DataFrame\n",
    "df = pd.read_json(filepath)\n",
    "\n",
    "# Sort the DataFrame by num_ratings in descending order\n",
    "df = df.sort_values(by='num_ratings', ascending=False)\n",
    "\n",
    "# Add a \"ranking\" column to the DataFrame\n",
    "df['ranking'] = range(1, len(df) + 1)\n",
    "\n",
    "# Print the resulting DataFrame\n",
    "for i in df.index:\n",
    "    print(df.iloc[i]['ranking'], df.iloc[i]['name'])\n",
    "\n",
    "df.to_json(filepath, orient='records')"
   ]
  }
 ],
 "metadata": {
  "kernelspec": {
   "display_name": "Python 3",
   "language": "python",
   "name": "python3"
  },
  "language_info": {
   "codemirror_mode": {
    "name": "ipython",
    "version": 3
   },
   "file_extension": ".py",
   "mimetype": "text/x-python",
   "name": "python",
   "nbconvert_exporter": "python",
   "pygments_lexer": "ipython3",
   "version": "3.10.5"
  },
  "orig_nbformat": 4
 },
 "nbformat": 4,
 "nbformat_minor": 2
}
