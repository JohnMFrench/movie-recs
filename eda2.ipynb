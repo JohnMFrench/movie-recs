{
 "cells": [
  {
   "cell_type": "code",
   "execution_count": 120,
   "metadata": {},
   "outputs": [],
   "source": [
    "import timeit\n",
    "import pandas as pd\n",
    "import os\n",
    "import numpy as np"
   ]
  },
  {
   "cell_type": "code",
   "execution_count": 121,
   "metadata": {},
   "outputs": [],
   "source": [
    "movies_file = 'data/ml-10M100K/movies.dat'\n",
    "ratings_file = 'data/ml-10M100K/ratings.dat'\n",
    "\n",
    "\n",
    "# set static variables\n",
    "_pickle_dir = os.path.join(os.path.dirname(\n",
    "    os.path.abspath('eda2.ipynb')), 'data\\pickled')\n",
    "\n",
    "# set appropriate paths for pickle files\n",
    "_ratings_pickle_filename = 'movie_ratings.pkl'\n",
    "ratings_pickle_path = os.path.join(_pickle_dir, _ratings_pickle_filename)\n",
    "_movies_pickle_filename = 'movies.pkl'\n",
    "movies_pickle_path = os.path.join(_pickle_dir, _movies_pickle_filename)\n",
    "\n",
    "# try to load from pickle if available\n",
    "try:\n",
    "    # load movies df from pickle if it exists\n",
    "    if os.path.exists(movies_pickle_path):\n",
    "        movies_df = pd.read_pickle(movies_pickle_path)\n",
    "    else :\n",
    "        movies_df = pd.read_csv(movies_file, engine='python', encoding='utf-8',\n",
    "                                        sep='::', header=None, names=['movie_id', 'name', 'genres'],\n",
    "                                        index_col='movie_id', dtype={'movie_id': np.int32, 'name': np.chararray, 'genres': np.chararray})\n",
    "\n",
    "    # load ratings df from pickle if it exists\n",
    "    if os.path.exists(ratings_pickle_path):\n",
    "        ratings_df = pd.read_pickle(ratings_pickle_path)\n",
    "    else:\n",
    "        ratings_df = pd.read_csv(ratings_file, engine='python', encoding='utf-8',\n",
    "                                        sep='::', header=None, names=['user_id', 'movie_id', 'rating', 'timestamp'],\n",
    "                                        index_col='movie_id', dtype={'user_id': np.int32, 'movie_id': np.int32, 'rating': np.int32, 'timestamp': np.float64})\n",
    "# catch exceptions\n",
    "except Exception as e:\n",
    "    print(e)\n"
   ]
  },
  {
   "cell_type": "code",
   "execution_count": 122,
   "metadata": {},
   "outputs": [
    {
     "name": "stdout",
     "output_type": "stream",
     "text": [
      "                      name                                       genres  year  \\\n",
      "movie_id                                                                        \n",
      "1         Toy Story (1995)  Adventure|Animation|Children|Comedy|Fantasy  1995   \n",
      "1         Toy Story (1995)  Adventure|Animation|Children|Comedy|Fantasy  1995   \n",
      "1         Toy Story (1995)  Adventure|Animation|Children|Comedy|Fantasy  1995   \n",
      "1         Toy Story (1995)  Adventure|Animation|Children|Comedy|Fantasy  1995   \n",
      "1         Toy Story (1995)  Adventure|Animation|Children|Comedy|Fantasy  1995   \n",
      "\n",
      "          user_id  rating     timestamp  \n",
      "movie_id                                 \n",
      "1               5       1  8.579113e+08  \n",
      "1              14       3  1.133572e+09  \n",
      "1              18       3  1.111546e+09  \n",
      "1              23       5  8.495435e+08  \n",
      "1              24       5  8.682542e+08  \n"
     ]
    },
    {
     "data": {
      "text/plain": [
       "Text(0, 0.5, 'Frequency')"
      ]
     },
     "execution_count": 122,
     "metadata": {},
     "output_type": "execute_result"
    },
    {
     "data": {
      "image/png": "[encoded data removed]",
      "text/plain": [
       "<Figure size 640x480 with 1 Axes>"
      ]
     },
     "metadata": {},
     "output_type": "display_data"
    }
   ],
   "source": [
    "import re\n",
    "import matplotlib.pyplot as plt\n",
    "\n",
    "def extract_year(name):\n",
    "    pattern = r'\\((\\d{4})\\)'\n",
    "    match = re.search(pattern, name)\n",
    "    if match:\n",
    "        return int(match.group(1))\n",
    "    else:\n",
    "        return None\n",
    "\n",
    "movies_df['year'] = movies_df['name'].apply(extract_year)\n",
    "stats_df = pd.merge(movies_df, ratings_df, how='inner', on='movie_id')\n",
    "print(stats_df.head())\n",
    "\n",
    "years = movies_df['year'].values\n",
    "\n",
    "pd.Series(years).hist(bins=50)\n",
    "\n",
    "# set the plot title and axis labels\n",
    "plt.title('Year Distribution')\n",
    "plt.xlabel('Year')\n",
    "plt.ylabel('Frequency')\n",
    "\n",
    "# show the plot\n",
    "# plt.show()\n"
   ]
  },
  {
   "cell_type": "code",
   "execution_count": 124,
   "metadata": {},
   "outputs": [
    {
     "name": "stdout",
     "output_type": "stream",
     "text": [
      "{2048, 1, 2, 2050, 2051, 2052, 2054, 2053, 8, 2057, 2056, 2059, 13, 6158, 45074, 2039, 47124, 6169, 6170, 2077, 2078, 8221, 2080, 2081, 34, 2082, 2083, 2085, 26662, 2087, 2042, 2089, 2090, 2091, 2092, 2093, 2095, 48, 2097, 2096, 2099, 2098, 63540, 54, 2102, 2103, 56, 4154, 60, 2116, 30793, 2123, 80, 87, 6232, 2137, 2138, 2139, 2140, 2141, 2142, 4188, 2152, 6251, 107, 59501, 2161, 2162, 6259, 49274, 126, 4232, 4241, 146, 45208, 6297, 158, 47264, 8360, 169, 26792, 6316, 8368, 8372, 181, 6332, 6338, 61634, 4294, 26828, 6350, 4306, 53460, 2079, 6371, 8423, 6377, 238, 239, 241, 244, 2294, 2084, 6391, 250, 258, 6405, 262, 4366, 6414, 6427, 4386, 8487, 2354, 2355, 31030, 313, 314, 8525, 2384, 6173, 6485, 8534, 343, 8537, 2399, 2400, 355, 362, 364, 63859, 33140, 374, 45431, 8572, 2430, 8574, 59784, 6536, 39307, 2449, 47516, 6557, 6559, 8224, 8612, 421, 6566, 4519, 8616, 455, 45517, 31193, 50162, 6624, 6625, 484, 49642, 49647, 51698, 502, 31223, 2559, 2566, 8713, 531, 47642, 546, 551, 43560, 558, 27186, 8759, 8761, 8762, 8763, 575, 577, 6724, 586, 4683, 588, 594, 595, 596, 6747, 41566, 609, 6753, 616, 47721, 631, 8829, 2687, 641, 6793, 6794, 4748, 4749, 6798, 4750, 8850, 55955, 661, 2709, 2720, 673, 60069, 8883, 47805, 31422, 55999, 709, 711, 2761, 8907, 4822, 6871, 31447, 8929, 51939, 8934, 8935, 745, 6889, 60141, 8942, 2800, 8944, 754, 755, 2804, 58105, 8961, 8965, 2828, 8974, 783, 8978, 4886, 6936, 2846, 4896, 801, 6946, 64288, 6951, 808, 810, 9004, 6958, 828, 2876, 31555, 837, 2886, 840, 2889, 58185, 33615, 2899, 56152, 43869, 33639, 56176, 881, 885, 888, 4990, 60289, 7045, 2953, 33681, 7059, 917, 43926, 919, 2968, 62376, 2987, 5038, 58299, 48061, 31687, 5076, 31700, 986, 3034, 37857, 5092, 50149, 5099, 58347, 1005, 3054, 1007, 46062, 1009, 1010, 1011, 1012, 1013, 1014, 1015, 1016, 1017, 1018, 1019, 7164, 1021, 1022, 1023, 1024, 1025, 1026, 7166, 1028, 1029, 1030, 1031, 1032, 1033, 54278, 7174, 48159, 5159, 1064, 3114, 5164, 1073, 7224, 27706, 52287, 60487, 1097, 7247, 27731, 3157, 3159, 7262, 5218, 5109, 3189, 1148, 3213, 27790, 38038, 7345, 5311, 44225, 1223, 5320, 7369, 7374, 3287, 5362, 46337, 1282, 3332, 62729, 5389, 3345, 7446, 48414, 32031, 5419, 3388, 32062, 5444, 3396, 3397, 3398, 3400, 3399, 5448, 5452, 1359, 5458, 5460, 3412, 1367, 5472, 5480, 5482, 3438, 3439, 3440, 44399, 5504, 48522, 1426, 40339, 32153, 3483, 5538, 5539, 50601, 1460, 1474, 1489, 1495, 5591, 5601, 26084, 3564, 54768, 5618, 1525, 5629, 1538, 1547, 1551, 34321, 26133, 62999, 3611, 34332, 1566, 3615, 32289, 26152, 5672, 36397, 1582, 1583, 5683, 1588, 1592, 1595, 7743, 3647, 65088, 56915, 26198, 3672, 3673, 3674, 7774, 32352, 1646, 7790, 1654, 5765, 48791, 1688, 59037, 1702, 3751, 7847, 3754, 1707, 5804, 3759, 1713, 5816, 50872, 3775, 3776, 1739, 1750, 3799, 3820, 42734, 5882, 5892, 63237, 63239, 1806, 1812, 1822, 1826, 7985, 1843, 1848, 34624, 5958, 8015, 5971, 1881, 63329, 46948, 5990, 3945, 1907, 3964, 1919, 1920, 3969, 53121, 3974, 26504, 40851, 3988, 44949, 3990, 3991, 6050, 6052, 4006, 6054, 1967, 4016, 4039, 6093, 2005, 4057, 2014, 2015, 2016, 2017, 2018, 8169, 4075, 2031, 2032, 2033, 2035, 2036, 2037, 2038, 4087, 2040, 2041, 4090, 2043, 2045, 2046, 2047}\n",
      "(10677, 69878)\n"
     ]
    }
   ],
   "source": [
    "# drop indexes from movies_df\n",
    "movies_df.reset_index(inplace=True)\n",
    "ratings_df.reset_index(inplace=True)\n",
    "\n",
    "# merge dataframes using inner join\n",
    "merged_df = pd.merge(ratings_df, movies_df, how=\"inner\", on=\"movie_id\")\n",
    "merged_df.head()\n",
    "\n",
    "# make a set of movie_id where movie has Children genre\n",
    "children_movie_ids = set(merged_df.loc[merged_df['genres'].str.contains('Children', na=False), 'movie_id'])\n",
    "print(children_movie_ids)\n",
    "\n",
    "# drop unnecessary columns for performance\n",
    "merged_df.drop(['timestamp', 'genres'], axis=1, inplace=True)\n",
    "\n",
    "merged_df = merged_df.groupby(\n",
    "    by=['movie_id', 'user_id'], as_index=False).agg({\"rating\": \"mean\"})\n",
    "\n",
    "merged_df = merged_df.pivot(index='movie_id', columns='user_id', values='rating').fillna(0)\n",
    "\n",
    "print(merged_df.shape)\n"
   ]
  },
  {
   "cell_type": "code",
   "execution_count": null,
   "metadata": {},
   "outputs": [],
   "source": [
    "from scipy.sparse import csr_matrix\n",
    "from sklearn.neighbors import NearestNeighbors\n",
    "\n",
    "sparse_item_df = csr_matrix(merged_df.values)\n",
    "model = NearestNeighbors(metric='cosine', algorithm='brute')\n",
    "model.fit(sparse_item_df)\n",
    "\n",
    "for i in range(0,10):\n",
    "    weights, neighbors = model.kneighbors([merged_df.iloc[i]], n_neighbors=50)\n",
    "    neighbors = neighbors[0]\n",
    "    for idx, n in enumerate(neighbors[1:4]):\n",
    "        print(movies_df.iloc[i]['name'], movies_df.iloc[n]['name'], weights[0][idx])\n",
    "\n"
   ]
  }
 ],
 "metadata": {
  "kernelspec": {
   "display_name": "Python 3",
   "language": "python",
   "name": "python3"
  },
  "language_info": {
   "codemirror_mode": {
    "name": "ipython",
    "version": 3
   },
   "file_extension": ".py",
   "mimetype": "text/x-python",
   "name": "python",
   "nbconvert_exporter": "python",
   "pygments_lexer": "ipython3",
   "version": "3.10.5"
  },
  "orig_nbformat": 4,
  "vscode": {
   "interpreter": {
    "hash": "26de051ba29f2982a8de78e945f0abaf191376122a1563185a90213a26c5da77"
   }
  }
 },
 "nbformat": 4,
 "nbformat_minor": 2
}
